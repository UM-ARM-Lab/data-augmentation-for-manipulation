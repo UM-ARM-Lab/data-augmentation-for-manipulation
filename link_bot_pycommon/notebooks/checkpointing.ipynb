{
 "cells": [
  {
   "cell_type": "code",
   "execution_count": 1,
   "metadata": {},
   "outputs": [],
   "source": [
    "# Testing how TF Checkpoints work\n",
    "\n",
    "import tensorflow as tf\n",
    "from tensorflow.keras import layers, Sequential\n",
    "import numpy as np\n",
    "np.set_printoptions(precision=3, suppress=True)"
   ]
  },
  {
   "cell_type": "code",
   "execution_count": 2,
   "metadata": {},
   "outputs": [],
   "source": [
    "x = tf.ones([6,1])"
   ]
  },
  {
   "cell_type": "code",
   "execution_count": 3,
   "metadata": {},
   "outputs": [],
   "source": [
    "class CFM(tf.keras.Model):\n",
    "\n",
    "    def __init__(self):\n",
    "        super().__init__()\n",
    "        self.encoder = Encoder()\n",
    "        self.dynamics = LocallyLinearPredictor()\n",
    "        self.observer = Observer()\n",
    "\n",
    "    def call(self, x):\n",
    "        # forward pass\n",
    "        z, z_pos = self.encoder(x), self.encoder(x)  # b x z_dim\n",
    "        z_seq = self.dynamics(z)\n",
    "        y_seq = self.observer(z_pos)\n",
    "        return z_seq, y_seq\n",
    "\n",
    "class Encoder(tf.keras.Model):\n",
    "\n",
    "    def __init__(self):\n",
    "        super().__init__()\n",
    "        self.encoder_sequtial = Sequential([\n",
    "            layers.Conv2D(filters=64, kernel_size=3),\n",
    "            layers.LeakyReLU(0.2),\n",
    "            layers.Conv2D(filters=64, kernel_size=4, strides=2),\n",
    "            layers.LeakyReLU(0.2),\n",
    "            # 64 x 32 x 32\n",
    "            layers.Conv2D(filters=64, kernel_size=3, strides=1),\n",
    "            layers.LeakyReLU(0.2),\n",
    "            layers.Conv2D(filters=128, kernel_size=4, strides=2),\n",
    "            layers.LeakyReLU(0.2),\n",
    "            # 128 x 16 x 16\n",
    "            layers.Conv2D(filters=256, kernel_size=4, strides=2),\n",
    "            layers.LeakyReLU(0.2),\n",
    "            # Option 1: 256 x 8 x 8\n",
    "            layers.Conv2D(filters=256, kernel_size=4, strides=2),\n",
    "            layers.LeakyReLU(0.2),\n",
    "            # 256 x 4 x 4\n",
    "        ], name='encoder_sequential')\n",
    "        self.z_dim = 32\n",
    "        self.out = layers.Dense(self.z_dim)\n",
    "\n",
    "    # @tf.function\n",
    "    def call(self, x):\n",
    "        h = self.encoder_sequtial(x)\n",
    "        z = self.out(h)\n",
    "        return z\n",
    "\n",
    "class LocallyLinearPredictor(tf.keras.Model):\n",
    "\n",
    "    def __init__(self):\n",
    "        super().__init__()\n",
    "        self.z_dim = 32\n",
    "\n",
    "        my_layers = []\n",
    "        for h in [32,32]:\n",
    "            my_layers.append(layers.Dense(h, activation=\"relu\"))\n",
    "        my_layers.append(layers.Dense(self.z_dim * self.z_dim, activation=None))\n",
    "\n",
    "        self.dynamics_sequential = Sequential(my_layers, name='predictor_sequential')\n",
    "\n",
    "    # @tf.function\n",
    "    def call(self, x):\n",
    "        z = self.dynamics_sequential(x)\n",
    "        return z\n",
    "\n",
    "\n",
    "class Observer(tf.keras.Model):\n",
    "\n",
    "    def __init__(self):\n",
    "        super().__init__()\n",
    "        my_layers = []\n",
    "        for h in [32,32]:\n",
    "            my_layers.append(layers.Dense(h, activation=\"relu\"))\n",
    "        final_dim = 16\n",
    "        my_layers.append(layers.Dense(final_dim, activation=None))\n",
    "\n",
    "        self.observer_sequential = Sequential(my_layers, name='observer_sequential')\n",
    "\n",
    "    # @tf.function\n",
    "    def call(self, x):\n",
    "        y = self.observer_sequential(x)\n",
    "        return y\n"
   ]
  },
  {
   "cell_type": "code",
   "execution_count": 4,
   "metadata": {},
   "outputs": [],
   "source": [
    "class MyModel(tf.keras.layers.Layer):\n",
    "    \n",
    "    def __init__(self):\n",
    "        super().__init__(self)\n",
    "        self.encoder = Encoder()\n",
    "        \n",
    "    def call(self, x):\n",
    "        return self.encoder(x)\n",
    "        \n",
    "class Encoder(tf.keras.layers.Layer):\n",
    "    \n",
    "    def __init__(self):\n",
    "        super().__init__(self)\n",
    "        self.s = tf.keras.Sequential([tf.keras.layers.Dense(10), tf.keras.layers.Dense(10)])\n",
    "        \n",
    "    def call(self, x):\n",
    "        return self.s(x)"
   ]
  },
  {
   "cell_type": "code",
   "execution_count": 5,
   "metadata": {},
   "outputs": [],
   "source": [
    "# model = MyModel()\n",
    "model = CFM()\n",
    "_ = model(x)"
   ]
  },
  {
   "cell_type": "code",
   "execution_count": 6,
   "metadata": {},
   "outputs": [
    {
     "data": {
      "text/plain": [
       "'ckpt-1'"
      ]
     },
     "execution_count": 6,
     "metadata": {},
     "output_type": "execute_result"
    }
   ],
   "source": [
    "ckpt = tf.train.Checkpoint(kwd=model)\n",
    "ckpt.save(\"my-ckpt\")"
   ]
  },
  {
   "cell_type": "code",
   "execution_count": 7,
   "metadata": {},
   "outputs": [
    {
     "name": "stdout",
     "output_type": "stream",
     "text": [
      "[-0.315 -0.362 -0.403  0.395 -0.529 -0.439 -0.302  0.34  -0.134 -0.554] (1, 10)\n",
      "0.0 (10,)\n",
      "[-0.529  0.374 -0.391  0.094  0.437 -0.17  -0.141 -0.031 -0.21   0.52 ] (10, 10)\n",
      "0.0 (10,)\n",
      "[ 0.059 -0.183 -0.298  0.036  0.229 -0.105  0.265  0.365 -0.113 -0.013\n",
      " -0.193 -0.326  0.301  0.343  0.342  0.12   0.294  0.186 -0.038  0.062\n",
      " -0.154 -0.333  0.064  0.004 -0.268  0.041  0.223 -0.012  0.371 -0.158\n",
      " -0.15  -0.357] (10, 32)\n",
      "0.0 (32,)\n",
      "[-0.204 -0.065  0.051  0.077 -0.087  0.113  0.2    0.167 -0.129 -0.15\n",
      "  0.036 -0.118  0.236 -0.067 -0.109  0.249  0.28   0.286 -0.297  0.175\n",
      "  0.24   0.172 -0.237  0.08   0.161 -0.041 -0.161  0.283 -0.006 -0.114\n",
      " -0.056 -0.031] (32, 32)\n",
      "0.0 (32,)\n",
      "[-0.037  0.001 -0.067 ... -0.044  0.012  0.043] (32, 1024)\n",
      "0.0 (1024,)\n",
      "[-0.188 -0.223 -0.267 -0.232  0.072  0.02   0.37  -0.155  0.259 -0.035\n",
      " -0.253  0.068 -0.354  0.191  0.033 -0.162 -0.309 -0.256 -0.22  -0.261\n",
      " -0.311  0.268  0.203  0.126  0.158  0.358 -0.128 -0.183  0.318 -0.215\n",
      "  0.289 -0.001] (10, 32)\n",
      "0.0 (32,)\n",
      "[ 0.069  0.202 -0.157  0.262 -0.282 -0.236  0.018  0.002 -0.088  0.112\n",
      "  0.204  0.163 -0.044 -0.192 -0.135 -0.009  0.235 -0.047  0.255 -0.274\n",
      " -0.056  0.198  0.306 -0.264  0.263 -0.207 -0.221  0.058 -0.066 -0.196\n",
      "  0.244  0.093] (32, 32)\n",
      "0.0 (32,)\n",
      "[-0.013  0.253 -0.245 -0.075  0.11   0.082  0.009  0.296  0.252 -0.11\n",
      "  0.108  0.125 -0.082  0.329  0.254  0.003] (32, 16)\n",
      "0.0 (16,)\n"
     ]
    }
   ],
   "source": [
    "w = model.get_weights()\n",
    "for w_i in w:\n",
    "    print(w_i[0], w_i.shape)"
   ]
  },
  {
   "cell_type": "code",
   "execution_count": 8,
   "metadata": {},
   "outputs": [],
   "source": [
    "# model2 = MyModel()\n",
    "model2 = CFM()"
   ]
  },
  {
   "cell_type": "code",
   "execution_count": 9,
   "metadata": {},
   "outputs": [],
   "source": [
    "ckpt2 = tf.train.Checkpoint(kwd=model2)\n",
    "status = ckpt2.restore(\"my-ckpt-1\")\n",
    "_ = model2(x)"
   ]
  },
  {
   "cell_type": "code",
   "execution_count": 10,
   "metadata": {},
   "outputs": [
    {
     "name": "stdout",
     "output_type": "stream",
     "text": [
      "[-0.315 -0.362 -0.403  0.395 -0.529 -0.439 -0.302  0.34  -0.134 -0.554] (1, 10)\n",
      "0.0 (10,)\n",
      "[-0.529  0.374 -0.391  0.094  0.437 -0.17  -0.141 -0.031 -0.21   0.52 ] (10, 10)\n",
      "0.0 (10,)\n",
      "[ 0.059 -0.183 -0.298  0.036  0.229 -0.105  0.265  0.365 -0.113 -0.013\n",
      " -0.193 -0.326  0.301  0.343  0.342  0.12   0.294  0.186 -0.038  0.062\n",
      " -0.154 -0.333  0.064  0.004 -0.268  0.041  0.223 -0.012  0.371 -0.158\n",
      " -0.15  -0.357] (10, 32)\n",
      "0.0 (32,)\n",
      "[-0.204 -0.065  0.051  0.077 -0.087  0.113  0.2    0.167 -0.129 -0.15\n",
      "  0.036 -0.118  0.236 -0.067 -0.109  0.249  0.28   0.286 -0.297  0.175\n",
      "  0.24   0.172 -0.237  0.08   0.161 -0.041 -0.161  0.283 -0.006 -0.114\n",
      " -0.056 -0.031] (32, 32)\n",
      "0.0 (32,)\n",
      "[-0.037  0.001 -0.067 ... -0.044  0.012  0.043] (32, 1024)\n",
      "0.0 (1024,)\n",
      "[-0.188 -0.223 -0.267 -0.232  0.072  0.02   0.37  -0.155  0.259 -0.035\n",
      " -0.253  0.068 -0.354  0.191  0.033 -0.162 -0.309 -0.256 -0.22  -0.261\n",
      " -0.311  0.268  0.203  0.126  0.158  0.358 -0.128 -0.183  0.318 -0.215\n",
      "  0.289 -0.001] (10, 32)\n",
      "0.0 (32,)\n",
      "[ 0.069  0.202 -0.157  0.262 -0.282 -0.236  0.018  0.002 -0.088  0.112\n",
      "  0.204  0.163 -0.044 -0.192 -0.135 -0.009  0.235 -0.047  0.255 -0.274\n",
      " -0.056  0.198  0.306 -0.264  0.263 -0.207 -0.221  0.058 -0.066 -0.196\n",
      "  0.244  0.093] (32, 32)\n",
      "0.0 (32,)\n",
      "[-0.013  0.253 -0.245 -0.075  0.11   0.082  0.009  0.296  0.252 -0.11\n",
      "  0.108  0.125 -0.082  0.329  0.254  0.003] (32, 16)\n",
      "0.0 (16,)\n"
     ]
    }
   ],
   "source": [
    "w = model2.get_weights()\n",
    "for w_i in w:\n",
    "    print(w_i[0], w_i.shape)"
   ]
  },
  {
   "cell_type": "code",
   "execution_count": 11,
   "metadata": {},
   "outputs": [
    {
     "data": {
      "text/plain": [
       "<tensorflow.python.training.tracking.util.CheckpointLoadStatus at 0x7f07001486a0>"
      ]
     },
     "execution_count": 11,
     "metadata": {},
     "output_type": "execute_result"
    }
   ],
   "source": [
    "status.assert_consumed()"
   ]
  },
  {
   "cell_type": "code",
   "execution_count": null,
   "metadata": {},
   "outputs": [],
   "source": []
  },
  {
   "cell_type": "code",
   "execution_count": null,
   "metadata": {},
   "outputs": [],
   "source": []
  }
 ],
 "metadata": {
  "kernelspec": {
   "display_name": "Python 3",
   "language": "python",
   "name": "python3"
  },
  "language_info": {
   "codemirror_mode": {
    "name": "ipython",
    "version": 3
   },
   "file_extension": ".py",
   "mimetype": "text/x-python",
   "name": "python",
   "nbconvert_exporter": "python",
   "pygments_lexer": "ipython3",
   "version": "3.8.5"
  }
 },
 "nbformat": 4,
 "nbformat_minor": 4
}
