{
 "cells": [
  {
   "cell_type": "code",
   "execution_count": 1,
   "metadata": {},
   "outputs": [],
   "source": [
    "# Testing how TF Checkpoints work\n",
    "\n",
    "import tensorflow as tf\n",
    "import numpy as np\n",
    "np.set_printoptions(precision=3, suppress=True)"
   ]
  },
  {
   "cell_type": "code",
   "execution_count": 2,
   "metadata": {},
   "outputs": [],
   "source": [
    "x = tf.ones([6,1])"
   ]
  },
  {
   "cell_type": "code",
   "execution_count": null,
   "metadata": {},
   "outputs": [],
   "source": []
  },
  {
   "cell_type": "code",
   "execution_count": 3,
   "metadata": {},
   "outputs": [],
   "source": [
    "class MyModel(tf.keras.Model):\n",
    "    \n",
    "    def __init__(self):\n",
    "        super().__init__(self)\n",
    "        self.encoder = Encoder()\n",
    "        \n",
    "    def __call__(self, x):\n",
    "        return self.encoder(x)\n",
    "        \n",
    "class Encoder(tf.keras.Model):\n",
    "    \n",
    "    def __init__(self):\n",
    "        super().__init__(self)\n",
    "        self.s = tf.keras.Sequential([tf.keras.layers.Dense(10), tf.keras.layers.Dense(10)])\n",
    "        \n",
    "    def __call__(self, x):\n",
    "        return self.s(x)\n",
    "        \n",
    "model = MyModel()\n",
    "_ = model(x)"
   ]
  },
  {
   "cell_type": "code",
   "execution_count": 4,
   "metadata": {},
   "outputs": [
    {
     "data": {
      "text/plain": [
       "'ckpt-1'"
      ]
     },
     "execution_count": 4,
     "metadata": {},
     "output_type": "execute_result"
    }
   ],
   "source": [
    "ckpt = tf.train.Checkpoint(kwd=model)\n",
    "ckpt.save(\"ckpt\")"
   ]
  },
  {
   "cell_type": "code",
   "execution_count": 5,
   "metadata": {},
   "outputs": [
    {
     "name": "stdout",
     "output_type": "stream",
     "text": [
      "[ 0.615 -0.729  0.109 -0.288 -0.709  0.383  0.441  0.624  0.257  0.255] (1, 10)\n",
      "0.0 (10,)\n",
      "[-0.214  0.504  0.141 -0.164  0.367  0.281 -0.115  0.459 -0.433 -0.485] (10, 10)\n",
      "0.0 (10,)\n"
     ]
    }
   ],
   "source": [
    "w = model.get_weights()\n",
    "for w_i in w:\n",
    "    print(w_i[0], w_i.shape)"
   ]
  },
  {
   "cell_type": "code",
   "execution_count": 7,
   "metadata": {},
   "outputs": [],
   "source": [
    "model2 = MyModel()"
   ]
  },
  {
   "cell_type": "code",
   "execution_count": 11,
   "metadata": {},
   "outputs": [],
   "source": [
    "ckpt2 = tf.train.Checkpoint(kwd=model2)\n",
    "status = ckpt2.restore(\"ckpt-1\")\n",
    "_ = model2(x)"
   ]
  },
  {
   "cell_type": "code",
   "execution_count": 10,
   "metadata": {},
   "outputs": [
    {
     "name": "stdout",
     "output_type": "stream",
     "text": [
      "[ 0.615 -0.729  0.109 -0.288 -0.709  0.383  0.441  0.624  0.257  0.255] (1, 10)\n",
      "0.0 (10,)\n",
      "[-0.214  0.504  0.141 -0.164  0.367  0.281 -0.115  0.459 -0.433 -0.485] (10, 10)\n",
      "0.0 (10,)\n"
     ]
    }
   ],
   "source": [
    "w = model2.get_weights()\n",
    "for w_i in w:\n",
    "    print(w_i[0], w_i.shape)"
   ]
  },
  {
   "cell_type": "code",
   "execution_count": null,
   "metadata": {},
   "outputs": [],
   "source": [
    "status.assert_consumed()"
   ]
  },
  {
   "cell_type": "code",
   "execution_count": null,
   "metadata": {},
   "outputs": [],
   "source": []
  },
  {
   "cell_type": "code",
   "execution_count": null,
   "metadata": {},
   "outputs": [],
   "source": []
  }
 ],
 "metadata": {
  "kernelspec": {
   "display_name": "Python 3",
   "language": "python",
   "name": "python3"
  },
  "language_info": {
   "codemirror_mode": {
    "name": "ipython",
    "version": 3
   },
   "file_extension": ".py",
   "mimetype": "text/x-python",
   "name": "python",
   "nbconvert_exporter": "python",
   "pygments_lexer": "ipython3",
   "version": "3.8.5"
  }
 },
 "nbformat": 4,
 "nbformat_minor": 4
}
