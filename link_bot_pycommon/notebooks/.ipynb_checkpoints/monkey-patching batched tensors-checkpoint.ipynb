{
 "cells": [
  {
   "cell_type": "markdown",
   "metadata": {},
   "source": [
    "# Monkey Patching Tensor\n",
    "\n",
    "I want tf tensors to know whether they have a special first \"batch\" dimension, and I want every tensor to have a flag that tells me if it as hit. I will write special functions to set it to true/false, and I want every operation to preserve this flag correctly."
   ]
  },
  {
   "cell_type": "code",
   "execution_count": 1,
   "metadata": {},
   "outputs": [],
   "source": [
    "class Tensor:\n",
    "    \n",
    "    def __init__(self, v):\n",
    "        self.value = v\n",
    "        \n",
    "    def __add__(self, other):\n",
    "        print('adding')\n",
    "        out = Tensor(0)\n",
    "        out.value = self.value + other.value\n",
    "        return out\n",
    "    \n",
    "    def speak(self):\n",
    "        return \"hi!\"\n",
    "    \n",
    "    def __repr__(self):\n",
    "        return str(self.value)"
   ]
  },
  {
   "cell_type": "code",
   "execution_count": null,
   "metadata": {},
   "outputs": [],
   "source": []
  },
  {
   "cell_type": "code",
   "execution_count": 2,
   "metadata": {},
   "outputs": [],
   "source": [
    "# now just adding .is_batched doesn't solve it\n",
    "Tensor.is_batched = False\n",
    "# the desired behavior is that any operation consisting of any batched tensors\n",
    "# will naivly return a batched tensor.\n",
    "# The only way to not input a batched tensor and get a non-batched tensor out is to call\n",
    "# remove_batch\n",
    "excluded_symbols = ['__class__', '__init__', '__new__', '__repr__', '__str__', '__getattribute__', '__setattr__']\n",
    "for symbol_name in dir(Tensor):\n",
    "    original_symbol = getattr(Tensor, symbol_name)\n",
    "    if hasattr(original_symbol, '__call__') and symbol_name not in excluded_symbols:\n",
    "        def _intercept(n, s):\n",
    "            print(type(n))\n",
    "            def intercept(*args, **kwargs):\n",
    "                print(n, args)\n",
    "                result = s(*args, **kwargs)\n",
    "                any_args_are_batched = False\n",
    "                for a in args:\n",
    "                    if getattr(a, 'is_batched', False):\n",
    "                        any_args_are_batched = True\n",
    "                for a in kwargs.values():\n",
    "                    if getattr(a, 'is_batched', False):\n",
    "                        any_args_are_batched = True\n",
    "                print(f'any batched args = {any_args_are_batched}')\n",
    "                result.is_batched = True\n",
    "                return result\n",
    "            return intercept\n",
    "        print(f\"will intercept calls to {symbol_name}\")\n",
    "        setattr(Tensor, symbol_name, (lambda n, s: _intercept(n, s))(symbol_name, original_symbol))\n",
    "\n",
    "def add_batch(t: Tensor):\n",
    "    t.is_batched = True\n",
    "    \n",
    "def remove_batch(t: Tensor):\n",
    "    t.is_batched = False\n",
    "    \n",
    "    "
   ]
  },
  {
   "cell_type": "code",
   "execution_count": 3,
   "metadata": {},
   "outputs": [],
   "source": [
    "dir(Tensor)"
   ]
  },
  {
   "cell_type": "code",
   "execution_count": null,
   "metadata": {},
   "outputs": [],
   "source": []
  },
  {
   "cell_type": "code",
   "execution_count": 4,
   "metadata": {},
   "outputs": [],
   "source": [
    "a = Tensor(2)\n",
    "b = Tensor(3)"
   ]
  },
  {
   "cell_type": "code",
   "execution_count": 5,
   "metadata": {},
   "outputs": [
    {
     "data": {
      "text/plain": [
       "['__add__',\n",
       " '__class__',\n",
       " '__delattr__',\n",
       " '__dict__',\n",
       " '__dir__',\n",
       " '__doc__',\n",
       " '__eq__',\n",
       " '__format__',\n",
       " '__ge__',\n",
       " '__getattribute__',\n",
       " '__gt__',\n",
       " '__hash__',\n",
       " '__init__',\n",
       " '__init_subclass__',\n",
       " '__le__',\n",
       " '__lt__',\n",
       " '__module__',\n",
       " '__ne__',\n",
       " '__new__',\n",
       " '__reduce__',\n",
       " '__reduce_ex__',\n",
       " '__repr__',\n",
       " '__setattr__',\n",
       " '__sizeof__',\n",
       " '__str__',\n",
       " '__subclasshook__',\n",
       " '__weakref__',\n",
       " 'is_batched',\n",
       " 'speak']"
      ]
     },
     "execution_count": 5,
     "metadata": {},
     "output_type": "execute_result"
    }
   ],
   "source": [
    "dir(Tensor)"
   ]
  },
  {
   "cell_type": "code",
   "execution_count": 6,
   "metadata": {},
   "outputs": [
    {
     "name": "stdout",
     "output_type": "stream",
     "text": [
      "2 False\n",
      "3 False\n",
      "2 True\n",
      "3 False\n"
     ]
    }
   ],
   "source": [
    "print(a, a.is_batched)\n",
    "print(b, b.is_batched)\n",
    "\n",
    "add_batch(a)\n",
    "\n",
    "print(a, a.is_batched)\n",
    "print(b, b.is_batched)"
   ]
  },
  {
   "cell_type": "code",
   "execution_count": 7,
   "metadata": {},
   "outputs": [
    {
     "name": "stdout",
     "output_type": "stream",
     "text": [
      "__add__ (2, 3)\n",
      "adding\n",
      "any batched args = True\n"
     ]
    },
    {
     "data": {
      "text/plain": [
       "5"
      ]
     },
     "execution_count": 7,
     "metadata": {},
     "output_type": "execute_result"
    }
   ],
   "source": [
    "a + b"
   ]
  },
  {
   "cell_type": "code",
   "execution_count": 8,
   "metadata": {},
   "outputs": [],
   "source": [
    "# print(a, a.is_batched)\n",
    "# print(b, b.is_batched)\n",
    "a = Tensor(2)\n",
    "b = Tensor(3)\n",
    "# print(d, d.is_batched)"
   ]
  },
  {
   "cell_type": "code",
   "execution_count": 9,
   "metadata": {},
   "outputs": [
    {
     "name": "stdout",
     "output_type": "stream",
     "text": [
      "__add__ (2, 3)\n",
      "adding\n",
      "any batched args = False\n"
     ]
    }
   ],
   "source": [
    "d=a+b"
   ]
  },
  {
   "cell_type": "code",
   "execution_count": 10,
   "metadata": {},
   "outputs": [
    {
     "data": {
      "text/plain": [
       "True"
      ]
     },
     "execution_count": 10,
     "metadata": {},
     "output_type": "execute_result"
    }
   ],
   "source": [
    "d.is_batched"
   ]
  },
  {
   "cell_type": "code",
   "execution_count": 11,
   "metadata": {},
   "outputs": [
    {
     "name": "stdout",
     "output_type": "stream",
     "text": [
      "speak (5,)\n"
     ]
    },
    {
     "ename": "TypeError",
     "evalue": "speak() takes 0 positional arguments but 1 was given",
     "output_type": "error",
     "traceback": [
      "\u001b[0;31m---------------------------------------------------------------------------\u001b[0m",
      "\u001b[0;31mTypeError\u001b[0m                                 Traceback (most recent call last)",
      "\u001b[0;32m<ipython-input-11-ac77b8cfd6ed>\u001b[0m in \u001b[0;36m<module>\u001b[0;34m\u001b[0m\n\u001b[0;32m----> 1\u001b[0;31m \u001b[0md\u001b[0m\u001b[0;34m.\u001b[0m\u001b[0mspeak\u001b[0m\u001b[0;34m(\u001b[0m\u001b[0;34m)\u001b[0m\u001b[0;34m\u001b[0m\u001b[0;34m\u001b[0m\u001b[0m\n\u001b[0m",
      "\u001b[0;32m<ipython-input-2-83765da375e9>\u001b[0m in \u001b[0;36mintercept\u001b[0;34m(*args, **kwargs)\u001b[0m\n\u001b[1;32m     13\u001b[0m             \u001b[0;32mdef\u001b[0m \u001b[0mintercept\u001b[0m\u001b[0;34m(\u001b[0m\u001b[0;34m*\u001b[0m\u001b[0margs\u001b[0m\u001b[0;34m,\u001b[0m \u001b[0;34m**\u001b[0m\u001b[0mkwargs\u001b[0m\u001b[0;34m)\u001b[0m\u001b[0;34m:\u001b[0m\u001b[0;34m\u001b[0m\u001b[0;34m\u001b[0m\u001b[0m\n\u001b[1;32m     14\u001b[0m                 \u001b[0mprint\u001b[0m\u001b[0;34m(\u001b[0m\u001b[0mn\u001b[0m\u001b[0;34m,\u001b[0m \u001b[0margs\u001b[0m\u001b[0;34m)\u001b[0m\u001b[0;34m\u001b[0m\u001b[0;34m\u001b[0m\u001b[0m\n\u001b[0;32m---> 15\u001b[0;31m                 \u001b[0mresult\u001b[0m \u001b[0;34m=\u001b[0m \u001b[0ms\u001b[0m\u001b[0;34m(\u001b[0m\u001b[0;34m*\u001b[0m\u001b[0margs\u001b[0m\u001b[0;34m,\u001b[0m \u001b[0;34m**\u001b[0m\u001b[0mkwargs\u001b[0m\u001b[0;34m)\u001b[0m\u001b[0;34m\u001b[0m\u001b[0;34m\u001b[0m\u001b[0m\n\u001b[0m\u001b[1;32m     16\u001b[0m                 \u001b[0many_args_are_batched\u001b[0m \u001b[0;34m=\u001b[0m \u001b[0;32mFalse\u001b[0m\u001b[0;34m\u001b[0m\u001b[0;34m\u001b[0m\u001b[0m\n\u001b[1;32m     17\u001b[0m                 \u001b[0;32mfor\u001b[0m \u001b[0ma\u001b[0m \u001b[0;32min\u001b[0m \u001b[0margs\u001b[0m\u001b[0;34m:\u001b[0m\u001b[0;34m\u001b[0m\u001b[0;34m\u001b[0m\u001b[0m\n",
      "\u001b[0;31mTypeError\u001b[0m: speak() takes 0 positional arguments but 1 was given"
     ]
    }
   ],
   "source": [
    "d.speak()"
   ]
  },
  {
   "cell_type": "code",
   "execution_count": null,
   "metadata": {},
   "outputs": [],
   "source": []
  }
 ],
 "metadata": {
  "kernelspec": {
   "display_name": "Python 3",
   "language": "python",
   "name": "python3"
  },
  "language_info": {
   "codemirror_mode": {
    "name": "ipython",
    "version": 3
   },
   "file_extension": ".py",
   "mimetype": "text/x-python",
   "name": "python",
   "nbconvert_exporter": "python",
   "pygments_lexer": "ipython3",
   "version": "3.8.2"
  }
 },
 "nbformat": 4,
 "nbformat_minor": 4
}
