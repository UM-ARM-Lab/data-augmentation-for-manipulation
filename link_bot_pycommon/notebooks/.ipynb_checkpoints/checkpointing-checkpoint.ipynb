{
 "cells": [
  {
   "cell_type": "code",
   "execution_count": 1,
   "metadata": {},
   "outputs": [],
   "source": [
    "# Testing how TF Checkpoints work\n",
    "\n",
    "import tensorflow as tf\n",
    "import numpy as np\n",
    "np.set_printoptions(precision=3, suppress=True)"
   ]
  },
  {
   "cell_type": "code",
   "execution_count": 2,
   "metadata": {},
   "outputs": [],
   "source": [
    "x = tf.ones([6,1])"
   ]
  },
  {
   "cell_type": "code",
   "execution_count": null,
   "metadata": {},
   "outputs": [],
   "source": [
    "class CFM(tf.keras.Model):\n",
    "\n",
    "    def __init__(self):\n",
    "        super().__init__()\n",
    "        self.encoder = Encoder()\n",
    "        self.dynamics = LocallyLinearPredictor()\n",
    "        self.observer = Observer()\n",
    "\n",
    "    def call(self, example):\n",
    "        observation, observation_pos = self.get_positive_pairs(example)\n",
    "\n",
    "        # forward pass\n",
    "        z, z_pos = self.encoder(observation), self.encoder(observation_pos)  # b x z_dim\n",
    "        pred_inputs = {\n",
    "            'z': z['z'],\n",
    "            'z_pos': z_pos['z'],\n",
    "        }\n",
    "        for k in self.action_keys:\n",
    "            pred_inputs[k] = example[k]\n",
    "        z_seq = self.dynamics(pred_inputs)\n",
    "        y_seq = self.observer(pred_inputs)\n",
    "\n",
    "        output = {\n",
    "            'z_pos': z_pos['z'],\n",
    "        }\n",
    "        output.update(z_seq)\n",
    "        output.update(y_seq)\n",
    "        return output\n",
    "\n",
    "\n",
    "\n",
    "class Encoder(tf.keras.Model):\n",
    "\n",
    "    def __init__(self):\n",
    "        super().__init__()\n",
    "        self.encoder_sequtial = Sequential([\n",
    "            layers.Conv2D(filters=64, kernel_size=3),\n",
    "            layers.LeakyReLU(0.2),\n",
    "            layers.Conv2D(filters=64, kernel_size=4, strides=2),\n",
    "            layers.LeakyReLU(0.2),\n",
    "            # 64 x 32 x 32\n",
    "            layers.Conv2D(filters=64, kernel_size=3, strides=1),\n",
    "            layers.LeakyReLU(0.2),\n",
    "            layers.Conv2D(filters=128, kernel_size=4, strides=2),\n",
    "            layers.LeakyReLU(0.2),\n",
    "            # 128 x 16 x 16\n",
    "            layers.Conv2D(filters=256, kernel_size=4, strides=2),\n",
    "            layers.LeakyReLU(0.2),\n",
    "            # Option 1: 256 x 8 x 8\n",
    "            layers.Conv2D(filters=256, kernel_size=4, strides=2),\n",
    "            layers.LeakyReLU(0.2),\n",
    "            # 256 x 4 x 4\n",
    "        ], name='encoder_sequential')\n",
    "        self.out = layers.Dense(self.z_dim)\n",
    "\n",
    "    # @tf.function\n",
    "    def call(self):\n",
    "        o = tf.concat([observation[k] for k in self.obs_keys], axis=-1)\n",
    "        h = self.encoder_sequtial(o)\n",
    "        # NOTE: [:-3] gets all but the last 3 dimensions, which are the H, W, and C of the tensor\n",
    "        # doing this specifically allows x to have multiple \"batch\" dimensions,\n",
    "        # which is useful to treating [batch, time, ...] as all just batch dimensions\n",
    "        h = tf.reshape(h, h.shape.as_list()[:-3] + [-1])\n",
    "        z = self.out(h)\n",
    "        return {\n",
    "            'z': z\n",
    "        }\n",
    "\n",
    "class LocallyLinearPredictor(tf.keras.Model):\n",
    "\n",
    "    def __init__(self):\n",
    "        super().__init__()\n",
    "\n",
    "        my_layers = []\n",
    "        for h in self.hparams['fc_layer_sizes']:\n",
    "            my_layers.append(layers.Dense(h, activation=\"relu\"))\n",
    "        my_layers.append(layers.Dense(self.z_dim * self.z_dim, activation=None))\n",
    "\n",
    "        self.dynamics_sequential = Sequential(my_layers, name='predictor_sequential')\n",
    "\n",
    "    # @tf.function\n",
    "    def call(self, inputs, **kwargs):\n",
    "        a = tf.concat([inputs[k] for k in self.action_keys], axis=-1)\n",
    "\n",
    "        z = inputs['z']\n",
    "        x = tf.concat((z, a), axis=-1)\n",
    "        linear_dynamics_params = self.dynamics_sequential(x)\n",
    "        linear_dynamics_matrix = tf.reshape(linear_dynamics_params, x.shape.as_list()[:-1] + [self.z_dim, self.z_dim])\n",
    "        z_next = tf.squeeze(tf.linalg.matmul(linear_dynamics_matrix, tf.expand_dims(z, axis=-1)), axis=-1)\n",
    "        z_seq = tf.concat([z, z_next], axis=1)\n",
    "        return {\n",
    "            'z': z_seq\n",
    "        }\n",
    "\n",
    "    def compute_loss(self, dataset_element, outputs):\n",
    "        raise NotImplementedError()\n",
    "\n",
    "\n",
    "class Observer(tf.keras.Model):\n",
    "\n",
    "    def __init__(self):\n",
    "        super().__init__()\n",
    "        my_layers = []\n",
    "        for h in self.hparams['fc_layer_sizes']:\n",
    "            my_layers.append(layers.Dense(h, activation=\"relu\"))\n",
    "        my_layers.append(layers.Dense(final_dim, activation=None))\n",
    "\n",
    "        self.observer_sequential = Sequential(my_layers, name='observer_sequential')\n",
    "\n",
    "    # @tf.function\n",
    "    def call(self, inputs, **kwargs):\n",
    "        z = tf.concat([inputs[k] for k in self.state_keys], axis=-1)\n",
    "        y = self.observer_sequential(z)\n",
    "        y_dict = vector_to_dict(self.observation_features_description, y)\n",
    "        return y_dict\n",
    "\n",
    "    def compute_loss(self, dataset_element, outputs):\n",
    "        raise NotImplementedError()"
   ]
  },
  {
   "cell_type": "code",
   "execution_count": 3,
   "metadata": {},
   "outputs": [],
   "source": [
    "class MyModel(tf.keras.Model):\n",
    "    \n",
    "    def __init__(self):\n",
    "        super().__init__(self)\n",
    "        self.encoder = Encoder()\n",
    "        \n",
    "    def call(self, x):\n",
    "        return self.encoder(x)\n",
    "        \n",
    "class Encoder(tf.keras.Model):\n",
    "    \n",
    "    def __init__(self):\n",
    "        super().__init__(self)\n",
    "        self.s = tf.keras.Sequential([tf.keras.layers.Dense(10), tf.keras.layers.Dense(10)])\n",
    "        \n",
    "    def call(self, x):\n",
    "        return self.s(x)\n",
    "        \n",
    "model = MyModel()\n",
    "_ = model(x)"
   ]
  },
  {
   "cell_type": "code",
   "execution_count": 4,
   "metadata": {},
   "outputs": [
    {
     "data": {
      "text/plain": [
       "'ckpt-1'"
      ]
     },
     "execution_count": 4,
     "metadata": {},
     "output_type": "execute_result"
    }
   ],
   "source": [
    "ckpt = tf.train.Checkpoint(kwd=model)\n",
    "ckpt.save(\"ckpt\")"
   ]
  },
  {
   "cell_type": "code",
   "execution_count": 5,
   "metadata": {},
   "outputs": [
    {
     "name": "stdout",
     "output_type": "stream",
     "text": [
      "[-0.362 -0.333  0.319 -0.388 -0.15   0.716  0.047 -0.155  0.442  0.03 ] (1, 10)\n",
      "0.0 (10,)\n",
      "[ 0.119 -0.291 -0.352 -0.115 -0.091  0.49  -0.371  0.082 -0.351  0.46 ] (10, 10)\n",
      "0.0 (10,)\n"
     ]
    }
   ],
   "source": [
    "w = model.get_weights()\n",
    "for w_i in w:\n",
    "    print(w_i[0], w_i.shape)"
   ]
  },
  {
   "cell_type": "code",
   "execution_count": 6,
   "metadata": {},
   "outputs": [],
   "source": [
    "model2 = MyModel()"
   ]
  },
  {
   "cell_type": "code",
   "execution_count": 7,
   "metadata": {},
   "outputs": [],
   "source": [
    "ckpt2 = tf.train.Checkpoint(kwd=model2)\n",
    "status = ckpt2.restore(\"ckpt-1\")\n",
    "_ = model2(x)"
   ]
  },
  {
   "cell_type": "code",
   "execution_count": 8,
   "metadata": {},
   "outputs": [
    {
     "name": "stdout",
     "output_type": "stream",
     "text": [
      "[-0.362 -0.333  0.319 -0.388 -0.15   0.716  0.047 -0.155  0.442  0.03 ] (1, 10)\n",
      "0.0 (10,)\n",
      "[ 0.119 -0.291 -0.352 -0.115 -0.091  0.49  -0.371  0.082 -0.351  0.46 ] (10, 10)\n",
      "0.0 (10,)\n"
     ]
    }
   ],
   "source": [
    "w = model2.get_weights()\n",
    "for w_i in w:\n",
    "    print(w_i[0], w_i.shape)"
   ]
  },
  {
   "cell_type": "code",
   "execution_count": 9,
   "metadata": {},
   "outputs": [
    {
     "data": {
      "text/plain": [
       "<tensorflow.python.training.tracking.util.CheckpointLoadStatus at 0x7f318c141a30>"
      ]
     },
     "execution_count": 9,
     "metadata": {},
     "output_type": "execute_result"
    }
   ],
   "source": [
    "status.assert_consumed()"
   ]
  },
  {
   "cell_type": "code",
   "execution_count": null,
   "metadata": {},
   "outputs": [],
   "source": []
  },
  {
   "cell_type": "code",
   "execution_count": null,
   "metadata": {},
   "outputs": [],
   "source": []
  }
 ],
 "metadata": {
  "kernelspec": {
   "display_name": "Python 3",
   "language": "python",
   "name": "python3"
  },
  "language_info": {
   "codemirror_mode": {
    "name": "ipython",
    "version": 3
   },
   "file_extension": ".py",
   "mimetype": "text/x-python",
   "name": "python",
   "nbconvert_exporter": "python",
   "pygments_lexer": "ipython3",
   "version": "3.8.5"
  }
 },
 "nbformat": 4,
 "nbformat_minor": 4
}
