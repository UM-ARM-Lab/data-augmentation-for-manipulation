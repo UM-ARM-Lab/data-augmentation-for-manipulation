{
 "cells": [
  {
   "cell_type": "code",
   "execution_count": 1,
   "metadata": {},
   "outputs": [],
   "source": [
    "# Testing how TF Checkpoints work\n",
    "\n",
    "import tensorflow as tf\n",
    "from tensorflow.keras import layers, Sequential\n",
    "from shape_completion_training.my_keras_model import MyKerasModel\n",
    "from link_bot_pycommon.get_scenario import get_scenario\n",
    "import rospy\n",
    "import numpy as np\n",
    "np.set_printoptions(precision=3, suppress=True)\n",
    "rospy.init_node(\"testing\")"
   ]
  },
  {
   "cell_type": "code",
   "execution_count": 2,
   "metadata": {},
   "outputs": [],
   "source": [
    "from my_cfm.cfm import CFM"
   ]
  },
  {
   "cell_type": "code",
   "execution_count": 3,
   "metadata": {},
   "outputs": [],
   "source": [
    "x = tf.ones([6,1])"
   ]
  },
  {
   "cell_type": "code",
   "execution_count": 4,
   "metadata": {},
   "outputs": [],
   "source": [
    "# class _CFM(MyKerasModel):\n",
    "\n",
    "#     def __init__(self):\n",
    "#         super().__init__({}, 1)\n",
    "#         self.encoder = _Encoder()\n",
    "#         self.dynamics = _LocallyLinearPredictor()\n",
    "#         self.observer = _Observer()\n",
    "\n",
    "#     def call(self, x):\n",
    "#         # forward pass\n",
    "#         z, z_pos = self.encoder(x), self.encoder(x)  # b x z_dim\n",
    "#         z_seq = self.dynamics(z)\n",
    "#         y_seq = self.observer(z_pos)\n",
    "#         return z_seq, y_seq\n",
    "\n",
    "# class _Encoder(MyKerasModel):\n",
    "\n",
    "#     def __init__(self):\n",
    "#         super().__init__({}, 1)\n",
    "#         self.encoder_sequtial = Sequential([\n",
    "#             layers.Conv2D(filters=64, kernel_size=3),\n",
    "#             layers.LeakyReLU(0.2),\n",
    "#             layers.Conv2D(filters=64, kernel_size=4, strides=2),\n",
    "#             layers.LeakyReLU(0.2),\n",
    "#             # 64 x 32 x 32\n",
    "#             layers.Conv2D(filters=64, kernel_size=3, strides=1),\n",
    "#             layers.LeakyReLU(0.2),\n",
    "#             layers.Conv2D(filters=128, kernel_size=4, strides=2),\n",
    "#             layers.LeakyReLU(0.2),\n",
    "#             # 128 x 16 x 16\n",
    "#             layers.Conv2D(filters=256, kernel_size=4, strides=2),\n",
    "#             layers.LeakyReLU(0.2),\n",
    "#             # Option 1: 256 x 8 x 8\n",
    "#             layers.Conv2D(filters=256, kernel_size=4, strides=2),\n",
    "#             layers.LeakyReLU(0.2),\n",
    "#             # 256 x 4 x 4\n",
    "#         ], name='encoder_sequential')\n",
    "#         self.z_dim = 32\n",
    "#         self.out = layers.Dense(self.z_dim)\n",
    "\n",
    "#     # @tf.function\n",
    "#     def call(self, x):\n",
    "#         h = self.encoder_sequtial(x)\n",
    "#         z = self.out(h)\n",
    "#         return z\n",
    "\n",
    "# class _LocallyLinearPredictor(MyKerasModel):\n",
    "\n",
    "#     def __init__(self):\n",
    "#         super().__init__({}, 1)\n",
    "#         self.z_dim = 32\n",
    "\n",
    "#         my_layers = []\n",
    "#         for h in [32,32]:\n",
    "#             my_layers.append(layers.Dense(h, activation=\"relu\"))\n",
    "#         my_layers.append(layers.Dense(self.z_dim * self.z_dim, activation=None))\n",
    "\n",
    "#         self.dynamics_sequential = Sequential(my_layers, name='predictor_sequential')\n",
    "\n",
    "#     # @tf.function\n",
    "#     def call(self, x):\n",
    "#         z = self.dynamics_sequential(x)\n",
    "#         return z\n",
    "\n",
    "\n",
    "# class _Observer(MyKerasModel):\n",
    "\n",
    "#     def __init__(self):\n",
    "#         super().__init__({}, 1)\n",
    "#         my_layers = []\n",
    "#         for h in [32,32]:\n",
    "#             my_layers.append(layers.Dense(h, activation=\"relu\"))\n",
    "#         final_dim = 16\n",
    "#         my_layers.append(layers.Dense(final_dim, activation=None))\n",
    "\n",
    "#         self.observer_sequential = Sequential(my_layers, name='observer_sequential')\n",
    "\n",
    "#     # @tf.function\n",
    "#     def call(self, x):\n",
    "#         y = self.observer_sequential(x)\n",
    "#         return y\n"
   ]
  },
  {
   "cell_type": "code",
   "execution_count": 5,
   "metadata": {},
   "outputs": [],
   "source": [
    "# class MyModel(tf.keras.layers.Layer):\n",
    "    \n",
    "#     def __init__(self):\n",
    "#         super().__init__(self)\n",
    "#         self.encoder = Encoder()\n",
    "        \n",
    "#     def call(self, x):\n",
    "#         return self.encoder(x)\n",
    "        \n",
    "# class Encoder(tf.keras.layers.Layer):\n",
    "    \n",
    "#     def __init__(self):\n",
    "#         super().__init__(self)\n",
    "#         self.s = tf.keras.Sequential([tf.keras.layers.Dense(10), tf.keras.layers.Dense(10)])\n",
    "        \n",
    "#     def call(self, x):\n",
    "#         return self.s(x)"
   ]
  },
  {
   "cell_type": "code",
   "execution_count": 6,
   "metadata": {},
   "outputs": [],
   "source": [
    "# model = MyModel()\n",
    "# model = _CFM()\n",
    "scenario = get_scenario(\"dual_floating\")\n",
    "hparams = {\n",
    "  \"model_class\": \"CFM\",\n",
    "  \"sequence_length\": 10,\n",
    "  \"state_keys\": [\n",
    "    \"z\"\n",
    "  ],\n",
    "  \"observation_feature_keys\": [\n",
    "    \"rope\"\n",
    "  ],\n",
    "  \"obs_keys\": [\n",
    "    \"color_depth_image\"\n",
    "  ],\n",
    "  \"action_keys\": [\n",
    "    \"left_gripper_position\",\n",
    "    \"right_gripper_position\"\n",
    "  ],\n",
    "  \"fc_layer_sizes\": [\n",
    "    64,\n",
    "    64\n",
    "  ],\n",
    "  \"z_dim\": 32,\n",
    "  \"learning_rate\": 0.001,\n",
    "  \"epochs\": 1,\n",
    "  \"use_observation_feature_loss\": False,\n",
    "  \"dynamics_dataset_hparams\": {\n",
    "    \"nickname\": \"cfm\",\n",
    "    \"robot_namespace\": \"none\",\n",
    "    \"seed\": 34,\n",
    "    \"n_trajs\": 4096,\n",
    "    \"data_collection_params\": {\n",
    "      \"extent\": [\n",
    "        0.45,\n",
    "        1.2,\n",
    "        -0.6,\n",
    "        0.6,\n",
    "        0.6,\n",
    "        1.3\n",
    "      ],\n",
    "      \"left_gripper_action_sample_extent\": [\n",
    "        0.45,\n",
    "        1.2,\n",
    "        -0.6,\n",
    "        0.6,\n",
    "        0.6,\n",
    "        1.3\n",
    "      ],\n",
    "      \"right_gripper_action_sample_extent\": [\n",
    "        0.45,\n",
    "        1.2,\n",
    "        -0.6,\n",
    "        0.6,\n",
    "        0.6,\n",
    "        1.3\n",
    "      ],\n",
    "      \"res\": 0.02,\n",
    "      \"max_step_size\": 0.01,\n",
    "      \"steps_per_traj\": 2,\n",
    "      \"no_objects\": True,\n",
    "      \"randomize_n\": None,\n",
    "      \"repeat_delta_gripper_motion_probability\": 0.8,\n",
    "      \"max_distance_gripper_can_move\": 0.1,\n",
    "      \"max_distance_between_grippers\": 0.55\n",
    "    },\n",
    "    \"states_description\": {},\n",
    "    \"action_description\": {\n",
    "      \"left_gripper_position\": 3,\n",
    "      \"right_gripper_position\": 3\n",
    "    },\n",
    "    \"observations_description\": {\n",
    "      \"left_gripper\": 3,\n",
    "      \"right_gripper\": 3,\n",
    "      \"color_depth_image\": [\n",
    "        126,\n",
    "        224,\n",
    "        4\n",
    "      ]\n",
    "    },\n",
    "    \"observation_features_description\": {\n",
    "      \"rope\": 75\n",
    "    },\n",
    "    \"scenario\": \"dual_floating\",\n",
    "    \"scenario_metadata\": {}\n",
    "  },\n",
    "  \"batch_size\": 128,\n",
    "  \"seed\": 0,\n",
    "  \"datasets\": [\n",
    "    \"fwd_model_data/cfm_1602196483_34c0a63f25_4096+L2+nonan\"\n",
    "  ],\n",
    "  \"latest_training_time\": 1602298809\n",
    "    }\n",
    "model = CFM(hparams, 1, scenario)\n",
    "example = {\n",
    "    'color_depth_image': tf.zeros([1,2,90,160,4]),\n",
    "    'batch_size': tf.constant(1),\n",
    "    'left_gripper_position': tf.zeros([1,1,3]),\n",
    "    'right_gripper_position': tf.zeros([1,1,3]),\n",
    "}\n",
    "_ = model(example)\n",
    "wts = model.get_weights()\n",
    "wts[0] = wts[0] * 0 + 2\n",
    "model.set_weights(wts)"
   ]
  },
  {
   "cell_type": "code",
   "execution_count": 7,
   "metadata": {},
   "outputs": [
    {
     "data": {
      "text/plain": [
       "'my-ckpt-1'"
      ]
     },
     "execution_count": 7,
     "metadata": {},
     "output_type": "execute_result"
    }
   ],
   "source": [
    "ckpt = tf.train.Checkpoint(kwd=model)\n",
    "ckpt.save(\"my-ckpt\")"
   ]
  },
  {
   "cell_type": "code",
   "execution_count": 8,
   "metadata": {},
   "outputs": [
    {
     "name": "stdout",
     "output_type": "stream",
     "text": [
      "[2. 2. 2. 2. 2. 2. 2. 2. 2. 2. 2. 2. 2. 2. 2. 2. 2. 2. 2. 2. 2. 2. 2. 2.\n",
      " 2. 2. 2. 2. 2. 2. 2. 2. 2. 2. 2. 2. 2. 2. 2. 2. 2. 2. 2. 2. 2. 2. 2. 2.\n",
      " 2. 2. 2. 2. 2. 2. 2. 2. 2. 2. 2. 2. 2. 2. 2. 2.]\n"
     ]
    }
   ],
   "source": [
    "w = model.get_weights()\n",
    "print(w[0][0,0,0])"
   ]
  },
  {
   "cell_type": "code",
   "execution_count": 9,
   "metadata": {},
   "outputs": [],
   "source": [
    "# model2 = MyModel()\n",
    "# model2 = _CFM()\n",
    "model2 = CFM(hparams, 1, scenario)"
   ]
  },
  {
   "cell_type": "code",
   "execution_count": 10,
   "metadata": {},
   "outputs": [],
   "source": [
    "# class Not(tf.keras.Model):\n",
    "#     def __init__(self, a):\n",
    "#         super().__init__(self)\n",
    "#         self.actually = a\n",
    "# not_model2  = Not(model2)"
   ]
  },
  {
   "cell_type": "code",
   "execution_count": 11,
   "metadata": {},
   "outputs": [],
   "source": [
    "ckpt2 = tf.train.Checkpoint(kwd=model2)\n",
    "status = ckpt2.restore(\"my-ckpt-1\")\n",
    "_ = model2(example)"
   ]
  },
  {
   "cell_type": "code",
   "execution_count": 12,
   "metadata": {},
   "outputs": [
    {
     "name": "stdout",
     "output_type": "stream",
     "text": [
      "[2. 2. 2. 2. 2. 2. 2. 2. 2. 2. 2. 2. 2. 2. 2. 2. 2. 2. 2. 2. 2. 2. 2. 2.\n",
      " 2. 2. 2. 2. 2. 2. 2. 2. 2. 2. 2. 2. 2. 2. 2. 2. 2. 2. 2. 2. 2. 2. 2. 2.\n",
      " 2. 2. 2. 2. 2. 2. 2. 2. 2. 2. 2. 2. 2. 2. 2. 2.]\n"
     ]
    }
   ],
   "source": [
    "w = model2.get_weights()\n",
    "print(w[0][0,0,0])"
   ]
  },
  {
   "cell_type": "code",
   "execution_count": 13,
   "metadata": {},
   "outputs": [
    {
     "data": {
      "text/plain": [
       "<tensorflow.python.training.tracking.util.CheckpointLoadStatus at 0x7fabb84bfa00>"
      ]
     },
     "execution_count": 13,
     "metadata": {},
     "output_type": "execute_result"
    }
   ],
   "source": [
    "status.assert_existing_objects_matched()\n",
    "status.assert_consumed()"
   ]
  },
  {
   "cell_type": "code",
   "execution_count": null,
   "metadata": {},
   "outputs": [],
   "source": []
  }
 ],
 "metadata": {
  "kernelspec": {
   "display_name": "Python 3",
   "language": "python",
   "name": "python3"
  },
  "language_info": {
   "codemirror_mode": {
    "name": "ipython",
    "version": 3
   },
   "file_extension": ".py",
   "mimetype": "text/x-python",
   "name": "python",
   "nbconvert_exporter": "python",
   "pygments_lexer": "ipython3",
   "version": "3.8.5"
  }
 },
 "nbformat": 4,
 "nbformat_minor": 4
}
