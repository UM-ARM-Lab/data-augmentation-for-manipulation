{
 "cells": [
  {
   "cell_type": "markdown",
   "metadata": {},
   "source": [
    "# Monkey Patching Tensor\n",
    "\n",
    "I want tf tensors to know whether they have a special first \"batch\" dimension, and I want every tensor to have a flag that tells me if it as hit. I will write special functions to set it to true/false, and I want every operation to preserve this flag correctly."
   ]
  },
  {
   "cell_type": "code",
   "execution_count": 1,
   "metadata": {},
   "outputs": [],
   "source": [
    "class Tensor:\n",
    "    \n",
    "    def __init__(self, v):\n",
    "        self.value = v\n",
    "        \n",
    "    def __add__(self, other):\n",
    "        print('adding')\n",
    "        out = Tensor(0)\n",
    "        out.value = self.value + other.value\n",
    "        return out\n",
    "    \n",
    "    def __gt__(self, other):\n",
    "        return self.value > other.value    \n",
    "    \n",
    "    def speak(self):\n",
    "        return \"hi!\"\n",
    "    \n",
    "    \n",
    "    \n",
    "    def __repr__(self):\n",
    "        return str(self.value)"
   ]
  },
  {
   "cell_type": "code",
   "execution_count": null,
   "metadata": {},
   "outputs": [],
   "source": []
  },
  {
   "cell_type": "code",
   "execution_count": 2,
   "metadata": {},
   "outputs": [],
   "source": [
    "# now just adding .is_batched doesn't solve it\n",
    "Tensor.is_batched = False\n",
    "# the desired behavior is that any operation consisting of any batched tensors\n",
    "# will naivly return a batched tensor.\n",
    "# The only way to not input a batched tensor and get a non-batched tensor out is to call\n",
    "# remove_batch\n",
    "excluded_symbols = ['__class__', '__init__', '__new__', '__repr__', '__str__', '__getattribute__', '__setattr__']\n",
    "for symbol_name in dir(Tensor):\n",
    "    original_symbol = getattr(Tensor, symbol_name)\n",
    "    if hasattr(original_symbol, '__call__') and symbol_name not in excluded_symbols:\n",
    "        def _intercept(n, s):\n",
    "            print(type(n))\n",
    "            def intercept(*args, **kwargs):\n",
    "                print(n, args)\n",
    "                result = s(*args, **kwargs)\n",
    "                any_args_are_batched = False\n",
    "                for a in args:\n",
    "                    if getattr(a, 'is_batched', False):\n",
    "                        any_args_are_batched = True\n",
    "                for a in kwargs.values():\n",
    "                    if getattr(a, 'is_batched', False):\n",
    "                        any_args_are_batched = True\n",
    "                print(f'any batched args = {any_args_are_batched}')\n",
    "                if any_args_are_batched:\n",
    "                    try:\n",
    "                        result.is_batched = True\n",
    "                    except AttributeError:\n",
    "                        # results must be a python native type, which you can't add attribtutes to\n",
    "                        # so instead we just do nothing\n",
    "                        pass\n",
    "                return result\n",
    "            return intercept\n",
    "        print(f\"will intercept calls to {symbol_name}\")\n",
    "        setattr(Tensor, symbol_name, (lambda n, s: _intercept(n, s))(symbol_name, original_symbol))\n",
    "\n",
    "def add_batch(t: Tensor):\n",
    "    t.is_batched = True\n",
    "    \n",
    "def remove_batch(t: Tensor):\n",
    "    t.is_batched = False\n",
    "    \n",
    "    "
   ]
  },
  {
   "cell_type": "code",
   "execution_count": 3,
   "metadata": {},
   "outputs": [],
   "source": [
    "dir(Tensor)"
   ]
  },
  {
   "cell_type": "code",
   "execution_count": null,
   "metadata": {},
   "outputs": [],
   "source": []
  },
  {
   "cell_type": "code",
   "execution_count": 4,
   "metadata": {},
   "outputs": [],
   "source": [
    "a = Tensor(2)\n",
    "b = Tensor(3)"
   ]
  },
  {
   "cell_type": "code",
   "execution_count": 5,
   "metadata": {},
   "outputs": [],
   "source": [
    "dir(Tensor)"
   ]
  },
  {
   "cell_type": "code",
   "execution_count": 6,
   "metadata": {},
   "outputs": [
    {
     "name": "stdout",
     "output_type": "stream",
     "text": [
      "2 False\n",
      "3 False\n",
      "2 True\n",
      "3 False\n"
     ]
    }
   ],
   "source": [
    "print(a, a.is_batched)\n",
    "print(b, b.is_batched)\n",
    "\n",
    "add_batch(a)\n",
    "\n",
    "print(a, a.is_batched)\n",
    "print(b, b.is_batched)"
   ]
  },
  {
   "cell_type": "code",
   "execution_count": 7,
   "metadata": {},
   "outputs": [
    {
     "name": "stdout",
     "output_type": "stream",
     "text": [
      "__add__ (2, 3)\n",
      "adding\n",
      "any batched args = True\n"
     ]
    },
    {
     "data": {
      "text/plain": [
       "5"
      ]
     },
     "execution_count": 7,
     "metadata": {},
     "output_type": "execute_result"
    }
   ],
   "source": [
    "a + b"
   ]
  },
  {
   "cell_type": "code",
   "execution_count": 8,
   "metadata": {},
   "outputs": [
    {
     "name": "stdout",
     "output_type": "stream",
     "text": [
      "__add__ (2, 3)\n",
      "adding\n",
      "any batched args = True\n"
     ]
    }
   ],
   "source": [
    "d=a+b"
   ]
  },
  {
   "cell_type": "code",
   "execution_count": 9,
   "metadata": {},
   "outputs": [
    {
     "data": {
      "text/plain": [
       "True"
      ]
     },
     "execution_count": 9,
     "metadata": {},
     "output_type": "execute_result"
    }
   ],
   "source": [
    "d.is_batched"
   ]
  },
  {
   "cell_type": "code",
   "execution_count": 10,
   "metadata": {},
   "outputs": [
    {
     "name": "stdout",
     "output_type": "stream",
     "text": [
      "speak (5,)\n",
      "any batched args = True\n"
     ]
    },
    {
     "data": {
      "text/plain": [
       "'hi!'"
      ]
     },
     "execution_count": 10,
     "metadata": {},
     "output_type": "execute_result"
    }
   ],
   "source": [
    "d.speak()"
   ]
  },
  {
   "cell_type": "code",
   "execution_count": 12,
   "metadata": {},
   "outputs": [
    {
     "name": "stdout",
     "output_type": "stream",
     "text": [
      "__gt__ (2, 3)\n",
      "any batched args = True\n"
     ]
    },
    {
     "data": {
      "text/plain": [
       "False"
      ]
     },
     "execution_count": 12,
     "metadata": {},
     "output_type": "execute_result"
    }
   ],
   "source": [
    "a > b"
   ]
  },
  {
   "cell_type": "code",
   "execution_count": null,
   "metadata": {},
   "outputs": [],
   "source": []
  }
 ],
 "metadata": {
  "kernelspec": {
   "display_name": "Python 3",
   "language": "python",
   "name": "python3"
  },
  "language_info": {
   "codemirror_mode": {
    "name": "ipython",
    "version": 3
   },
   "file_extension": ".py",
   "mimetype": "text/x-python",
   "name": "python",
   "nbconvert_exporter": "python",
   "pygments_lexer": "ipython3",
   "version": "3.8.2"
  }
 },
 "nbformat": 4,
 "nbformat_minor": 4
}
