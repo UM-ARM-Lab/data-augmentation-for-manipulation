{
 "cells": [
  {
   "cell_type": "code",
   "execution_count": 1,
   "metadata": {},
   "outputs": [],
   "source": [
    "import numpy as np\n",
    "import tensorflow as tf\n",
    "import pathlib\n",
    "import argparse\n",
    "import json\n",
    "import logging\n",
    "import pathlib\n",
    "from time import perf_counter\n",
    "\n",
    "import tensorflow as tf\n",
    "from tensorflow_graphics.geometry import transformation\n",
    "from copy import deepcopy\n",
    "from colorama import Fore\n",
    "import pickle\n",
    "\n",
    "from link_bot_data.dynamics_dataset import DynamicsDataset\n",
    "from state_space_dynamics import model_utils\n",
    "from moonshine.gpu_config import limit_gpu_mem\n",
    "from link_bot_pycommon.pycommon import print_dict\n",
    "from IPython.display import HTML\n",
    "from link_bot_pycommon.get_scenario import get_scenario\n",
    "from link_bot_pycommon.link_bot_scenario import LinkBotScenario\n",
    "from moonshine.moonshine_utils import dict_of_sequences_to_sequence_of_dicts_tf, dict_of_sequences_to_sequence_of_dicts, numpify\n",
    "import matplotlib.pyplot as plt\n",
    "from link_bot_data.classifier_dataset_utils import *\n",
    "from link_bot_classifiers import classifier_utils\n",
    "from matplotlib import rc\n",
    "\n",
    "np.set_printoptions(precision=3, suppress=True, linewidth=200)\n",
    "plt.style.use(\"slides\")\n",
    "\n",
    "limit_gpu_mem(2)"
   ]
  },
  {
   "cell_type": "code",
   "execution_count": 2,
   "metadata": {},
   "outputs": [
    {
     "name": "stdout",
     "output_type": "stream",
     "text": [
      "\u001b[36mRestored from ss_log_dir/tf2_rope/0/ckpt-40\u001b[39m\n",
      "\u001b[36mRestored from ss_log_dir/tf2_rope/1/ckpt-44\u001b[39m\n",
      "\u001b[36mRestored from ss_log_dir/tf2_rope/2/ckpt-45\u001b[39m\n",
      "\u001b[36mRestored from ss_log_dir/tf2_rope/3/ckpt-43\u001b[39m\n",
      "\u001b[36mRestored from ss_log_dir/tf2_rope/4/ckpt-40\u001b[39m\n",
      "\u001b[36mRestored from ss_log_dir/tf2_rope/5/ckpt-38\u001b[39m\n",
      "\u001b[36mRestored from ss_log_dir/tf2_rope/6/ckpt-40\u001b[39m\n",
      "\u001b[36mRestored from ss_log_dir/tf2_rope/7/ckpt-49\u001b[39m\n",
      "\u001b[36mRestored from log_data/rope_2_seq/May_24_01-12-08_617a0bee2a/ckpt-5\u001b[39m\n"
     ]
    }
   ],
   "source": [
    "take = 100\n",
    "scenario = get_scenario(\"link_bot\")\n",
    "dynamics_dataset = DynamicsDataset([pathlib.Path(\"./fwd_model_data/rope_more_obs_big/\")])\n",
    "tf_dataset = dynamics_dataset.get_datasets(mode='train', take=take)\n",
    "model_dirs = [pathlib.Path(f\"./ss_log_dir/tf2_rope/{i}\") for i in range(8)]\n",
    "fwd_models, _ = model_utils.load_generic_model(model_dirs)\n",
    "\n",
    "classifier_model_dir = pathlib.Path('log_data/rope_2_seq/May_24_01-12-08_617a0bee2a')\n",
    "classifier_model = classifier_utils.load_generic_model(classifier_model_dir, scenario=scenario)"
   ]
  },
  {
   "cell_type": "code",
   "execution_count": 3,
   "metadata": {},
   "outputs": [],
   "source": [
    "labeling_params = {\n",
    "    'threshold': 0.10,\n",
    "    'state_key': 'link_bot',\n",
    "}"
   ]
  },
  {
   "cell_type": "code",
   "execution_count": null,
   "metadata": {},
   "outputs": [],
   "source": [
    "tf.random.set_seed(0)\n",
    "transitions = []\n",
    "# for example in tf_dataset:\n",
    "#     inputs, outputs = example\n",
    "#     for start_t  in range(0, dynamics_dataset.max_sequence_length - 2):\n",
    "#         action = numpify(inputs['action'][start_t])\n",
    "#         full_env = numpify(inputs['full_env/env'])\n",
    "#         full_env_extent = numpify(inputs['full_env/extent'])\n",
    "#         rope_state = numpify(outputs['link_bot'][start_t])\n",
    "#         next_rope_state = numpify(outputs['link_bot'][start_t + 1])\n",
    "        \n",
    "#         transition = (rope_state,\n",
    "#                       action,\n",
    "#                       next_rope_state,\n",
    "#                       full_env,\n",
    "#                       full_env_extent)\n",
    "#         transitions.append(transition)"
   ]
  },
  {
   "cell_type": "code",
   "execution_count": 5,
   "metadata": {},
   "outputs": [],
   "source": [
    "# pickle.dump(transitions, open(\"transitions_small.pkl\", 'wb'))\n",
    "# transitions = pickle.load(open(\"transitions_small.pkl\", 'rb'))\n",
    "transitions = pickle.load(open(\"transitions.pkl\", 'rb'))"
   ]
  },
  {
   "cell_type": "code",
   "execution_count": 62,
   "metadata": {},
   "outputs": [],
   "source": [
    "def close(t_1, t_2, threshold=0.12):\n",
    "    rope_state_1 = LinkBotScenario.to_rope_local_frame_np(t_1[0])\n",
    "    rope_state_2 = LinkBotScenario.to_rope_local_frame_np(t_2[0])\n",
    "    action_1= t_1[1]\n",
    "    action_2 =t_2[1]\n",
    "    next_rope_state_1 = LinkBotScenario.to_rope_local_frame_np(t_1[2])\n",
    "    next_rope_state_2 = LinkBotScenario.to_rope_local_frame_np(t_2[2])\n",
    "    current_is_close = np.linalg.norm(rope_state_2 - rope_state_1) < threshold \n",
    "    action_is_close = np.linalg.norm(action_1 - action_2) < 0.03\n",
    "    next_is_close = np.linalg.norm(next_rope_state_2 - next_rope_state_1) < threshold \n",
    "    return current_is_close and action_is_close and next_is_close"
   ]
  },
  {
   "cell_type": "code",
   "execution_count": 63,
   "metadata": {},
   "outputs": [],
   "source": [
    "from moonshine.get_local_environment import get_local_env_and_origin\n",
    "from link_bot_pycommon.link_bot_sdf_utils import compute_extent\n",
    "\n",
    "def plot_transition(ax, transition, color):\n",
    "    if ax is None:\n",
    "        plt.figure()\n",
    "        ax = plt.gca()\n",
    "        plt.axis(\"equal\")\n",
    "    rope_points = np.reshape(transition[0], [-1, 2])\n",
    "    state = state_from_transition(transition, local_frame=False)\n",
    "    environment = env_from_transition(transition)\n",
    "    env = transition[3]\n",
    "    env_origin = np.array([100, 100], dtype=np.float32)\n",
    "    local_env_center_point = LinkBotScenario.local_environment_center(state)\n",
    "    local_env, local_env_origin = get_local_env_and_origin(center_point=local_env_center_point,\n",
    "                                                             full_env=env,\n",
    "                                                             full_env_origin=env_origin,\n",
    "                                                             res=0.01,\n",
    "                                                             local_h_rows=100,\n",
    "                                                             local_w_cols=100)\n",
    "    scenario.plot_state(ax, state, color=color, s=10, zorder=1)\n",
    "    scenario.plot_action(ax, state, action_from_transition(transition), color='c', s=10, zorder=1)\n",
    "    s = 0.01 * 100 / 2\n",
    "    extent_xmin = rope_points[-1][0] - s\n",
    "    extent_ymin = rope_points[-1][1] - s\n",
    "    extent_xmax = rope_points[-1][0] + s\n",
    "    extent_ymax = rope_points[-1][1] + s\n",
    "    local_env_extent = [extent_xmin, extent_xmax, extent_ymin, extent_ymax]\n",
    "    ax.imshow(np.flipud(local_env), extent=local_env_extent, cmap='Greys')"
   ]
  },
  {
   "cell_type": "code",
   "execution_count": 64,
   "metadata": {},
   "outputs": [],
   "source": [
    "def state_from_transition(transition, local_frame=False):\n",
    "    rope_state = transition[0]\n",
    "    if local_frame:\n",
    "        rope_state = LinkBotScenario.to_rope_local_frame_np(rope_state)\n",
    "    return {\n",
    "        'link_bot': rope_state,\n",
    "    }\n",
    "\n",
    "def next_state_from_transition(transition, current_local_frame=False):\n",
    "    current_rope_state = transition[0]\n",
    "    next_rope_state = transition[2]\n",
    "    if current_local_frame:\n",
    "        rope_state = LinkBotScenario.to_rope_local_frame_np(next_rope_state, current_rope_state)\n",
    "    return {\n",
    "        'link_bot': rope_state,\n",
    "    }\n",
    "\n",
    "def action_from_transition(transition):\n",
    "    return transition[1]\n",
    "\n",
    "def env_from_transition(transition):\n",
    "    return {\n",
    "        'full_env/env': transition[3],\n",
    "        'full_env/extent': transition[4]\n",
    "    }"
   ]
  },
  {
   "cell_type": "code",
   "execution_count": 65,
   "metadata": {},
   "outputs": [
    {
     "data": {
      "image/png": "[encoded data removed]",
      "text/plain": [
       "<Figure size 432x288 with 1 Axes>"
      ]
     },
     "metadata": {
      "needs_background": "light"
     },
     "output_type": "display_data"
    }
   ],
   "source": [
    "plot_transition(ax=None, transition=transitions[78], color='r')"
   ]
  },
  {
   "cell_type": "code",
   "execution_count": 66,
   "metadata": {},
   "outputs": [],
   "source": [
    "transition_1 = transitions[41]\n",
    "nearby_transitions = []\n",
    "for transition_2 in transitions:\n",
    "    if not np.all(transition_1[0] == transition_2[0]):\n",
    "        if close(transition_1, transition_2):\n",
    "            nearby_transitions.append(transition_2)\n",
    "            if len(nearby_transitions) > 50:\n",
    "                break"
   ]
  },
  {
   "cell_type": "code",
   "execution_count": 68,
   "metadata": {},
   "outputs": [
    {
     "data": {
      "text/plain": [
       "1"
      ]
     },
     "execution_count": 68,
     "metadata": {},
     "output_type": "execute_result"
    }
   ],
   "source": [
    "len(nearby_transitions)"
   ]
  },
  {
   "cell_type": "code",
   "execution_count": 51,
   "metadata": {},
   "outputs": [],
   "source": [
    "from tensorflow_graphics.geometry import transformation\n",
    "from scipy import ndimage\n",
    "from moonshine.image_functions import rotate_image\n",
    "\n",
    "def plot_transition_rope_frame(ax, transition, color):\n",
    "    if ax is None:\n",
    "        plt.figure()\n",
    "        ax = plt.gca()\n",
    "        plt.axis(\"equal\")\n",
    "    rope_points = np.reshape(transition[0], [-1, 2])\n",
    "    state = state_from_transition(transition, local_frame=False)\n",
    "    state_local = state_from_transition(transition, local_frame=True)\n",
    "    next_state_local = next_state_from_transition(transition, current_local_frame=True)\n",
    "    environment = env_from_transition(transition)\n",
    "    env = transition[3]\n",
    "    env_origin = np.array([100, 100], dtype=np.float32)\n",
    "    local_env_center_point = LinkBotScenario.local_environment_center(state)\n",
    "    local_env, local_env_origin = get_local_env_and_origin(center_point=local_env_center_point,\n",
    "                                                             full_env=env,\n",
    "                                                             full_env_origin=env_origin,\n",
    "                                                             res=0.01,\n",
    "                                                             local_h_rows=100,\n",
    "                                                             local_w_cols=100)\n",
    "    \n",
    "    deltas = rope_points[1:] - rope_points[:-1]\n",
    "    last_dxs = deltas[-1, 0]\n",
    "    last_dys = deltas[-1, 1]\n",
    "    angle_of_last_link = tf.atan2(last_dys, last_dxs)\n",
    "    angle_of_last_link_deg = np.rad2deg(angle_of_last_link)\n",
    "    local_env_rope_frame = ndimage.rotate(local_env, angle_of_last_link_deg, reshape=False, prefilter=False)\n",
    "#     print(rope_points[-1])\n",
    "#     local_env_rope_frame = ndimage.shift(local_env_rope_frame, rope_points[-1])\n",
    "    action = action_from_transition(transition)\n",
    "    action_rotation_matrix = transformation.rotation_matrix_2d.from_euler([-angle_of_last_link])\n",
    "    action_rope_frame = transformation.rotation_matrix_2d.rotate(action, action_rotation_matrix)\n",
    "    s = 0.01 * 100 / 2\n",
    "    extent_xmin = -s\n",
    "    extent_ymin = -s\n",
    "    extent_xmax = s\n",
    "    extent_ymax = s\n",
    "    local_env_extent = [extent_xmin, extent_xmax, extent_ymin, extent_ymax]\n",
    "    \n",
    "    scenario.plot_state(ax, state_local, color='r', s=10, zorder=1)\n",
    "    scenario.plot_state(ax, next_state_local, color='orange', s=10, zorder=1, alpha=0.5)\n",
    "    scenario.plot_action(ax, state_local, action_rope_frame, color='c', s=10, zorder=1)\n",
    "    ax.imshow(np.flipud(local_env_rope_frame), extent=local_env_extent, cmap='Greys')"
   ]
  },
  {
   "cell_type": "code",
   "execution_count": 52,
   "metadata": {
    "scrolled": false
   },
   "outputs": [
    {
     "name": "stdout",
     "output_type": "stream",
     "text": [
      "0.0\n",
      "0.0\n"
     ]
    },
    {
     "data": {
      "image/png": "[encoded data removed]",
      "text/plain": [
       "<Figure size 432x288 with 1 Axes>"
      ]
     },
     "metadata": {
      "needs_background": "light"
     },
     "output_type": "display_data"
    },
    {
     "data": {
      "image/png": "[encoded data removed]",
      "text/plain": [
       "<Figure size 432x288 with 1 Axes>"
      ]
     },
     "metadata": {
      "needs_background": "light"
     },
     "output_type": "display_data"
    }
   ],
   "source": [
    "%matplotlib inline\n",
    "\n",
    "plot_transition(ax=None, transition=transition_1, color='r')\n",
    "for nearby_transition in nearby_transitions[:10]:\n",
    "    plot_transition_rope_frame(ax=None, transition=nearby_transition, color='r')"
   ]
  },
  {
   "cell_type": "code",
   "execution_count": null,
   "metadata": {},
   "outputs": [],
   "source": [
    "def compute_volume(state, nearby_states):\n",
    "    distances = np.linalg.norm(state - nearby_states)\n",
    "    radius = np.max(distances)\n",
    "    # radius to the power of the dimension is proportional to the volume\n",
    "    dim = state.shape[0]\n",
    "    return radius ** dim\n",
    "\n",
    "\n",
    "def divergence_ratio(transition, nearby_transitions):\n",
    "    current_state = transition[0]\n",
    "    nearby_current_states = [t[0] for t in nearby_transitions]\n",
    "    current_volume = compute_volume(current_state, nearby_current_states)\n",
    "\n",
    "    next_state = transition[2]\n",
    "    nearby_next_states = [t[2] for t in nearby_transitions]\n",
    "    next_volume = compute_volume(next_state, nearby_next_states)\n",
    "    \n",
    "    return next_volume / current_volume\n",
    "\n",
    "def is_funneling(transition, nearby_transitions):\n",
    "    return divergence_ratio(transition, nearby_transitions) < 1\n",
    "    \n",
    "is_funneling(transition_1, nearby_transitions)"
   ]
  },
  {
   "cell_type": "code",
   "execution_count": null,
   "metadata": {},
   "outputs": [],
   "source": []
  }
 ],
 "metadata": {
  "kernelspec": {
   "display_name": "Python 3",
   "language": "python",
   "name": "python3"
  },
  "language_info": {
   "codemirror_mode": {
    "name": "ipython",
    "version": 3
   },
   "file_extension": ".py",
   "mimetype": "text/x-python",
   "name": "python",
   "nbconvert_exporter": "python",
   "pygments_lexer": "ipython3",
   "version": "3.7.7"
  }
 },
 "nbformat": 4,
 "nbformat_minor": 2
}
