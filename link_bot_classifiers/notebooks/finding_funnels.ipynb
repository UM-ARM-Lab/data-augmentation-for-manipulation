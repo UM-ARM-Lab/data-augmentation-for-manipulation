{
 "cells": [
  {
   "cell_type": "code",
   "execution_count": 6,
   "metadata": {},
   "outputs": [],
   "source": [
    "import numpy as np\n",
    "import tensorflow as tf\n",
    "import pathlib\n",
    "import argparse\n",
    "import json\n",
    "import logging\n",
    "import pathlib\n",
    "from time import perf_counter\n",
    "\n",
    "import tensorflow as tf\n",
    "from tensorflow_graphics.geometry import transformation\n",
    "from copy import deepcopy\n",
    "from colorama import Fore\n",
    "import pickle\n",
    "\n",
    "from link_bot_data.dynamics_dataset import DynamicsDataset\n",
    "from state_space_dynamics import model_utils\n",
    "from moonshine.gpu_config import limit_gpu_mem\n",
    "from link_bot_pycommon.pycommon import print_dict\n",
    "from IPython.display import HTML\n",
    "from link_bot_pycommon.get_scenario import get_scenario\n",
    "from link_bot_pycommon.link_bot_scenario import LinkBotScenario\n",
    "from moonshine.moonshine_utils import dict_of_sequences_to_sequence_of_dicts_tf, dict_of_sequences_to_sequence_of_dicts, numpify\n",
    "import matplotlib.pyplot as plt\n",
    "from link_bot_data.classifier_dataset_utils import *\n",
    "from link_bot_classifiers import classifier_utils\n",
    "from matplotlib import rc\n",
    "\n",
    "np.set_printoptions(precision=3, suppress=True)\n",
    "plt.style.use(\"slides\")\n",
    "\n",
    "limit_gpu_mem(2)"
   ]
  },
  {
   "cell_type": "code",
   "execution_count": 2,
   "metadata": {},
   "outputs": [
    {
     "name": "stderr",
     "output_type": "stream",
     "text": [
      "WARNING: Logging before flag parsing goes to stderr.\n",
      "W0602 11:48:52.127742 140634789559168 recurrent_v2.py:1102] Layer lstm will not use cuDNN kernel since it doesn't meet the cuDNN kernel criteria. It will use generic GPU kernel as fallback when running on GPU\n"
     ]
    },
    {
     "name": "stdout",
     "output_type": "stream",
     "text": [
      "\u001b[36mRestored from ss_log_dir/tf2_rope/0/ckpt-40\u001b[39m\n",
      "\u001b[36mRestored from ss_log_dir/tf2_rope/1/ckpt-44\u001b[39m\n",
      "\u001b[36mRestored from ss_log_dir/tf2_rope/2/ckpt-45\u001b[39m\n",
      "\u001b[36mRestored from ss_log_dir/tf2_rope/3/ckpt-43\u001b[39m\n",
      "\u001b[36mRestored from ss_log_dir/tf2_rope/4/ckpt-40\u001b[39m\n",
      "\u001b[36mRestored from ss_log_dir/tf2_rope/5/ckpt-38\u001b[39m\n",
      "\u001b[36mRestored from ss_log_dir/tf2_rope/6/ckpt-40\u001b[39m\n",
      "\u001b[36mRestored from ss_log_dir/tf2_rope/7/ckpt-49\u001b[39m\n",
      "\u001b[36mRestored from log_data/rope_2_seq/May_24_01-12-08_617a0bee2a/ckpt-5\u001b[39m\n"
     ]
    }
   ],
   "source": [
    "take = None\n",
    "scenario = get_scenario(\"link_bot\")\n",
    "dynamics_dataset = DynamicsDataset([pathlib.Path(\"./fwd_model_data/rope_more_obs_big/\")])\n",
    "n_total_train_examples = 8250\n",
    "tf_dataset = dynamics_dataset.get_datasets(mode='train', take=take)\n",
    "model_dirs = [pathlib.Path(f\"./ss_log_dir/tf2_rope/{i}\") for i in range(8)]\n",
    "fwd_models, _ = model_utils.load_generic_model(model_dirs)\n",
    "\n",
    "classifier_model_dir = pathlib.Path('log_data/rope_2_seq/May_24_01-12-08_617a0bee2a')\n",
    "classifier_model = classifier_utils.load_generic_model(classifier_model_dir, scenario=scenario)"
   ]
  },
  {
   "cell_type": "code",
   "execution_count": 3,
   "metadata": {},
   "outputs": [],
   "source": [
    "labeling_params = {\n",
    "    'threshold': 0.10,\n",
    "    'state_key': 'link_bot',\n",
    "}"
   ]
  },
  {
   "cell_type": "code",
   "execution_count": 4,
   "metadata": {},
   "outputs": [],
   "source": [
    "# tf.random.set_seed(0)\n",
    "# transitions = []\n",
    "# for example in tf_dataset:\n",
    "#     inputs, outputs = example\n",
    "#     for start_t  in range(0, dynamics_dataset.max_sequence_length - 2):\n",
    "#         action = numpify(inputs['action'][start_t])\n",
    "#         full_env = numpify(inputs['full_env/env'])\n",
    "#         full_env_extent = numpify(inputs['full_env/extent'])\n",
    "#         rope_state = numpify(outputs['link_bot'][start_t])\n",
    "#         next_rope_state = numpify(outputs['link_bot'][start_t + 1])\n",
    "        \n",
    "#         transition = (rope_state,\n",
    "#                       action,\n",
    "#                       next_rope_state,\n",
    "#                       full_env,\n",
    "#                       full_env_extent)\n",
    "#         transitions.append(transition)\n",
    "transitions = pickle.load(open(\"transitions.pkl\", 'rb'))"
   ]
  },
  {
   "cell_type": "code",
   "execution_count": 34,
   "metadata": {},
   "outputs": [],
   "source": [
    "def close(t_1, t_2, threshold=0.02):\n",
    "    next_rope_state_1 = LinkBotScenario.to_rope_local_frame_np(t_1[2])\n",
    "    next_rope_state_2 = LinkBotScenario.to_rope_local_frame_np(t_2[2])\n",
    "    is_close = np.linalg.norm(next_rope_state_2 - next_rope_state_1) < threshold \n",
    "    return is_close"
   ]
  },
  {
   "cell_type": "code",
   "execution_count": 35,
   "metadata": {},
   "outputs": [],
   "source": [
    "transition_1 = transitions[0]\n",
    "nearby_transitions = []\n",
    "for transition_2 in transitions:\n",
    "    if not np.all(transition_1[0] == transition_2[0]):\n",
    "        if close(transition_1, transition_2):\n",
    "            nearby_transitions.append(transition_2)"
   ]
  },
  {
   "cell_type": "code",
   "execution_count": 40,
   "metadata": {},
   "outputs": [],
   "source": [
    "def state_from_transition(transition, local_frame=False):\n",
    "    rope_state = transition[0]\n",
    "    if local_frame:\n",
    "        rope_state = LinkBotScenario.to_rope_local_frame_np(rope_state)\n",
    "    return {\n",
    "        'link_bot': rope_state,\n",
    "    }\n",
    "\n",
    "def next_state_from_transition(transition, local_frame=False):\n",
    "    rope_state = transition[2]\n",
    "    if local_frame:\n",
    "        rope_state = LinkBotScenario.to_rope_local_frame_np(rope_state)\n",
    "    return {\n",
    "        'link_bot': rope_state,\n",
    "    }\n",
    "\n",
    "def action_from_transition(transition):\n",
    "    return transition[1]\n",
    "\n",
    "def env_from_transition(transition):\n",
    "    return {\n",
    "        'full_env/env': transition[3],\n",
    "        'full_env/extent': transition[4]\n",
    "    }"
   ]
  },
  {
   "cell_type": "code",
   "execution_count": 41,
   "metadata": {},
   "outputs": [],
   "source": [
    "def plot_transition(ax, transition, color):\n",
    "    state = state_from_transition(transition, local_frame=True)\n",
    "    scenario.plot_state(ax, state, color=color, s=10, zorder=1)\n",
    "    environment = env_from_transition(transition)\n",
    "    scenario.plot_environment(ax, environment)\n",
    "    scenario.plot_action(ax, state, action_from_transition(transition), color='c', s=10, zorder=1)"
   ]
  },
  {
   "cell_type": "code",
   "execution_count": 42,
   "metadata": {},
   "outputs": [
    {
     "name": "stdout",
     "output_type": "stream",
     "text": [
      "Using matplotlib backend: Qt5Agg\n"
     ]
    }
   ],
   "source": [
    "%matplotlib\n",
    "plt.figure()\n",
    "ax = plt.gca()\n",
    "plt.axis(\"equal\")\n",
    "\n",
    "# plot_transition(ax, transition_1, 'r')\n",
    "state = next_state_from_transition(transition_1, local_frame=True)\n",
    "scenario.plot_state(ax, state, color='r', s=10, zorder=1)\n",
    "for nearby_transition in nearby_transitions:\n",
    "    state = next_state_from_transition(nearby_transition, local_frame=True)\n",
    "    scenario.plot_state(ax, state, color='b', s=10, zorder=1, alpha=0.2)"
   ]
  },
  {
   "cell_type": "code",
   "execution_count": 39,
   "metadata": {},
   "outputs": [
    {
     "data": {
      "text/plain": [
       "0"
      ]
     },
     "execution_count": 39,
     "metadata": {},
     "output_type": "execute_result"
    }
   ],
   "source": [
    "len(nearby_transitions)"
   ]
  },
  {
   "cell_type": "code",
   "execution_count": null,
   "metadata": {},
   "outputs": [],
   "source": []
  }
 ],
 "metadata": {
  "kernelspec": {
   "display_name": "Python 3",
   "language": "python",
   "name": "python3"
  },
  "language_info": {
   "codemirror_mode": {
    "name": "ipython",
    "version": 3
   },
   "file_extension": ".py",
   "mimetype": "text/x-python",
   "name": "python",
   "nbconvert_exporter": "python",
   "pygments_lexer": "ipython3",
   "version": "3.7.3"
  }
 },
 "nbformat": 4,
 "nbformat_minor": 2
}
