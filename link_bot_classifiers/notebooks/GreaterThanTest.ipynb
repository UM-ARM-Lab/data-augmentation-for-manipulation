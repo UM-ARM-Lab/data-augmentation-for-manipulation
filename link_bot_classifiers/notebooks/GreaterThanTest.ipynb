{
 "cells": [
  {
   "cell_type": "code",
   "execution_count": 1,
   "metadata": {},
   "outputs": [],
   "source": [
    "import tensorflow as tf\n",
    "import numpy as np\n",
    "import matplotlib.pyplot as plt"
   ]
  },
  {
   "cell_type": "code",
   "execution_count": 2,
   "metadata": {},
   "outputs": [],
   "source": [
    "radii = 0.345\n",
    "sdf_values = np.random.randn(1000, 1).astype(np.float32)\n",
    "labels = radii > sdf_values"
   ]
  },
  {
   "cell_type": "markdown",
   "metadata": {},
   "source": [
    "# If you don't scale the sigmoid, it won't recover the right threshold"
   ]
  },
  {
   "cell_type": "code",
   "execution_count": 3,
   "metadata": {},
   "outputs": [
    {
     "name": "stdout",
     "output_type": "stream",
     "text": [
      "WARNING:tensorflow:From /home/pmitrano/.local/lib/python2.7/site-packages/tensorflow/python/framework/op_def_library.py:263: colocate_with (from tensorflow.python.framework.ops) is deprecated and will be removed in a future version.\n",
      "Instructions for updating:\n",
      "Colocations handled automatically by placer.\n",
      "done.\n"
     ]
    }
   ],
   "source": [
    "tf.reset_default_graph()\n",
    "s = tf.Session()\n",
    "\n",
    "tf_labels = tf.placeholder(tf.float32, shape=(None, 1), name='labels')\n",
    "tf_radius = tf.get_variable('radius', initializer=10.0)\n",
    "tf_sdfs = tf.placeholder(tf.float32, shape=(None, 1), name='sdfs')\n",
    "logits = 1*(tf_radius - tf_sdfs)\n",
    "loss_op = tf.reduce_mean(tf.nn.sigmoid_cross_entropy_with_logits(logits=logits, labels=tf_labels))\n",
    "optimizer = tf.train.AdamOptimizer(learning_rate=0.01)\n",
    "gradients, variables = zip(*optimizer.compute_gradients(loss_op))\n",
    "gradients, _ = tf.clip_by_global_norm(gradients, 5)\n",
    "opt = optimizer.apply_gradients(zip(gradients, variables))\n",
    "rgrad = tf.gradients(loss_op, tf_radius)\n",
    "\n",
    "s.run(tf.global_variables_initializer())\n",
    "loss = s.run([loss_op], feed_dict={tf_sdfs: sdf_values, tf_labels: labels})\n",
    "\n",
    "for i in range(5000):\n",
    "    loss, rad, rrg, _ = s.run([loss_op, tf_radius, rgrad, opt], feed_dict={tf_sdfs: sdf_values, tf_labels: labels})\n",
    "    if abs(rad - radii) < 0.003:\n",
    "        print(\"success!\")\n",
    "        break\n",
    "print(\"done.\")"
   ]
  },
  {
   "cell_type": "markdown",
   "metadata": {},
   "source": [
    "# If you  scale the sigmoid, it works!"
   ]
  },
  {
   "cell_type": "code",
   "execution_count": 9,
   "metadata": {},
   "outputs": [
    {
     "name": "stdout",
     "output_type": "stream",
     "text": [
      "success!\n",
      "done.\n"
     ]
    }
   ],
   "source": [
    "tf.reset_default_graph()\n",
    "s = tf.Session()\n",
    "\n",
    "tf_labels = tf.placeholder(tf.float32, shape=(None, 1), name='labels')\n",
    "tf_radius = tf.get_variable('radius', initializer=10.0)\n",
    "tf_sdfs = tf.placeholder(tf.float32, shape=(None, 1), name='sdfs')\n",
    "logits = 100*(tf_radius - tf_sdfs)\n",
    "loss_op = tf.reduce_mean(tf.nn.sigmoid_cross_entropy_with_logits(logits=logits, labels=tf_labels))\n",
    "optimizer = tf.train.AdamOptimizer(learning_rate=0.01)\n",
    "gradients, variables = zip(*optimizer.compute_gradients(loss_op))\n",
    "gradients, _ = tf.clip_by_global_norm(gradients, 5)\n",
    "opt = optimizer.apply_gradients(zip(gradients, variables))\n",
    "rgrad = tf.gradients(loss_op, tf_radius)\n",
    "\n",
    "s.run(tf.global_variables_initializer())\n",
    "loss = s.run([loss_op], feed_dict={tf_sdfs: sdf_values, tf_labels: labels})\n",
    "\n",
    "for i in range(5000):\n",
    "    loss, rad, rrg, _ = s.run([loss_op, tf_radius, rgrad, opt], feed_dict={tf_sdfs: sdf_values, tf_labels: labels})\n",
    "    if abs(rad - radii) < 0.003:\n",
    "        print(\"success!\")\n",
    "        break\n",
    "print(\"done.\")"
   ]
  },
  {
   "cell_type": "code",
   "execution_count": null,
   "metadata": {},
   "outputs": [],
   "source": []
  }
 ],
 "metadata": {
  "kernelspec": {
   "display_name": "Python 2",
   "language": "python",
   "name": "python2"
  },
  "language_info": {
   "codemirror_mode": {
    "name": "ipython",
    "version": 2
   },
   "file_extension": ".py",
   "mimetype": "text/x-python",
   "name": "python",
   "nbconvert_exporter": "python",
   "pygments_lexer": "ipython2",
   "version": "2.7.12"
  }
 },
 "nbformat": 4,
 "nbformat_minor": 2
}
