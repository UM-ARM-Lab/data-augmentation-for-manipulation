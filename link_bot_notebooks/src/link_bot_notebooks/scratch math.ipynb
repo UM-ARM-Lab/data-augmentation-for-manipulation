{
 "cells": [
  {
   "cell_type": "code",
   "execution_count": 1,
   "metadata": {},
   "outputs": [],
   "source": [
    "import numpy as np\n",
    "import matplotlib.pyplot as plt"
   ]
  },
  {
   "cell_type": "code",
   "execution_count": 5,
   "metadata": {},
   "outputs": [
    {
     "name": "stdout",
     "output_type": "stream",
     "text": [
      "[[-2.48 -0.82]\n",
      " [-0.82  1.56]]\n",
      "[[ 15.38461538   7.69230769]\n",
      " [ 23.07692308 -38.46153846]]\n",
      "[-47.46153846 149.30769231]\n"
     ]
    }
   ],
   "source": [
    "B = np.array([[-0.04, -0.21]])\n",
    "C = np.array([[ 0.05,  0.01], [ 0.03, -0.02]])\n",
    "D = np.array([[-1.24, -1.58], [ 0.76, 0.78]])\n",
    "g = np.array([ 0.08, -4.45])\n",
    "o = np.array([1, 0])\n",
    "print(D+D.T)\n",
    "print(np.linalg.inv(C))\n",
    "print(np.linalg.solve(C, g-o-np.dot(B,o)))"
   ]
  },
  {
   "cell_type": "code",
   "execution_count": null,
   "metadata": {},
   "outputs": [],
   "source": []
  }
 ],
 "metadata": {
  "kernelspec": {
   "display_name": "Python 3",
   "language": "python",
   "name": "python3"
  },
  "language_info": {
   "codemirror_mode": {
    "name": "ipython",
    "version": 2
   },
   "file_extension": ".py",
   "mimetype": "text/x-python",
   "name": "python",
   "nbconvert_exporter": "python",
   "pygments_lexer": "ipython2",
   "version": "2.7.12"
  }
 },
 "nbformat": 4,
 "nbformat_minor": 2
}
