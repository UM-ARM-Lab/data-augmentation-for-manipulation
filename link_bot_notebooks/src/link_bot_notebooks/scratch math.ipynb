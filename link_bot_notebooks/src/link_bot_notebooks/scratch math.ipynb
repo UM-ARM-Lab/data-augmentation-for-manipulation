{
 "cells": [
  {
   "cell_type": "code",
   "execution_count": 1,
   "metadata": {},
   "outputs": [],
   "source": [
    "import numpy as np\n",
    "import matplotlib.pyplot as plt"
   ]
  },
  {
   "cell_type": "code",
   "execution_count": 9,
   "metadata": {},
   "outputs": [],
   "source": [
    "B= np.array([[ 0.02,-0.04], [-0.1, 0.01]])\n",
    "C= np.array([[-0.18,-0.08], [ 0.09, 0.01]])\n",
    "D= np.array([[ 0.14, 0.14], [-0.39,-0.38]])"
   ]
  },
  {
   "cell_type": "code",
   "execution_count": 10,
   "metadata": {},
   "outputs": [
    {
     "name": "stdout",
     "output_type": "stream",
     "text": [
      "[[ 0.28 -0.25]\n",
      " [-0.25 -0.76]]\n",
      "[[  1.85185185  14.81481481]\n",
      " [-16.66666667 -33.33333333]]\n",
      "[-66.18518519 160.66666667]\n"
     ]
    }
   ],
   "source": [
    "g = np.array([ 0.08, -4.45])\n",
    "o = np.array([1, 0])\n",
    "print(D+D.T)\n",
    "print(np.linalg.inv(C))\n",
    "print(np.linalg.solve(C, g-o-np.dot(B,o)))"
   ]
  },
  {
   "cell_type": "code",
   "execution_count": null,
   "metadata": {},
   "outputs": [],
   "source": []
  }
 ],
 "metadata": {
  "kernelspec": {
   "display_name": "Python 3",
   "language": "python",
   "name": "python3"
  },
  "language_info": {
   "codemirror_mode": {
    "name": "ipython",
    "version": 2
   },
   "file_extension": ".py",
   "mimetype": "text/x-python",
   "name": "python",
   "nbconvert_exporter": "python",
   "pygments_lexer": "ipython2",
   "version": "2.7.12"
  }
 },
 "nbformat": 4,
 "nbformat_minor": 2
}
