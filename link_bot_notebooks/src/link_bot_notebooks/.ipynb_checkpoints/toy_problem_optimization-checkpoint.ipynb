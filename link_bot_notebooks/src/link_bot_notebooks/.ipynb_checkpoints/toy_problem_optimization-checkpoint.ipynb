{
 "cells": [
  {
   "cell_type": "markdown",
   "metadata": {},
   "source": [
    "# Toy Problem Optimization\n",
    "\n",
    "This notebook explores what happens when you take the two-link rope toy problem and pull the rope only towards increase X, which is easy"
   ]
  },
  {
   "cell_type": "code",
   "execution_count": 1,
   "metadata": {
    "scrolled": false
   },
   "outputs": [
    {
     "name": "stdout",
     "output_type": "stream",
     "text": [
      "importing Jupyter notebook from toy_problem_optimization_common.ipynb\n"
     ]
    }
   ],
   "source": [
    "import notebook_finder\n",
    "import numpy as np\n",
    "import matplotlib.pyplot as plt\n",
    "np.set_printoptions(suppress=True, precision=2)\n",
    "import toy_problem_optimization_common as tpo\n",
    "from toy_problem_optimization_common import BOLD\n",
    "np.random.seed(0)"
   ]
  },
  {
   "cell_type": "markdown",
   "metadata": {},
   "source": [
    "### Define goal\n",
    "\n",
    "Our goal will be denoted as $g$, for now we simply assume its defined in the full state space"
   ]
  },
  {
   "cell_type": "code",
   "execution_count": 2,
   "metadata": {
    "scrolled": true
   },
   "outputs": [],
   "source": [
    "g = np.array([[5], [0], [6], [0]])"
   ]
  },
  {
   "cell_type": "markdown",
   "metadata": {},
   "source": [
    "# Manual Data\n",
    "\n",
    "Let's pretend our data comes from pulling a 2-link object to the right for 6 time steps"
   ]
  },
  {
   "cell_type": "code",
   "execution_count": 3,
   "metadata": {
    "scrolled": true
   },
   "outputs": [],
   "source": [
    "manual_data = []\n",
    "manual_dt = 0.1\n",
    "for x1 in np.arange(0, 5, manual_dt):\n",
    "    y = 0 #np.random.randint(-10,10)\n",
    "    # Training data looks like [(s_t, u_t, s_{t+1}, c_t, c_{t+1})]\n",
    "    manual_data.append((np.array([[x1],[y],[x1+1],[y]]),\n",
    "         np.array([[1],[0]]),\n",
    "         np.array([[x1+manual_dt],[y],[x1+1+manual_dt],[y]]),\n",
    "         np.array([[(g[0] - x1)**2]]),\n",
    "         np.array([[(g[0] - (x1+manual_dt))**2]])))"
   ]
  },
  {
   "cell_type": "markdown",
   "metadata": {},
   "source": [
    "### X Model (Perfect)\n",
    "\n",
    "This model reduces the full state to just $x_1$. The dynamics are $\\dot{o}=v_x$, and the cost is simply the squared difference $(g - x_1)^2$"
   ]
  },
  {
   "cell_type": "code",
   "execution_count": 4,
   "metadata": {
    "scrolled": false
   },
   "outputs": [
    {
     "data": {
      "text/markdown": [
       "**X Model Loss:**"
      ],
      "text/plain": [
       "<IPython.core.display.Markdown object>"
      ]
     },
     "metadata": {},
     "output_type": "display_data"
    },
    {
     "name": "stdout",
     "output_type": "stream",
     "text": [
      "Loss Components:\n",
      "\tcurrent cost: 0.0\n",
      "\tpredict next latent state: 0.0\n",
      "\tpredict next cost: 0.0\n",
      "\tregularization: 1.7320508075688774e-05\n",
      "Complete Losses:\n",
      "\tpredict next latent state and current cost: 1.7320508075688774e-05\n",
      "\tpredict next cost and current cost: 1.7320508075688774e-05\n"
     ]
    }
   ],
   "source": [
    "x_model = tpo.LinearStateSpaceModelWithQuadraticCost(N=4, M=1, L=2)\n",
    "x_model.from_params([1, 0, 0, 0, 0, 1, 0, 1])\n",
    "BOLD(\"X Model Loss:\")\n",
    "x_eval = tpo.eval_model(x_model, manual_data, g, manual_dt, print_model=False)"
   ]
  },
  {
   "cell_type": "code",
   "execution_count": 6,
   "metadata": {
    "scrolled": true
   },
   "outputs": [
    {
     "data": {
      "image/png": "[encoded data removed]",
      "text/plain": [
       "<Figure size 432x288 with 1 Axes>"
      ]
     },
     "metadata": {
      "needs_background": "light"
     },
     "output_type": "display_data"
    },
    {
     "name": "stdout",
     "output_type": "stream",
     "text": [
      "Predicted cost of rollout [[429.25]]\n"
     ]
    }
   ],
   "source": [
    "s0 = np.array([[0], [0], [1], [0]])\n",
    "x_model_rollout_predicted_cost = tpo.plot_x_rollout(x_model, manual_data, manual_dt, s0, g)\n",
    "print(\"Predicted cost of rollout\", x_model_rollout_predicted_cost)"
   ]
  },
  {
   "cell_type": "markdown",
   "metadata": {},
   "source": [
    "### Model with all zeros\n",
    "\n",
    "We expect this to be bad"
   ]
  },
  {
   "cell_type": "code",
   "execution_count": 7,
   "metadata": {
    "scrolled": false
   },
   "outputs": [
    {
     "data": {
      "text/markdown": [
       "**Zero Model Loss:**"
      ],
      "text/plain": [
       "<IPython.core.display.Markdown object>"
      ]
     },
     "metadata": {},
     "output_type": "display_data"
    },
    {
     "name": "stdout",
     "output_type": "stream",
     "text": [
      "Loss Components:\n",
      "\tcurrent cost: 131.33333\n",
      "\tpredict next latent state: 0.0\n",
      "\tpredict next cost: 118.83333\n",
      "\tregularization: 0.0\n",
      "Complete Losses:\n",
      "\tpredict next latent state and current cost: 65.666665\n",
      "\tpredict next cost and current cost: 125.08332999999999\n"
     ]
    }
   ],
   "source": [
    "zero_model = tpo.LinearStateSpaceModelWithQuadraticCost(N=4, M=1, L=2)\n",
    "zero_model.from_params(np.zeros(8))\n",
    "BOLD(\"Zero Model Loss:\")\n",
    "zero_eval = tpo.eval_model(zero_model, manual_data, g, manual_dt, print_model=False)"
   ]
  },
  {
   "cell_type": "markdown",
   "metadata": {},
   "source": [
    "### Y Model\n",
    "\n",
    "reduces to just $y_1$, and says $\\dot{o}=v_y$, and cost is $(g-y_1)^2$\n",
    "\n",
    "we expect this to be bad."
   ]
  },
  {
   "cell_type": "code",
   "execution_count": 8,
   "metadata": {
    "scrolled": false
   },
   "outputs": [
    {
     "data": {
      "text/markdown": [
       "**Y Model Loss:**"
      ],
      "text/plain": [
       "<IPython.core.display.Markdown object>"
      ]
     },
     "metadata": {},
     "output_type": "display_data"
    },
    {
     "name": "stdout",
     "output_type": "stream",
     "text": [
      "Loss Components:\n",
      "\tcurrent cost: 131.33333\n",
      "\tpredict next latent state: 0.0\n",
      "\tpredict next cost: 118.83333\n",
      "\tregularization: 1.7320508075688774e-05\n",
      "Complete Losses:\n",
      "\tpredict next latent state and current cost: 65.66668232050807\n",
      "\tpredict next cost and current cost: 125.08334732050807\n"
     ]
    }
   ],
   "source": [
    "y_model = tpo.LinearStateSpaceModelWithQuadraticCost(N=4, M=1, L=2)\n",
    "y_model.from_params([0, 1, 0, 0, 0, 0, 1, 1])\n",
    "BOLD(\"Y Model Loss:\")\n",
    "y_eval = tpo.eval_model(y_model, manual_data, g, manual_dt, print_model=False)\n"
   ]
  },
  {
   "cell_type": "code",
   "execution_count": 10,
   "metadata": {
    "scrolled": true
   },
   "outputs": [
    {
     "data": {
      "image/png": "[encoded data removed]",
      "text/plain": [
       "<Figure size 432x288 with 1 Axes>"
      ]
     },
     "metadata": {
      "needs_background": "light"
     },
     "output_type": "display_data"
    },
    {
     "name": "stdout",
     "output_type": "stream",
     "text": [
      "Predicted cost of rollout [[0.]]\n"
     ]
    }
   ],
   "source": [
    "s0 = np.array([[0], [0], [1], [0]])\n",
    "y_model_rollout_predicted_cost = tpo.plot_x_rollout(y_model, manual_data, manual_dt, s0, g)\n",
    "print(\"Predicted cost of rollout\", y_model_rollout_predicted_cost)"
   ]
  },
  {
   "cell_type": "markdown",
   "metadata": {},
   "source": [
    "### Random Models (average)"
   ]
  },
  {
   "cell_type": "code",
   "execution_count": 11,
   "metadata": {
    "scrolled": false
   },
   "outputs": [
    {
     "name": "stdout",
     "output_type": "stream",
     "text": [
      "Median cost for random parameters 75.125\n"
     ]
    }
   ],
   "source": [
    "N = 1000\n",
    "costs = np.zeros(N)\n",
    "random_model = tpo.LinearStateSpaceModelWithQuadraticCost(N=4, M=1, L=2)\n",
    "for i in range(N):\n",
    "    random_params = np.random.randn(8)\n",
    "    random_model.from_params(random_params)\n",
    "    costs[i] = tpo.state_prediction_objective(random_model, g, manual_data, manual_dt)\n",
    "print(\"Median cost for random parameters {:.3f}\".format(np.median(costs)))"
   ]
  },
  {
   "cell_type": "code",
   "execution_count": 14,
   "metadata": {},
   "outputs": [
    {
     "data": {
      "image/png": "[encoded data removed]",
      "text/plain": [
       "<Figure size 432x288 with 1 Axes>"
      ]
     },
     "metadata": {
      "needs_background": "light"
     },
     "output_type": "display_data"
    },
    {
     "data": {
      "image/png": "[encoded data removed]",
      "text/plain": [
       "<Figure size 432x288 with 1 Axes>"
      ]
     },
     "metadata": {
      "needs_background": "light"
     },
     "output_type": "display_data"
    }
   ],
   "source": [
    "s0 = np.array([[0], [0], [1], [0]])\n",
    "tpo.plot_x_rollout(random_model, manual_data, manual_dt, s0, g)\n",
    "tpo.plot_cost(random_model, manual_data, manual_dt, g)"
   ]
  },
  {
   "cell_type": "markdown",
   "metadata": {},
   "source": [
    "### Trained  Model (C Loss)\n",
    "\n",
    "This should **NOT** work well"
   ]
  },
  {
   "cell_type": "code",
   "execution_count": 15,
   "metadata": {
    "scrolled": true
   },
   "outputs": [
    {
     "data": {
      "text/markdown": [
       "**C Manual Model Loss:**"
      ],
      "text/plain": [
       "<IPython.core.display.Markdown object>"
      ]
     },
     "metadata": {},
     "output_type": "display_data"
    },
    {
     "name": "stdout",
     "output_type": "stream",
     "text": [
      "Finished in 6 iterations\n",
      "Loss Components:\n",
      "\tcurrent cost: 0.24512900826816847\n",
      "\tpredict next latent state: 0.003971160399037236\n",
      "\tpredict next cost: 4.618882226281734e-24\n",
      "\tregularization: 0.0002974582435605111\n",
      "Complete Losses:\n",
      "\tpredict next latent state and current cost: 0.12484754257716336\n",
      "\tpredict next cost and current cost: 0.12286196237764474\n",
      "Model reduction Matrix: [[-1.28 16.82  0.29 17.61]]\n",
      "Dynamics Matrices: [[0.22]] , [[ 0.03 17.  ]]\n",
      "Cost Matrix: [[0.97]]\n"
     ]
    }
   ],
   "source": [
    "c_manual_model = tpo.LinearStateSpaceModelWithQuadraticCost(N=4, M=1, L=2)\n",
    "BOLD(\"C Manual Model Loss:\")\n",
    "c_manual_eval = tpo.train_and_eval(c_manual_model, manual_data, g, manual_dt, tpo.cost_prediction)"
   ]
  },
  {
   "cell_type": "markdown",
   "metadata": {},
   "source": [
    "### Trained  Model (CSP Loss)"
   ]
  },
  {
   "cell_type": "code",
   "execution_count": 16,
   "metadata": {
    "scrolled": true
   },
   "outputs": [
    {
     "data": {
      "text/markdown": [
       "**CSP Manual Model Loss:**"
      ],
      "text/plain": [
       "<IPython.core.display.Markdown object>"
      ]
     },
     "metadata": {},
     "output_type": "display_data"
    },
    {
     "name": "stdout",
     "output_type": "stream",
     "text": [
      "Finished in 4 iterations\n",
      "Loss Components:\n",
      "\tcurrent cost: 2.1324882514755152e-11\n",
      "\tpredict next latent state: 1.5061665423451467e-06\n",
      "\tpredict next cost: 9.515936186765245e-05\n",
      "\tregularization: 1.627658160680909e-05\n",
      "Complete Losses:\n",
      "\tpredict next latent state and current cost: 1.7029675540422923e-05\n",
      "\tpredict next cost and current cost: 6.385627320307658e-05\n",
      "Model reduction Matrix: [[-0.79  0.   -0.19  0.  ]]\n",
      "Dynamics Matrices: [[0.01]] , [[-0.96 -0.  ]]\n",
      "Cost Matrix: [[1.03]]\n"
     ]
    }
   ],
   "source": [
    "csp_manual_model = tpo.LinearStateSpaceModelWithQuadraticCost(N=4, M=1, L=2)\n",
    "BOLD(\"CSP Manual Model Loss:\")\n",
    "csp_manual_eval = tpo.train_and_eval(csp_manual_model, manual_data, g, manual_dt, tpo.state_prediction_objective)\n",
    "# csp_manual_0_eval = tpo.train_and_eval(csp_manual_model, manual_data, g, manual_dt, tpo.state_prediction_objective, tpo.ZEROS)"
   ]
  },
  {
   "cell_type": "markdown",
   "metadata": {},
   "source": [
    "### Apply learned model given the actions we trained on, starting at the same initial state\n",
    "\n",
    "Consider what happens if we follow a plan of pulling in positive X from the origin?\n",
    "The true cost is the sum: $(5-0)^2+(5-0.1)^2+\\dots+(5-4.9)^2+(5-5)^2$"
   ]
  },
  {
   "cell_type": "code",
   "execution_count": 17,
   "metadata": {
    "scrolled": false
   },
   "outputs": [
    {
     "name": "stdout",
     "output_type": "stream",
     "text": [
      "429.25000000000006\n"
     ]
    }
   ],
   "source": [
    "# This is what we know the cost will be...\n",
    "cost = 0\n",
    "for x1 in np.arange(0, 5, .1):\n",
    "    cost += (5-x1)**2\n",
    "print(cost)"
   ]
  },
  {
   "cell_type": "code",
   "execution_count": 18,
   "metadata": {
    "scrolled": true
   },
   "outputs": [
    {
     "ename": "AttributeError",
     "evalue": "module 'toy_problem_optimization_common' has no attribute 'plot_rollout'",
     "output_type": "error",
     "traceback": [
      "\u001b[0;31m---------------------------------------------------------------------------\u001b[0m",
      "\u001b[0;31mAttributeError\u001b[0m                            Traceback (most recent call last)",
      "\u001b[0;32m<ipython-input-18-3b7fbbb3d3a8>\u001b[0m in \u001b[0;36m<module>\u001b[0;34m\u001b[0m\n\u001b[1;32m      1\u001b[0m \u001b[0ms0\u001b[0m \u001b[0;34m=\u001b[0m \u001b[0mnp\u001b[0m\u001b[0;34m.\u001b[0m\u001b[0marray\u001b[0m\u001b[0;34m(\u001b[0m\u001b[0;34m[\u001b[0m\u001b[0;34m[\u001b[0m\u001b[0;36m0\u001b[0m\u001b[0;34m]\u001b[0m\u001b[0;34m,\u001b[0m \u001b[0;34m[\u001b[0m\u001b[0;36m0\u001b[0m\u001b[0;34m]\u001b[0m\u001b[0;34m,\u001b[0m \u001b[0;34m[\u001b[0m\u001b[0;36m1\u001b[0m\u001b[0;34m]\u001b[0m\u001b[0;34m,\u001b[0m \u001b[0;34m[\u001b[0m\u001b[0;36m0\u001b[0m\u001b[0;34m]\u001b[0m\u001b[0;34m]\u001b[0m\u001b[0;34m)\u001b[0m\u001b[0;34m\u001b[0m\u001b[0m\n\u001b[0;32m----> 2\u001b[0;31m \u001b[0mcsp_manual_model_rollout_predicted_cost\u001b[0m \u001b[0;34m=\u001b[0m \u001b[0mtpo\u001b[0m\u001b[0;34m.\u001b[0m\u001b[0mplot_rollout\u001b[0m\u001b[0;34m(\u001b[0m\u001b[0mcsp_manual_model\u001b[0m\u001b[0;34m,\u001b[0m \u001b[0mmanual_data\u001b[0m\u001b[0;34m,\u001b[0m \u001b[0mmanual_dt\u001b[0m\u001b[0;34m,\u001b[0m \u001b[0ms0\u001b[0m\u001b[0;34m,\u001b[0m \u001b[0mg\u001b[0m\u001b[0;34m)\u001b[0m\u001b[0;34m\u001b[0m\u001b[0m\n\u001b[0m\u001b[1;32m      3\u001b[0m \u001b[0mprint\u001b[0m\u001b[0;34m(\u001b[0m\u001b[0;34m\"Predicted cost of rollout\"\u001b[0m\u001b[0;34m,\u001b[0m \u001b[0mcsp_manual_model_rollout_predicted_cost\u001b[0m\u001b[0;34m)\u001b[0m\u001b[0;34m\u001b[0m\u001b[0m\n",
      "\u001b[0;31mAttributeError\u001b[0m: module 'toy_problem_optimization_common' has no attribute 'plot_rollout'"
     ]
    }
   ],
   "source": [
    "s0 = np.array([[0], [0], [1], [0]])\n",
    "csp_manual_model_rollout_predicted_cost = tpo.plot_x_rollout(csp_manual_model, manual_data, manual_dt, s0, g)\n",
    "print(\"Predicted cost of rollout\", csp_manual_model_rollout_predicted_cost)"
   ]
  },
  {
   "cell_type": "code",
   "execution_count": null,
   "metadata": {},
   "outputs": [],
   "source": [
    "tpo.plot_cost(csp_manual_model, manual_data, manual_dt, g)"
   ]
  },
  {
   "cell_type": "markdown",
   "metadata": {},
   "source": [
    "### Trained  Model (CCP Loss)"
   ]
  },
  {
   "cell_type": "code",
   "execution_count": null,
   "metadata": {
    "scrolled": true
   },
   "outputs": [],
   "source": [
    "ccp_manual_model = tpo.LinearStateSpaceModelWithQuadraticCost(N=4, M=1, L=2)\n",
    "BOLD(\"CCP Manual Model Loss:\")\n",
    "ccp_manual_eval = tpo.train_and_eval(ccp_manual_model, manual_data, g, manual_dt, tpo.one_step_cost_prediction_objective)\n",
    "# ccp_manual_0_eval = tpo.train_and_eval(ccp_manual_model, manual_data, g, manual_dt, tpo.one_step_cost_prediction_objective, tpo.ZEROS)"
   ]
  },
  {
   "cell_type": "markdown",
   "metadata": {},
   "source": [
    "### Apply learned model given the actions we trained on, starting at the same initial state"
   ]
  },
  {
   "cell_type": "code",
   "execution_count": null,
   "metadata": {
    "scrolled": false
   },
   "outputs": [],
   "source": [
    "s0 = np.array([[0], [0], [1], [0]])\n",
    "ccp_manual_model_rollout_predicted_cost = tpo.plot_rollout(ccp_manual_model, manual_data, manual_dt, s0, g)\n",
    "print(\"Predicted cost of rollout\", ccp_manual_model_rollout_predicted_cost)"
   ]
  },
  {
   "cell_type": "code",
   "execution_count": null,
   "metadata": {},
   "outputs": [],
   "source": [
    "tpo.plot_cost(ccp_manual_model, manual_data, manual_dt, g)"
   ]
  },
  {
   "cell_type": "markdown",
   "metadata": {},
   "source": [
    "# Now with some data from Gazebo"
   ]
  },
  {
   "cell_type": "code",
   "execution_count": null,
   "metadata": {
    "scrolled": false
   },
   "outputs": [],
   "source": [
    "gazebo_fwd_data = tpo.load_gazebo_data(\"/home/pmitrano/catkin_ws/src/link_bot/link_bot_teleop/data/fwd_1.txt\", g)\n",
    "gazebo_dt = 0.1"
   ]
  },
  {
   "cell_type": "code",
   "execution_count": null,
   "metadata": {
    "scrolled": false
   },
   "outputs": [],
   "source": [
    "tpo.plot_gz_data(gazebo_fwd_data)"
   ]
  },
  {
   "cell_type": "markdown",
   "metadata": {},
   "source": [
    "### See how our previous model reduction transfers\n",
    "\n",
    "To use the same models, the dimensionality of the input data must be the same."
   ]
  },
  {
   "cell_type": "code",
   "execution_count": null,
   "metadata": {
    "scrolled": false
   },
   "outputs": [],
   "source": [
    "print(\"Use the models trained on manual synthetic data, test on new Gazebo pull data\")\n",
    "BOLD(\"CSP Model\")\n",
    "csp_manual_eval_on_gz = tpo.eval_model(csp_manual_model, gazebo_fwd_data, g, gazebo_dt, print_model=False)\n",
    "BOLD(\"CCP Model\")\n",
    "ccp_manual_eval_on_gz = tpo.eval_model(ccp_manual_model, gazebo_fwd_data, g, gazebo_dt, print_model=False)"
   ]
  },
  {
   "cell_type": "markdown",
   "metadata": {},
   "source": [
    "### Apply model trained on manual data to gazebo actions"
   ]
  },
  {
   "cell_type": "code",
   "execution_count": null,
   "metadata": {
    "scrolled": false
   },
   "outputs": [],
   "source": [
    "s0 = np.array([[0], [0], [1], [0]])\n",
    "csp_manual_model_gz_rollout_predicted_cost = tpo.plot_rollout(csp_manual_model, gazebo_fwd_data, gazebo_dt, s0, g)\n",
    "print(\"Predicted cost using CSP Manual Model of rollout in Gazebo\", csp_manual_model_gz_rollout_predicted_cost)\n",
    "tpo.plot_cost(csp_manual_model, gazebo_fwd_data, gazebo_dt, g)"
   ]
  },
  {
   "cell_type": "code",
   "execution_count": null,
   "metadata": {
    "scrolled": false
   },
   "outputs": [],
   "source": [
    "s0 = np.array([[0], [0], [1], [0]])\n",
    "ccp_manual_model_gz_rollout_predicted_cost = tpo.plot_rollout(ccp_manual_model, gazebo_fwd_data, gazebo_dt, s0, g)\n",
    "print(\"Predicted cost using CCP Manual Model of rollout in Gazebo\", ccp_manual_model_gz_rollout_predicted_cost)\n",
    "tpo.plot_cost(ccp_manual_model, gazebo_fwd_data, gazebo_dt, g)"
   ]
  },
  {
   "cell_type": "markdown",
   "metadata": {},
   "source": [
    "### Show that our hand-designed parameters still work well"
   ]
  },
  {
   "cell_type": "code",
   "execution_count": null,
   "metadata": {
    "scrolled": false
   },
   "outputs": [],
   "source": [
    "x_model_eval_on_gz = tpo.eval_model(x_model, gazebo_fwd_data, g, gazebo_dt, print_model=False)"
   ]
  },
  {
   "cell_type": "markdown",
   "metadata": {},
   "source": [
    "### Try to optimize on our new data"
   ]
  },
  {
   "cell_type": "code",
   "execution_count": null,
   "metadata": {
    "scrolled": true
   },
   "outputs": [],
   "source": [
    "csp_gz_model = tpo.LinearStateSpaceModelWithQuadraticCost(N=4, M=1, L=2)\n",
    "csp_gz_eval = tpo.train_and_eval(csp_gz_model, gazebo_fwd_data, g, gazebo_dt, tpo.state_prediction_objective)\n",
    "csp_gz_meta_eval = tpo.train_and_eval(csp_gz_model, gazebo_fwd_data, g, gazebo_dt, tpo.state_prediction_objective, initial_params=csp_manual_model.to_params())\n",
    "# csp_gz_0_eval = tpo.train_and_eval(csp_gz_model, gazebo_fwd_data, g, gazebo_dt, tpo.state_prediction_objective, tpo.ZEROS)"
   ]
  },
  {
   "cell_type": "code",
   "execution_count": null,
   "metadata": {
    "scrolled": false
   },
   "outputs": [],
   "source": [
    "s0 = np.array([[0], [0], [1], [0]])\n",
    "tpo.plot_rollout(csp_gz_model, gazebo_fwd_data, gazebo_dt, s0, g)\n",
    "tpo.plot_cost(csp_gz_model, gazebo_fwd_data, gazebo_dt, g)"
   ]
  },
  {
   "cell_type": "code",
   "execution_count": null,
   "metadata": {
    "scrolled": false
   },
   "outputs": [],
   "source": [
    "ccp_gz_model = tpo.LinearStateSpaceModelWithQuadraticCost(N=4, M=1, L=2)\n",
    "ccp_gz_eval = tpo.train_and_eval(ccp_gz_model, gazebo_fwd_data, g, gazebo_dt, tpo.one_step_cost_prediction_objective)\n",
    "ccp_gz_meta_eval = tpo.train_and_eval(ccp_gz_model, gazebo_fwd_data, g, gazebo_dt, tpo.one_step_cost_prediction_objective, initial_params=ccp_manual_model.to_params())"
   ]
  },
  {
   "cell_type": "code",
   "execution_count": null,
   "metadata": {
    "scrolled": false
   },
   "outputs": [],
   "source": [
    "s0 = np.array([[0], [0], [1], [0]])\n",
    "tpo.plot_rollout(ccp_gz_model, gazebo_fwd_data, gazebo_dt, s0, g)\n",
    "tpo.plot_cost(ccp_gz_model, gazebo_fwd_data, gazebo_dt, g)"
   ]
  },
  {
   "cell_type": "markdown",
   "metadata": {
    "variables": {
     "ccp_gz_eval[0]": "<p><strong>NameError</strong>: name &#39;ccp_gz_eval&#39; is not defined</p>\n",
     "ccp_gz_eval[1]": "<p><strong>NameError</strong>: name &#39;ccp_gz_eval&#39; is not defined</p>\n",
     "ccp_gz_eval[2]": "<p><strong>NameError</strong>: name &#39;ccp_gz_eval&#39; is not defined</p>\n",
     "ccp_gz_eval[3]": "<p><strong>NameError</strong>: name &#39;ccp_gz_eval&#39; is not defined</p>\n",
     "ccp_gz_meta_eval[0]": "<p><strong>NameError</strong>: name &#39;ccp_gz_meta_eval&#39; is not defined</p>\n",
     "ccp_gz_meta_eval[1]": "<p><strong>NameError</strong>: name &#39;ccp_gz_meta_eval&#39; is not defined</p>\n",
     "ccp_gz_meta_eval[2]": "<p><strong>NameError</strong>: name &#39;ccp_gz_meta_eval&#39; is not defined</p>\n",
     "ccp_gz_meta_eval[3]": "<p><strong>NameError</strong>: name &#39;ccp_gz_meta_eval&#39; is not defined</p>\n",
     "ccp_manual_eval[0]": "<p><strong>NameError</strong>: name &#39;ccp_manual_eval&#39; is not defined</p>\n",
     "ccp_manual_eval[1]": "<p><strong>NameError</strong>: name &#39;ccp_manual_eval&#39; is not defined</p>\n",
     "ccp_manual_eval[2]": "<p><strong>NameError</strong>: name &#39;ccp_manual_eval&#39; is not defined</p>\n",
     "ccp_manual_eval[3]": "<p><strong>NameError</strong>: name &#39;ccp_manual_eval&#39; is not defined</p>\n",
     "ccp_manual_eval_on_gz[0]": "<p><strong>NameError</strong>: name &#39;ccp_manual_eval_on_gz&#39; is not defined</p>\n",
     "ccp_manual_eval_on_gz[1]": "<p><strong>NameError</strong>: name &#39;ccp_manual_eval_on_gz&#39; is not defined</p>\n",
     "ccp_manual_eval_on_gz[2]": "<p><strong>NameError</strong>: name &#39;ccp_manual_eval_on_gz&#39; is not defined</p>\n",
     "ccp_manual_eval_on_gz[3]": "<p><strong>NameError</strong>: name &#39;ccp_manual_eval_on_gz&#39; is not defined</p>\n",
     "csp_gz_eval[0]": "<p><strong>NameError</strong>: name &#39;csp_gz_eval&#39; is not defined</p>\n",
     "csp_gz_eval[1]": "<p><strong>NameError</strong>: name &#39;csp_gz_eval&#39; is not defined</p>\n",
     "csp_gz_eval[2]": "<p><strong>NameError</strong>: name &#39;csp_gz_eval&#39; is not defined</p>\n",
     "csp_gz_eval[3]": "<p><strong>NameError</strong>: name &#39;csp_gz_eval&#39; is not defined</p>\n",
     "csp_gz_meta_eval[0]": "<p><strong>NameError</strong>: name &#39;csp_gz_meta_eval&#39; is not defined</p>\n",
     "csp_gz_meta_eval[1]": "<p><strong>NameError</strong>: name &#39;csp_gz_meta_eval&#39; is not defined</p>\n",
     "csp_gz_meta_eval[2]": "<p><strong>NameError</strong>: name &#39;csp_gz_meta_eval&#39; is not defined</p>\n",
     "csp_gz_meta_eval[3]": "<p><strong>NameError</strong>: name &#39;csp_gz_meta_eval&#39; is not defined</p>\n",
     "csp_manual_eval[0]": "<p><strong>NameError</strong>: name &#39;csp_manual_eval&#39; is not defined</p>\n",
     "csp_manual_eval[1]": "<p><strong>NameError</strong>: name &#39;csp_manual_eval&#39; is not defined</p>\n",
     "csp_manual_eval[2]": "<p><strong>NameError</strong>: name &#39;csp_manual_eval&#39; is not defined</p>\n",
     "csp_manual_eval[3]": "<p><strong>NameError</strong>: name &#39;csp_manual_eval&#39; is not defined</p>\n",
     "csp_manual_eval_on_gz[0]": "<p><strong>NameError</strong>: name &#39;csp_manual_eval_on_gz&#39; is not defined</p>\n",
     "csp_manual_eval_on_gz[1]": "<p><strong>NameError</strong>: name &#39;csp_manual_eval_on_gz&#39; is not defined</p>\n",
     "csp_manual_eval_on_gz[2]": "<p><strong>NameError</strong>: name &#39;csp_manual_eval_on_gz&#39; is not defined</p>\n",
     "csp_manual_eval_on_gz[3]": "<p><strong>NameError</strong>: name &#39;csp_manual_eval_on_gz&#39; is not defined</p>\n",
     "x_eval[0]": "0.0",
     "x_eval[1]": "0.0",
     "x_eval[2]": "0.0",
     "x_eval[3]": "1.7320508075688774e-05",
     "y_eval[0]": "<p><strong>NameError</strong>: name &#39;y_eval&#39; is not defined</p>\n",
     "y_eval[1]": "<p><strong>NameError</strong>: name &#39;y_eval&#39; is not defined</p>\n",
     "y_eval[2]": "<p><strong>NameError</strong>: name &#39;y_eval&#39; is not defined</p>\n",
     "y_eval[3]": "<p><strong>NameError</strong>: name &#39;y_eval&#39; is not defined</p>\n",
     "zero_eval[0]": "<p><strong>NameError</strong>: name &#39;zero_eval&#39; is not defined</p>\n",
     "zero_eval[1]": "<p><strong>NameError</strong>: name &#39;zero_eval&#39; is not defined</p>\n",
     "zero_eval[2]": "<p><strong>NameError</strong>: name &#39;zero_eval&#39; is not defined</p>\n",
     "zero_eval[3]": "<p><strong>NameError</strong>: name &#39;zero_eval&#39; is not defined</p>\n"
    }
   },
   "source": [
    "# Summary of Results On The Gazebo Pull Data\n",
    "\n",
    "How well do each of the models do on the Gazebo pull data?\n",
    "\n",
    "Zero here is perfect.\n",
    "\n",
    "### Hand-Picked\n",
    "\n",
    "|Model|Current Cost Loss|Predict State Loss|Predict Cost Loss|Regularization Loss|\n",
    "|-|-|-|-|-|\n",
    "|Zero model|{{zero_eval[0]}}|{{zero_eval[1]}}|{{zero_eval[2]}}|{{zero_eval[3]}}|\n",
    "|Y model|{{y_eval[0]}}|{{y_eval[1]}}|{{y_eval[2]}}|{{y_eval[3]}}|\n",
    "|X model|{{x_eval[0]}}|{{x_eval[1]}}|{{x_eval[2]}}|{{x_eval[3]}}|\n",
    "\n",
    "### Trained on CSP \n",
    "\n",
    "|Model|Current Cost Loss|Predict State Loss|Predict Cost Loss|Regularization Loss|\n",
    "|-|-|-|-|-|\n",
    "|Learned Manual model|{{csp_manual_eval[0]}}|{{csp_manual_eval[1]}}|{{csp_manual_eval[2]}}|{{csp_manual_eval[3]}}|\n",
    "|Transfer Learned Manual model|{{csp_manual_eval_on_gz[0]}}|{{csp_manual_eval_on_gz[1]}}|{{csp_manual_eval_on_gz[2]}}|{{csp_manual_eval_on_gz[3]}}|\n",
    "|Learned Gazebo model|{{csp_gz_eval[0]}}|{{csp_gz_eval[1]}}|{{csp_gz_eval[2]}}|{{csp_gz_eval[3]}}|\n",
    "|Meta-Learned gz model|{{csp_gz_meta_eval[0]}}|{{csp_gz_meta_eval[1]}}|{{csp_gz_meta_eval[2]}}|{{csp_gz_meta_eval[3]}}|\n",
    "\n",
    "\n",
    "### Trained on CCP \n",
    "\n",
    "|Model|Current Cost Loss|Predict State Loss|Predict Cost Loss|Regularization Loss|\n",
    "|-|-|-|-|-|\n",
    "|Learned Manual model|{{ccp_manual_eval[0]}}|{{ccp_manual_eval[1]}}|{{ccp_manual_eval[2]}}|{{ccp_manual_eval[3]}}|\n",
    "|Transfer Learned Manual model|{{ccp_manual_eval_on_gz[0]}}|{{ccp_manual_eval_on_gz[1]}}|{{ccp_manual_eval_on_gz[2]}}|{{ccp_manual_eval_on_gz[3]}}|\n",
    "|Learned Gazebo model|{{ccp_gz_eval[0]}}|{{ccp_gz_eval[1]}}|{{ccp_gz_eval[2]}}|{{ccp_gz_eval[3]}}|\n",
    "|Meta-Learned gz model|{{ccp_gz_meta_eval[0]}}|{{ccp_gz_meta_eval[1]}}|{{ccp_gz_meta_eval[2]}}|{{ccp_gz_meta_eval[3]}}|\n",
    "\n",
    "One of the issues currently is that the training routine is not reproducible, as in starting from a different random vector can give very different results"
   ]
  },
  {
   "cell_type": "code",
   "execution_count": null,
   "metadata": {
    "scrolled": false
   },
   "outputs": [],
   "source": []
  }
 ],
 "metadata": {
  "kernelspec": {
   "display_name": "Python 3",
   "language": "python",
   "name": "python3"
  },
  "language_info": {
   "codemirror_mode": {
    "name": "ipython",
    "version": 3
   },
   "file_extension": ".py",
   "mimetype": "text/x-python",
   "name": "python",
   "nbconvert_exporter": "python",
   "pygments_lexer": "ipython3",
   "version": "3.5.2"
  }
 },
 "nbformat": 4,
 "nbformat_minor": 2
}
