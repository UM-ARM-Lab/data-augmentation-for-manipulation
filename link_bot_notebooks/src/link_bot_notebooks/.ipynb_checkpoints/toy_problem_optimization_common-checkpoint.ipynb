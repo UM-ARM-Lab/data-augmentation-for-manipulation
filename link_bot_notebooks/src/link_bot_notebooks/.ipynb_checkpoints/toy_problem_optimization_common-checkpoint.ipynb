{
 "cells": [
  {
   "cell_type": "code",
   "execution_count": 2,
   "metadata": {
    "scrolled": true
   },
   "outputs": [],
   "source": [
    "import numpy as np\n",
    "import matplotlib.pyplot as plt\n",
    "np.set_printoptions(suppress=True, precision=2)\n",
    "from IPython.display import display, Markdown, Pretty, HTML\n",
    "import scipy.optimize as optimize\n",
    "\n",
    "def BOLD(x):\n",
    "    display(Markdown(\"**\" + str(x) + \"**\"))"
   ]
  },
  {
   "cell_type": "markdown",
   "metadata": {},
   "source": [
    "# Optimize Simple Models\n",
    "\n",
    "We assume linear forms for all our functions:\n",
    "\n",
    "$$\n",
    "\\begin{align}\n",
    "o_t &= As_t \\\\\n",
    "\\frac{\\partial o_t}{\\partial t} &= Bo_t + Cu_t && \\text{continuous} \\\\\n",
    "o_{t+1} &= o_t + \\Delta t(Bo_t + Cu_t) && \\text{discrete} \\\\\n",
    "\\hat{c}(s_t) &= (Ag - As_t)^TD(Ag - As_t)\\\\\n",
    "\\end{align}\n",
    "$$"
   ]
  },
  {
   "cell_type": "code",
   "execution_count": 19,
   "metadata": {},
   "outputs": [],
   "source": [
    "class LinearStateSpaceModelWithQuadraticCost:\n",
    "    \n",
    "    def __init__(self, N, M, L):\n",
    "        \"\"\"\n",
    "        N: dimensionality of the full state\n",
    "        M: dimensionality in the reduced state\n",
    "        L: dimensionality in the actions\n",
    "        \"\"\"\n",
    "        self.N = N\n",
    "        self.M = M\n",
    "        self.L = L\n",
    "        self.A = np.ndarray((M, N))\n",
    "        self.B = np.ndarray((1, M))\n",
    "        self.C = np.ndarray((M, L))\n",
    "        self.D = np.ndarray((M, M))\n",
    "        \n",
    "    def size(self):\n",
    "        return self.A.size + self.B.size + self.C.size + self.D.size\n",
    "        \n",
    "    def from_matrices(self, A, B, C, D):\n",
    "        assert A.size == self.A.size\n",
    "        assert B.size == self.B.size\n",
    "        assert C.size == self.C.size\n",
    "        assert D.size == self.D.size\n",
    "        \n",
    "        self.A = A\n",
    "        self.B = B\n",
    "        self.C = C\n",
    "        self.D = D\n",
    "        \n",
    "    def from_params(self, params):\n",
    "        assert len(params) == self.size(), \"Expected {:d} params, fot {:d}\".format(self.size(), len(params))\n",
    "        params = np.array(params)\n",
    "        n_A = self.A.size\n",
    "        self.A = params[0:n_A].reshape(self.A.shape)\n",
    "        n_B = n_A + self.B.size\n",
    "        self.B = params[n_A:n_B].reshape(self.B.shape)\n",
    "        n_C = n_B + self.C.size\n",
    "        self.C = params[n_B:n_C].reshape(self.C.shape)\n",
    "        n_D = n_C + self.D.size\n",
    "        self.D = params[n_C:n_D].reshape(self.D.shape)\n",
    "    \n",
    "    def to_params(self):\n",
    "        return np.concatenate((self.A.flatten(),\n",
    "                               self.B.flatten(),\n",
    "                               self.C.flatten(),\n",
    "                               self.D.flatten()))\n",
    "    \n",
    "    def reduce(self, s):\n",
    "        return np.dot(self.A, s)\n",
    "\n",
    "    def predict_from_s(self, s, u, dt):\n",
    "        o = np.dot(self.A, s)\n",
    "        o_ = o + (np.dot(self.B, o) + np.dot(self.C, u)) * dt\n",
    "        return o_\n",
    "\n",
    "    def predict_from_o(self, o, u, dt):\n",
    "        o_ = o + (np.dot(self.B, o) + np.dot(self.C, u)) * dt\n",
    "        return o_\n",
    "\n",
    "    def cost_of_s(self, s, g):\n",
    "        o = np.dot(self.A, s)\n",
    "        o_g = np.dot(self.A, g)\n",
    "        return np.dot((o_g - o).T, np.dot(self.D, o_g - o))\n",
    "    \n",
    "    def cost_of_o(self, o, g):\n",
    "        o_g = np.dot(self.A, g)\n",
    "        return np.dot((o_g - o).T, np.dot(self.D, o_g - o))\n",
    "    \n",
    "    def predict_cost(self, o, u, dt, g):\n",
    "        return self.cost_of_o(self.predict_from_o(o, u, dt), g)\n",
    "            \n",
    "    def __repr__(self):\n",
    "        print(\"Model reduction Matrix:\", self.A)\n",
    "        print(\"Dynamics Matrices:\", self.B, ',', self.C)\n",
    "        print(\"Cost Matrix:\", self.D)"
   ]
  },
  {
   "cell_type": "markdown",
   "metadata": {},
   "source": [
    "# Train"
   ]
  },
  {
   "cell_type": "code",
   "execution_count": 7,
   "metadata": {
    "scrolled": true
   },
   "outputs": [],
   "source": [
    "def train(data, model, goal, dt, objective_func, initial_params=None, **kwargs):\n",
    "    \"\"\"\n",
    "    mutates the model that was passed in\n",
    "    \"\"\"\n",
    "        \n",
    "    def __objective(params):\n",
    "        model.from_params(params)\n",
    "        return objective_func(model=model, g=goal, data=data, dt=dt, **kwargs)\n",
    "    \n",
    "    if initial_params is None:\n",
    "        initial_params = np.random.randn(model.size())\n",
    "        \n",
    "    result = optimize.minimize(__objective, initial_params, method='Powell')\n",
    "    \n",
    "    if not result.success:\n",
    "        print(\"Status: {:d}, Message: {:s}\".format(result.status, result.message))\n",
    "        return None\n",
    "    print('Finished in {:d} iterations'.format(result.nit))"
   ]
  },
  {
   "cell_type": "markdown",
   "metadata": {},
   "source": [
    "# Objectives"
   ]
  },
  {
   "cell_type": "markdown",
   "metadata": {},
   "source": [
    "Mean Squared Error of our cost error\n",
    "$$ \\text{C}_\\theta = \\frac{1}{K}\\sum_1^K \\big[\\hat{c}(f_\\theta(s), f_\\theta(g)) - c(s_t)\\big]^2 $$"
   ]
  },
  {
   "cell_type": "code",
   "execution_count": 8,
   "metadata": {},
   "outputs": [],
   "source": [
    "def current_cost(model, g, data):\n",
    "    err = np.zeros(len(data))\n",
    "    for i, (s, u, s_, c, c_) in enumerate(data):\n",
    "        err[i] = model.cost_of_s(s, g) - c\n",
    "       \n",
    "    return (err**2).mean()"
   ]
  },
  {
   "cell_type": "markdown",
   "metadata": {},
   "source": [
    "Mean Squared Error of our state prediction error\n",
    "$$ \\text{SP}_\\theta = \\frac{1}{K}\\sum_1^K \\big[T_\\theta(f_\\theta(s_t), u_t) - f_\\theta(s_{t+1})\\big]^2 $$"
   ]
  },
  {
   "cell_type": "code",
   "execution_count": 9,
   "metadata": {},
   "outputs": [],
   "source": [
    "def state_prediction(model, g, data, dt):\n",
    "    err = np.zeros(len(data))\n",
    "    for i, (s, u, s_, c, c_) in enumerate(data):\n",
    "        err[i] = np.linalg.norm(model.predict_from_s(s, u, dt) - model.reduce(s_))\n",
    "        \n",
    "    return (err**2).mean()"
   ]
  },
  {
   "cell_type": "markdown",
   "metadata": {},
   "source": [
    "Mean Squared Error of our cost prediction error\n",
    "$$ \\text{CP}_\\theta = \\frac{1}{K}\\sum_1^K \\big[\\hat{c}_\\theta(T_\\theta(f_\\theta(s_t), u_t)) - c(s_{t+1})\\big]^2 $$"
   ]
  },
  {
   "cell_type": "code",
   "execution_count": 10,
   "metadata": {},
   "outputs": [],
   "source": [
    "def cost_prediction(model, g, data, dt):\n",
    "    err = np.zeros(len(data))\n",
    "    for i, (s, u, s_, c, c_) in enumerate(data):\n",
    "        o = model.reduce(s)\n",
    "        err[i] = np.linalg.norm(model.predict_cost(o, u, dt, g) - c_)\n",
    "        \n",
    "    return (err**2).mean()"
   ]
  },
  {
   "cell_type": "markdown",
   "metadata": {},
   "source": [
    "$$ \\text{CSP}_\\theta = \\alpha \\text{C}_\\theta + (1 - \\alpha ) \\text{SP}_\\theta + \\epsilon ||\\theta|| $$ "
   ]
  },
  {
   "cell_type": "code",
   "execution_count": 11,
   "metadata": {},
   "outputs": [],
   "source": [
    "def state_prediction_objective(model, g, data, dt, alpha=0.5, regularization=1e-4):\n",
    "    \"\"\" return: MSE over all training examples \"\"\"\n",
    "    obj = alpha * state_prediction(model, g, data, dt)\n",
    "    obj += (1 - alpha) * current_cost(model, g, data)\n",
    "    obj += regularization * np.linalg.norm(model.to_params())\n",
    "    return obj"
   ]
  },
  {
   "cell_type": "markdown",
   "metadata": {},
   "source": [
    "$$ \\text{CCP}_\\theta = \\alpha \\text{C}_\\theta + (1 - \\alpha ) \\text{CP}_\\theta + \\epsilon ||\\theta|| $$ "
   ]
  },
  {
   "cell_type": "code",
   "execution_count": 12,
   "metadata": {
    "scrolled": true
   },
   "outputs": [],
   "source": [
    "def one_step_cost_prediction_objective(model, g, data, dt, alpha=0.5, regularization=1e-4):\n",
    "    \"\"\" return: MSE over all training examples \"\"\"\n",
    "    obj = alpha * cost_prediction(model, g, data, dt)\n",
    "    obj += (1 - alpha) * current_cost(model, g, data)\n",
    "    obj += regularization * np.linalg.norm(model.to_params())\n",
    "    return obj"
   ]
  },
  {
   "cell_type": "markdown",
   "metadata": {},
   "source": [
    "# Functions for handling Gazebo data"
   ]
  },
  {
   "cell_type": "code",
   "execution_count": 13,
   "metadata": {
    "scrolled": true
   },
   "outputs": [],
   "source": [
    "# Load some test data\n",
    "def load_gazebo_data(log_file ,g):\n",
    "    log_data = np.loadtxt(log_file)\n",
    "    new_data = []\n",
    "    for i in range(log_data.shape[0] - 1):\n",
    "        s = np.expand_dims(log_data[i][0:4], axis=1)\n",
    "        s_ = np.expand_dims(log_data[i+1][0:4], axis=1)\n",
    "        u = np.expand_dims(log_data[i][4:6], axis=1)\n",
    "         # NOTE: we are now using quadratic cost here!\n",
    "        c = (log_data[i][0] - g[0])**2 + (log_data[i][1] - g[1])**2\n",
    "        c_ = (log_data[i+1][0] - g[0])**2 + (log_data[i+1][1] - g[1])**2\n",
    "        new_datum = [s, u, s_, c, c_]\n",
    "        new_data.append(new_datum)\n",
    "    return new_data"
   ]
  },
  {
   "cell_type": "code",
   "execution_count": 14,
   "metadata": {
    "scrolled": false
   },
   "outputs": [],
   "source": [
    "def plot_gz_data(new_data):\n",
    "    plt.figure()\n",
    "    plt.title(r\"Full State ($s$)\")\n",
    "    plt.plot([s[0][0,0] for s in new_data], label='x1')\n",
    "    plt.plot([s[0][1,0] for s in new_data], label='y1')\n",
    "    plt.plot([s[0][2,0] for s in new_data], label='x2')\n",
    "    plt.plot([s[0][3,0] for s in new_data], label='y2')\n",
    "    plt.ylabel(\"meters\")\n",
    "    plt.xlabel(\"time (steps)\")\n",
    "    plt.legend();\n",
    "\n",
    "    plt.figure()\n",
    "    plt.title(r\"Control Input ($u$)\")\n",
    "    plt.plot([s[1][0,0] for s in new_data], label='vx')\n",
    "    plt.plot([s[1][1,0] for s in new_data], label='vy')\n",
    "    plt.ylabel(\"m/s\")\n",
    "    plt.xlabel(\"time (steps)\")\n",
    "    plt.legend();\n",
    "\n",
    "    plt.figure()\n",
    "    plt.title(r\"Cost ($c$)\")\n",
    "    plt.plot([s[4] for s in new_data])\n",
    "    plt.xlabel(\"time (steps)\");\n",
    "    \n",
    "    plt.show()"
   ]
  },
  {
   "cell_type": "markdown",
   "metadata": {},
   "source": [
    "# Training Wrapppers"
   ]
  },
  {
   "cell_type": "code",
   "execution_count": 20,
   "metadata": {},
   "outputs": [],
   "source": [
    "def train_and_eval(model, data, g, dt, objective, initial_params=None, alpha=0.5, regularization=1e-5, print_model=True):\n",
    "    train(data, model, g, dt, objective, initial_params)\n",
    "    return eval_model(model, data, g, dt, alpha, regularization, print_model)\n",
    "    \n",
    "def eval_model(model, data, g, dt, alpha=0.5, regularization=1e-5, print_model=True):\n",
    "    pred_state_loss = state_prediction(model, g, data, dt)\n",
    "    cost_loss = current_cost(model, g, data)\n",
    "    pred_cost_loss = cost_prediction(model, g, data, dt)\n",
    "    pred_state_curr_cost_loss = state_prediction_objective(model, g, data, dt, alpha=alpha, regularization=regularization)\n",
    "    pred_cost_curr_cost_loss = one_step_cost_prediction_objective(model, g, data, dt, alpha=alpha, regularization=regularization)\n",
    "    reg_loss = regularization * np.linalg.norm(model.to_params())\n",
    "    print(\"Loss Components:\")\n",
    "    print(\"\\tcurrent cost:\", cost_loss)\n",
    "    print(\"\\tpredict next latent state:\", pred_state_loss)\n",
    "    print(\"\\tpredict next cost:\", pred_cost_loss)\n",
    "    print(\"\\tregularization:\", reg_loss)\n",
    "    print(\"Complete Losses:\")\n",
    "    print(\"\\tpredict next latent state and current cost:\", pred_state_curr_cost_loss)\n",
    "    print(\"\\tpredict next cost and current cost:\", pred_cost_curr_cost_loss)\n",
    "    if print_model:\n",
    "        print(model)\n",
    "    return cost_loss, pred_state_loss, pred_cost_loss, reg_loss"
   ]
  },
  {
   "cell_type": "markdown",
   "metadata": {},
   "source": [
    "# More Plotting & Introspection"
   ]
  },
  {
   "cell_type": "code",
   "execution_count": 16,
   "metadata": {},
   "outputs": [],
   "source": [
    "def plot_x_rollout(model, data, dt, s0, g):\n",
    "    actions = [d[1] for d in data]\n",
    "    o = model.reduce(s0)\n",
    "    predicted_total_cost = 0.0\n",
    "    o_s = [o]\n",
    "    for u in actions:\n",
    "        c_hat = model.cost_of_o(o, g)\n",
    "        o = model.predict_from_o(o, u, dt)\n",
    "        o_s.append(o)\n",
    "        predicted_total_cost += c_hat\n",
    "    \n",
    "    states = [d[0] for d in data]\n",
    "    plt.figure()\n",
    "    plt.plot([s[0,0] for s in states], label='true x1')\n",
    "    plt.plot(np.squeeze(o_s), label='latent space o', linewidth=3, linestyle='--')\n",
    "    plt.xlabel(\"time steps\")\n",
    "    plt.ylabel(\"o\")\n",
    "    plt.legend();\n",
    "    plt.show()\n",
    "    \n",
    "    return predicted_total_cost\n",
    "\n",
    "def plot_xy_rollout(model, data, dt, s0, g):\n",
    "    actions = [d[1] for d in data]\n",
    "    o = model.reduce(s0)\n",
    "    predicted_total_cost = 0.0\n",
    "    o_s = [o]\n",
    "    for u in actions:\n",
    "        c_hat = model.cost_of_o(o, g)\n",
    "        o = model.predict_from_o(o, u, dt)\n",
    "        o_s.append(o)\n",
    "        predicted_total_cost += c_hat\n",
    "    \n",
    "    states = [d[0] for d in data]\n",
    "    plt.figure()\n",
    "    plt.plot([s[0,0] for s in states], label='true x1')\n",
    "    plt.plot([s[1,0] for s in states], label='true y1')\n",
    "    plt.plot(np.squeeze(o_s), label='latent space o', linewidth=3, linestyle='--')\n",
    "    plt.xlabel(\"time steps\")\n",
    "    plt.ylabel(\"o\")\n",
    "    plt.legend();\n",
    "    plt.show()\n",
    "    \n",
    "    return predicted_total_cost"
   ]
  },
  {
   "cell_type": "code",
   "execution_count": 17,
   "metadata": {},
   "outputs": [],
   "source": [
    "def plot_cost(model, data, dt, g):\n",
    "    states = [d[0] for d in data]\n",
    "    actions = [d[1] for d in data]\n",
    "    costs = [d[3] for d in data]\n",
    "    s0 = states[0]\n",
    "    o = model.reduce(s0)\n",
    "    plt.figure()\n",
    "    estimated_costs = []\n",
    "    for u in actions:\n",
    "        c_hat = model.cost_of_o(o, g)\n",
    "        o = model.predict_from_o(o, u, dt)\n",
    "        estimated_costs.append(np.squeeze(c_hat))\n",
    "        \n",
    "    plt.title(\"Estimated vs True Cost\")\n",
    "    plt.plot([np.squeeze(c) for c in costs], label='true cost')\n",
    "    plt.plot(estimated_costs, label='estimated cost', linestyle='--')\n",
    "    plt.xlabel(\"time steps\")\n",
    "    plt.ylabel(\"o\")\n",
    "    plt.legend();\n",
    "    plt.show()\n",
    "    \n",
    "def plot_one_step(model, data, dt, s0, g):\n",
    "    actions = [d[1] for d in data]\n",
    "    states = [d[0] for d in data]\n",
    "    first_n = 10\n",
    "    plt.figure()\n",
    "    for s, u in zip(states, actions)[:first_n]:\n",
    "        o = model.reduce(s)\n",
    "        c_hat = model.cost_of_o(o, g)\n",
    "        o_ = model.predict_from_o(o, u, dt)\n",
    "        predicted_total_cost += c_hat\n",
    "        plt.plot([o[0,0], o_[0,0]], [o[1,0], o_[1,0]], label='latent space o', marker='r')\n",
    "        \n",
    "    plt.plot([s[0,0] for s in states], label='true x1')\n",
    "    plt.xlabel(\"time steps\")\n",
    "    plt.ylabel(\"o\")\n",
    "    plt.legend();\n",
    "    plt.show()\n",
    "    \n",
    "    return predicted_total_cost"
   ]
  },
  {
   "cell_type": "code",
   "execution_count": null,
   "metadata": {},
   "outputs": [],
   "source": []
  }
 ],
 "metadata": {
  "kernelspec": {
   "display_name": "Python 3",
   "language": "python",
   "name": "python3"
  },
  "language_info": {
   "codemirror_mode": {
    "name": "ipython",
    "version": 3
   },
   "file_extension": ".py",
   "mimetype": "text/x-python",
   "name": "python",
   "nbconvert_exporter": "python",
   "pygments_lexer": "ipython3",
   "version": "3.5.2"
  }
 },
 "nbformat": 4,
 "nbformat_minor": 2
}
