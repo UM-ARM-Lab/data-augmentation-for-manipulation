{
 "cells": [
  {
   "cell_type": "code",
   "execution_count": 1,
   "metadata": {},
   "outputs": [],
   "source": [
    "from gurobipy import *\n",
    "import numpy as np\n",
    "import matplotlib.pyplot as plt\n",
    "from scipy import optimize"
   ]
  },
  {
   "cell_type": "code",
   "execution_count": 2,
   "metadata": {},
   "outputs": [],
   "source": [
    "# Create constants\n",
    "dt = 0.1\n",
    "o = np.random.randn(6,1)\n",
    "og = np.random.randn(6,1)\n",
    "B = np.random.randn(6,6)\n",
    "C = np.random.randn(2,6)\n",
    "D = np.eye(6)"
   ]
  },
  {
   "cell_type": "code",
   "execution_count": 19,
   "metadata": {},
   "outputs": [
    {
     "data": {
      "text/plain": [
       "[-0.7363808424493474, -0.6765671688124775]"
      ]
     },
     "execution_count": 19,
     "metadata": {},
     "output_type": "execute_result"
    }
   ],
   "source": [
    "m = Model(\"model\")\n",
    "m.setParam('OutputFlag', 0) \n",
    "\n",
    "u1 = m.addVar(name=\"u1\", lb=-GRB.INFINITY, ub=GRB.INFINITY)\n",
    "u2 = m.addVar(name=\"u2\", lb=-GRB.INFINITY, ub=GRB.INFINITY)\n",
    "\n",
    "u = np.array([[u1], [u2]])\n",
    "distance = (og - (o + np.dot(B, o) + dt*np.dot(C, u)))\n",
    "obj = np.dot(np.dot(distance.T, D), distance)[0, 0]\n",
    "m.setObjective(obj, GRB.MINIMIZE)\n",
    "M = 1\n",
    "m.addQConstr(u1*u1 + u2*u2 <= M**2, \"c0\")\n",
    "\n",
    "m.optimize()\n",
    "[v.x for v in m.getVars()]"
   ]
  },
  {
   "cell_type": "code",
   "execution_count": 20,
   "metadata": {},
   "outputs": [
    {
     "name": "stdout",
     "output_type": "stream",
     "text": [
      "[-0.73633273 -0.67661962]\n"
     ]
    }
   ],
   "source": [
    "def obj_func(params):\n",
    "    u = params.reshape(2,1)\n",
    "    distance = (og - (o + np.dot(B, o) + dt*np.dot(C, u)))\n",
    "    obj = np.dot(np.dot(distance.T, D), distance)\n",
    "    return obj\n",
    "    \n",
    "max_speed_constraint =  {'type': 'ineq', 'fun': lambda u: M - np.linalg.norm(u)}\n",
    "result = optimize.minimize(obj_func, x0=np.array([[0], [0]]), constraints=max_speed_constraint)\n",
    "if result.success:\n",
    "    print(result.x)\n",
    "else:\n",
    "    print(result)"
   ]
  },
  {
   "cell_type": "markdown",
   "metadata": {},
   "source": [
    "# Which is faster? Gurobi or Scipy?"
   ]
  },
  {
   "cell_type": "code",
   "execution_count": 21,
   "metadata": {},
   "outputs": [
    {
     "name": "stdout",
     "output_type": "stream",
     "text": [
      "10000 loops, best of 3: 174 µs per loop\n"
     ]
    }
   ],
   "source": [
    "%%timeit -n10000\n",
    "# Gurobi\n",
    "m.optimize()"
   ]
  },
  {
   "cell_type": "code",
   "execution_count": 22,
   "metadata": {},
   "outputs": [
    {
     "name": "stdout",
     "output_type": "stream",
     "text": [
      "10000 loops, best of 3: 620 µs per loop\n"
     ]
    }
   ],
   "source": [
    "%%timeit -n10000\n",
    "# Scipy\n",
    "optimize.minimize(obj_func, x0=np.array([[0], [0]]), constraints=max_speed_constraint)"
   ]
  },
  {
   "cell_type": "code",
   "execution_count": null,
   "metadata": {},
   "outputs": [],
   "source": []
  }
 ],
 "metadata": {
  "kernelspec": {
   "display_name": "Python 3",
   "language": "python",
   "name": "python3"
  },
  "language_info": {
   "codemirror_mode": {
    "name": "ipython",
    "version": 2
   },
   "file_extension": ".py",
   "mimetype": "text/x-python",
   "name": "python",
   "nbconvert_exporter": "python",
   "pygments_lexer": "ipython2",
   "version": "2.7.12"
  }
 },
 "nbformat": 4,
 "nbformat_minor": 2
}
