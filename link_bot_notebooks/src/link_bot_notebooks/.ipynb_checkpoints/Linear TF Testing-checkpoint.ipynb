{
 "cells": [
  {
   "cell_type": "markdown",
   "metadata": {},
   "source": [
    "# Testing the Linear Model trained in TensorFlow "
   ]
  },
  {
   "cell_type": "code",
   "execution_count": 1,
   "metadata": {},
   "outputs": [
    {
     "name": "stdout",
     "output_type": "stream",
     "text": [
      "importing Jupyter notebook from /home/pmitrano/catkin_ws/src/link_bot/link_bot_notebooks/src/link_bot_notebooks/toy_problem_optimization_common.ipynb\n"
     ]
    }
   ],
   "source": [
    "from __future__ import print_function\n",
    "from link_bot_notebooks import notebook_finder\n",
    "from link_bot_notebooks import toy_problem_optimization_common as tpo\n",
    "import numpy as np\n",
    "import matplotlib.pyplot as plt\n",
    "from link_bot_notebooks.linear_tf_model import LinearTFModel"
   ]
  },
  {
   "cell_type": "code",
   "execution_count": 2,
   "metadata": {},
   "outputs": [],
   "source": [
    "goal = np.array([4, 0, 5, 0, 6, 0])\n",
    "args = {'checkpoint': \"../../log_data/November_19_12:13:34/nn.ckpt-50000\", 'log': False}\n",
    "dataset = \"../../../link_bot_teleop/data/rand_forces_1.txt\"\n",
    "data = tpo.load_gazebo_data_v2(dataset, goal)\n",
    "n, x, y = tpo.load_gazebo_data_tf(dataset, N=6, M=2, L=2, goal=goal)\n",
    "model = LinearTFModel(args, N=6, M=2, L=2)\n",
    "model.init()"
   ]
  },
  {
   "cell_type": "code",
   "execution_count": 3,
   "metadata": {},
   "outputs": [
    {
     "name": "stdout",
     "output_type": "stream",
     "text": [
      "Cost Loss: 252598.234375\n",
      "State Prediction Loss: 5413.8359375\n",
      "Cost Prediction Loss: 143613616.0\n",
      "Regularization: 0.000897741760127\n",
      "Overall Loss: 143871632.0\n",
      "A:\n",
      "[[ 0.72 -1.67 -0.76  0.47 -0.14 -0.66]\n",
      " [-0.1   0.46 -1.27  1.39 -0.57 -0.6 ]]\n",
      "B:\n",
      "[[0.48 1.35]]\n",
      "C:\n",
      "[[0.69 0.68]\n",
      " [0.03 1.41]]\n",
      "D:\n",
      "[[ 0.69 -1.17]\n",
      " [ 0.94  1.1 ]]\n"
     ]
    }
   ],
   "source": [
    "A, B, C, D, c_loss, sp_loss, cp_loss, reg, loss = model.evaluate(x, y, display=True)"
   ]
  },
  {
   "cell_type": "code",
   "execution_count": 6,
   "metadata": {},
   "outputs": [
    {
     "ename": "NameError",
     "evalue": "name 'data' is not defined",
     "output_type": "error",
     "traceback": [
      "\u001b[0;31m---------------------------------------------------------------------------\u001b[0m",
      "\u001b[0;31mNameError\u001b[0m                                 Traceback (most recent call last)",
      "\u001b[0;32m<ipython-input-6-2414f41e6af2>\u001b[0m in \u001b[0;36m<module>\u001b[0;34m()\u001b[0m\n\u001b[0;32m----> 1\u001b[0;31m \u001b[0mtpo\u001b[0m\u001b[0;34m.\u001b[0m\u001b[0mplot_costmap\u001b[0m\u001b[0;34m(\u001b[0m\u001b[0mplt\u001b[0m\u001b[0;34m,\u001b[0m \u001b[0mmodel\u001b[0m\u001b[0;34m,\u001b[0m \u001b[0mdata\u001b[0m\u001b[0;34m,\u001b[0m \u001b[0mgoal\u001b[0m\u001b[0;34m,\u001b[0m \u001b[0msample\u001b[0m\u001b[0;34m=\u001b[0m\u001b[0;36m20\u001b[0m\u001b[0;34m,\u001b[0m \u001b[0mspread\u001b[0m\u001b[0;34m=\u001b[0m\u001b[0;36m1\u001b[0m\u001b[0;34m)\u001b[0m\u001b[0;34m\u001b[0m\u001b[0m\n\u001b[0m",
      "\u001b[0;31mNameError\u001b[0m: name 'data' is not defined"
     ]
    }
   ],
   "source": [
    "tpo.plot_costmap(plt, model, data, goal, sample=20, spread=1)"
   ]
  },
  {
   "cell_type": "code",
   "execution_count": null,
   "metadata": {},
   "outputs": [],
   "source": []
  }
 ],
 "metadata": {
  "kernelspec": {
   "display_name": "Python 3",
   "language": "python",
   "name": "python3"
  },
  "language_info": {
   "codemirror_mode": {
    "name": "ipython",
    "version": 2
   },
   "file_extension": ".py",
   "mimetype": "text/x-python",
   "name": "python",
   "nbconvert_exporter": "python",
   "pygments_lexer": "ipython2",
   "version": "2.7.12"
  }
 },
 "nbformat": 4,
 "nbformat_minor": 2
}
