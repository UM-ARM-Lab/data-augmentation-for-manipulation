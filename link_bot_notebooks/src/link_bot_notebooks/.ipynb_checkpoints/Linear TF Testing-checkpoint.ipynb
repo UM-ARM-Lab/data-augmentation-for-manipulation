{
 "cells": [
  {
   "cell_type": "markdown",
   "metadata": {},
   "source": [
    "# Testing the Linear Model trained in TensorFlow "
   ]
  },
  {
   "cell_type": "code",
   "execution_count": 1,
   "metadata": {},
   "outputs": [
    {
     "name": "stdout",
     "output_type": "stream",
     "text": [
      "importing Jupyter notebook from /home/pmitrano/catkin_ws/src/link_bot/link_bot_notebooks/src/link_bot_notebooks/toy_problem_optimization_common.ipynb\n"
     ]
    }
   ],
   "source": [
    "from __future__ import print_function\n",
    "from link_bot_notebooks import notebook_finder\n",
    "from link_bot_notebooks import toy_problem_optimization_common as tpo\n",
    "import numpy as np\n",
    "import matplotlib.pyplot as plt\n",
    "from link_bot_notebooks.linear_tf_model import LinearTFModel"
   ]
  },
  {
   "cell_type": "code",
   "execution_count": 2,
   "metadata": {},
   "outputs": [
    {
     "name": "stdout",
     "output_type": "stream",
     "text": [
      "INFO:tensorflow:Summary name A:0/gradient is illegal; using A_0/gradient instead.\n",
      "INFO:tensorflow:Summary name B:0/gradient is illegal; using B_0/gradient instead.\n",
      "INFO:tensorflow:Summary name C_1:0/gradient is illegal; using C_1_0/gradient instead.\n",
      "INFO:tensorflow:Summary name D:0/gradient is illegal; using D_0/gradient instead.\n"
     ]
    }
   ],
   "source": [
    "goal = np.array([4, 0, 5, 0, 6, 0])\n",
    "args = {'checkpoint': \"../../log_data/November_21_00:16:38/nn.ckpt-15000\", 'log': False}\n",
    "dataset = \"../../../link_bot_teleop/data/2_link_pos_and_vel_1.txt\"\n",
    "data = tpo.load_data(dataset, g=goal, extract_func=tpo.two_link_pos_vel_extractor)\n",
    "n, x, y = tpo.load_train_test(dataset, N=6, M=2, L=2, g=goal, extract_func=tpo.two_link_pos_vel_extractor)\n",
    "model = LinearTFModel(args, N=6, M=2, L=2)\n",
    "model.init()"
   ]
  },
  {
   "cell_type": "code",
   "execution_count": 3,
   "metadata": {},
   "outputs": [
    {
     "name": "stdout",
     "output_type": "stream",
     "text": [
      "Cost Loss: 3121.61767578\n",
      "State Prediction Loss: 33.0182723999\n",
      "Cost Prediction Loss: 4289.85595703\n",
      "Regularization: 0.000956759322435\n",
      "Overall Loss: 7444.49316406\n",
      "A:\n",
      "[[-1.16 -0.19  0.35  1.26 -1.54  1.61]\n",
      " [ 0.23 -0.55 -1.19  0.51  1.76  0.86]]\n",
      "B:\n",
      "[[0.94 0.63]]\n",
      "C:\n",
      "[[-0.72 -1.52]\n",
      " [ 0.79  0.02]]\n",
      "D:\n",
      "[[-0.61  0.28]\n",
      " [-0.23 -0.02]]\n"
     ]
    }
   ],
   "source": [
    "A, B, C, D, c_loss, sp_loss, cp_loss, reg, loss = model.evaluate(x, y, display=True)"
   ]
  },
  {
   "cell_type": "code",
   "execution_count": 4,
   "metadata": {},
   "outputs": [
    {
     "ename": "NameError",
     "evalue": "name 'data' is not defined",
     "output_type": "error",
     "traceback": [
      "\u001b[0;31m---------------------------------------------------------------------------\u001b[0m",
      "\u001b[0;31mNameError\u001b[0m                                 Traceback (most recent call last)",
      "\u001b[0;32m<ipython-input-4-5c1c44f90ba2>\u001b[0m in \u001b[0;36m<module>\u001b[0;34m()\u001b[0m\n\u001b[0;32m----> 1\u001b[0;31m \u001b[0mtpo\u001b[0m\u001b[0;34m.\u001b[0m\u001b[0mplot_costmap\u001b[0m\u001b[0;34m(\u001b[0m\u001b[0mplt\u001b[0m\u001b[0;34m,\u001b[0m \u001b[0mmodel\u001b[0m\u001b[0;34m,\u001b[0m \u001b[0mdata\u001b[0m\u001b[0;34m,\u001b[0m \u001b[0mgoal\u001b[0m\u001b[0;34m,\u001b[0m \u001b[0msamples\u001b[0m\u001b[0;34m=\u001b[0m\u001b[0;36m20\u001b[0m\u001b[0;34m,\u001b[0m \u001b[0mspread\u001b[0m\u001b[0;34m=\u001b[0m\u001b[0;36m1\u001b[0m\u001b[0;34m)\u001b[0m\u001b[0;34m\u001b[0m\u001b[0m\n\u001b[0m",
      "\u001b[0;31mNameError\u001b[0m: name 'data' is not defined"
     ]
    }
   ],
   "source": [
    "tpo.plot_costmap(plt, model, data, goal, samples=20, spread=1)"
   ]
  },
  {
   "cell_type": "code",
   "execution_count": null,
   "metadata": {},
   "outputs": [],
   "source": [
    "args"
   ]
  },
  {
   "cell_type": "code",
   "execution_count": null,
   "metadata": {},
   "outputs": [],
   "source": []
  }
 ],
 "metadata": {
  "kernelspec": {
   "display_name": "Python 3",
   "language": "python",
   "name": "python3"
  },
  "language_info": {
   "codemirror_mode": {
    "name": "ipython",
    "version": 2
   },
   "file_extension": ".py",
   "mimetype": "text/x-python",
   "name": "python",
   "nbconvert_exporter": "python",
   "pygments_lexer": "ipython2",
   "version": "2.7.12"
  }
 },
 "nbformat": 4,
 "nbformat_minor": 2
}
