{
 "cells": [
  {
   "cell_type": "markdown",
   "metadata": {},
   "source": [
    "# Testing the Linear Model trained in TensorFlow "
   ]
  },
  {
   "cell_type": "code",
   "execution_count": 1,
   "metadata": {},
   "outputs": [
    {
     "name": "stdout",
     "output_type": "stream",
     "text": [
      "importing Jupyter notebook from /home/pmitrano/catkin_ws/src/link_bot/link_bot_notebooks/src/link_bot_notebooks/toy_problem_optimization_common.ipynb\n"
     ]
    }
   ],
   "source": [
    "from __future__ import print_function\n",
    "from link_bot_notebooks import notebook_finder\n",
    "from link_bot_notebooks import toy_problem_optimization_common as tpo\n",
    "from math import acos\n",
    "import numpy as np\n",
    "import matplotlib.pyplot as plt\n",
    "from link_bot_notebooks.linear_tf_model import LinearTFModel"
   ]
  },
  {
   "cell_type": "code",
   "execution_count": 2,
   "metadata": {},
   "outputs": [
    {
     "ename": "TypeError",
     "evalue": "__init__() takes at least 6 arguments (5 given)",
     "output_type": "error",
     "traceback": [
      "\u001b[0;31m---------------------------------------------------------------------------\u001b[0m",
      "\u001b[0;31mTypeError\u001b[0m                                 Traceback (most recent call last)",
      "\u001b[0;32m<ipython-input-2-57dffc116187>\u001b[0m in \u001b[0;36m<module>\u001b[0;34m()\u001b[0m\n\u001b[1;32m      3\u001b[0m \u001b[0mdataset\u001b[0m \u001b[0;34m=\u001b[0m \u001b[0;34m\"../../../link_bot_teleop/data/2_link_pos_and_vel_2.txt\"\u001b[0m\u001b[0;34m\u001b[0m\u001b[0m\n\u001b[1;32m      4\u001b[0m \u001b[0mn\u001b[0m\u001b[0;34m,\u001b[0m \u001b[0mx\u001b[0m\u001b[0;34m,\u001b[0m \u001b[0my\u001b[0m \u001b[0;34m=\u001b[0m \u001b[0mtpo\u001b[0m\u001b[0;34m.\u001b[0m\u001b[0mload_train_test\u001b[0m\u001b[0;34m(\u001b[0m\u001b[0mdataset\u001b[0m\u001b[0;34m,\u001b[0m \u001b[0mN\u001b[0m\u001b[0;34m=\u001b[0m\u001b[0;36m6\u001b[0m\u001b[0;34m,\u001b[0m \u001b[0mM\u001b[0m\u001b[0;34m=\u001b[0m\u001b[0;36m2\u001b[0m\u001b[0;34m,\u001b[0m \u001b[0mL\u001b[0m\u001b[0;34m=\u001b[0m\u001b[0;36m2\u001b[0m\u001b[0;34m,\u001b[0m \u001b[0mg\u001b[0m\u001b[0;34m=\u001b[0m\u001b[0mgoal\u001b[0m\u001b[0;34m,\u001b[0m \u001b[0mextract_func\u001b[0m\u001b[0;34m=\u001b[0m\u001b[0mtpo\u001b[0m\u001b[0;34m.\u001b[0m\u001b[0mlink_pos_vel_extractor\u001b[0m\u001b[0;34m(\u001b[0m\u001b[0;36m6\u001b[0m\u001b[0;34m)\u001b[0m\u001b[0;34m)\u001b[0m\u001b[0;34m\u001b[0m\u001b[0m\n\u001b[0;32m----> 5\u001b[0;31m \u001b[0mmodel\u001b[0m \u001b[0;34m=\u001b[0m \u001b[0mLinearTFModel\u001b[0m\u001b[0;34m(\u001b[0m\u001b[0margs\u001b[0m\u001b[0;34m,\u001b[0m \u001b[0mN\u001b[0m\u001b[0;34m=\u001b[0m\u001b[0;36m6\u001b[0m\u001b[0;34m,\u001b[0m \u001b[0mM\u001b[0m\u001b[0;34m=\u001b[0m\u001b[0;36m2\u001b[0m\u001b[0;34m,\u001b[0m \u001b[0mL\u001b[0m\u001b[0;34m=\u001b[0m\u001b[0;36m2\u001b[0m\u001b[0;34m)\u001b[0m\u001b[0;34m\u001b[0m\u001b[0m\n\u001b[0m\u001b[1;32m      6\u001b[0m \u001b[0mmodel\u001b[0m\u001b[0;34m.\u001b[0m\u001b[0mload\u001b[0m\u001b[0;34m(\u001b[0m\u001b[0;34m)\u001b[0m\u001b[0;34m\u001b[0m\u001b[0m\n",
      "\u001b[0;31mTypeError\u001b[0m: __init__() takes at least 6 arguments (5 given)"
     ]
    }
   ],
   "source": [
    "goal = np.array([[0], [0], [1], [0], [2], [0]])\n",
    "args = {'checkpoint': \"log_data/best_linear/November_29_15:23:45__fa0c3e89e594c961f0a5e032b9bf9a511732fd42/nn.ckpt-50000\", 'log': False}\n",
    "dataset = \"../../../link_bot_teleop/data/2_link_pos_and_vel_2.txt\"\n",
    "n, x, y = tpo.load_train_test(dataset, N=6, M=2, L=2, g=goal, extract_func=tpo.link_pos_vel_extractor(6))\n",
    "model = LinearTFModel(args, N=6, M=2, L=2)\n",
    "model.load()"
   ]
  },
  {
   "cell_type": "code",
   "execution_count": null,
   "metadata": {},
   "outputs": [],
   "source": [
    "A, B, C, D, c_loss, sp_loss, cp_loss, reg, loss = model.evaluate(x, y, display=True)"
   ]
  },
  {
   "cell_type": "code",
   "execution_count": null,
   "metadata": {},
   "outputs": [],
   "source": [
    "np.set_printoptions(precision=4)\n",
    "T = 100\n",
    "print(x[T])\n",
    "o0 = x[T][[0, 3]].reshape((2,1))\n",
    "u = x[T][18:20].reshape((2,1))\n",
    "o1 = x[T+1][[0, 3]].reshape((2,1))\n",
    "print(\"o0:\\n\", o0)\n",
    "print(u)\n",
    "print(o0 + 0.1*u)\n",
    "print(\"o1:\\n\", o1)\n"
   ]
  },
  {
   "cell_type": "code",
   "execution_count": null,
   "metadata": {},
   "outputs": [],
   "source": [
    "data = tpo.load_data(dataset, g=goal, extract_func=tpo.two_link_pos_vel_extractor)"
   ]
  },
  {
   "cell_type": "code",
   "execution_count": null,
   "metadata": {},
   "outputs": [],
   "source": [
    "# tpo.plot_costmap(plt, model, data, goal, samples=100, spread=0.4)\n",
    "min_sample, min_cost = tpo.plot_costmap(plt, model, data, goal, samples=10, spread=2)\n",
    "print(\"min cost\", min_cost)\n",
    "plt.scatter([min_sample[0]], [min_sample[1]], s=100, c='Red', label='min sample');\n",
    "plt.scatter(goal[0], goal[1], s=100, c='Green', label='goal');"
   ]
  },
  {
   "cell_type": "code",
   "execution_count": null,
   "metadata": {},
   "outputs": [],
   "source": [
    "tpo.plot_costmap_2(plt, model, data, goal, resolution=.5, minimum=-5, maximum=5);"
   ]
  },
  {
   "cell_type": "code",
   "execution_count": null,
   "metadata": {},
   "outputs": [],
   "source": [
    "points = np.array([[1,0], [1,1], [0,1], [-1,1], [-1,0], [-1,-1], [0,-1], [1,-1]])\n",
    "R = model.get_A()[:,:2]\n",
    "new_points = []\n",
    "for p in points:\n",
    "    new_p = np.dot(R, p)\n",
    "    new_points.append(new_p)\n",
    "new_points = np.array(new_points)\n",
    "    \n",
    "plt.figure(figsize=(10,10))\n",
    "plt.scatter([points[0,0]], [points[0,1]], s=150)\n",
    "plt.scatter([new_points[0,0]], [new_points[0,1]], s=150)\n",
    "plt.scatter([p[0] for p in points], [p[1] for p in points])\n",
    "plt.scatter([p[0] for p in new_points], [p[1] for p in new_points])\n",
    "plt.plot([p[0] for p in points], [p[1] for p in points], label='original')\n",
    "plt.plot([p[0] for p in new_points], [p[1] for p in new_points], label='latent')\n",
    "plt.legend()\n",
    "plt.axis(\"equal\");"
   ]
  },
  {
   "cell_type": "code",
   "execution_count": null,
   "metadata": {},
   "outputs": [],
   "source": [
    "r = 0.25\n",
    "cx = 0\n",
    "cy = 0\n",
    "m = 3\n",
    "x = []\n",
    "y = []\n",
    "u = []\n",
    "v = []\n",
    "goal = np.array([[cx], [cy], [0], [0], [0], [0]])\n",
    "min_a = 1e9 * np.ones((2, 1))\n",
    "min_a_x = None\n",
    "min_a_y = None\n",
    "MAX_SPEED=1\n",
    "og = model.reduce(goal)\n",
    "for s1 in np.arange(cx-m, cx+m+r, r):\n",
    "    for s2 in np.arange(cy-m, cy+m+r, r):\n",
    "        o = model.reduce(np.array([[s1], [s2], [0], [0], [0], [0]]))\n",
    "        o1 = o[0, 0]\n",
    "        o2 = o[1, 0]\n",
    "        full_a, full_c, next_o = model.act(o, goal)\n",
    "        if np.linalg.norm(full_a) > MAX_SPEED:\n",
    "            a = full_a / np.linalg.norm(full_a) * MAX_SPEED  # a is in meters per second. Cap to 0.75\n",
    "        else:\n",
    "            a = full_a\n",
    "\n",
    "        x.append(s1)\n",
    "        y.append(s2)\n",
    "        u.append(a[0, 0])\n",
    "        v.append(a[1, 0])\n",
    "        if np.linalg.norm(full_a) < np.linalg.norm(min_a):\n",
    "            min_a = a\n",
    "            min_a_x = s1\n",
    "            min_a_y = s2\n",
    "        \n",
    "plt.figure(figsize=(10,10))\n",
    "ax = plt.gca()\n",
    "ax.scatter(goal[0, 0], goal[1, 0], s=250, c='g')\n",
    "ax.scatter(min_a_x, min_a_y, s=50, c='r')\n",
    "q = ax.quiver(x, y, u, v, scale=40, width=0.0025)\n",
    "ax.set_xlabel(\"X (m)\")\n",
    "ax.set_ylabel(\"Y (m)\");"
   ]
  }
 ],
 "metadata": {
  "kernelspec": {
   "display_name": "Python 3",
   "language": "python",
   "name": "python3"
  },
  "language_info": {
   "codemirror_mode": {
    "name": "ipython",
    "version": 2
   },
   "file_extension": ".py",
   "mimetype": "text/x-python",
   "name": "python",
   "nbconvert_exporter": "python",
   "pygments_lexer": "ipython2",
   "version": "2.7.12"
  }
 },
 "nbformat": 4,
 "nbformat_minor": 2
}
