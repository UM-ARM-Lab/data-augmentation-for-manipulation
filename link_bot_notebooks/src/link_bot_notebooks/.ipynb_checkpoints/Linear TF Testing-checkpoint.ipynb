{
 "cells": [
  {
   "cell_type": "markdown",
   "metadata": {},
   "source": [
    "# Testing the Linear Model trained in TensorFlow "
   ]
  },
  {
   "cell_type": "code",
   "execution_count": 1,
   "metadata": {},
   "outputs": [
    {
     "name": "stdout",
     "output_type": "stream",
     "text": [
      "importing Jupyter notebook from /home/pmitrano/catkin_ws/src/link_bot/link_bot_notebooks/src/link_bot_notebooks/toy_problem_optimization_common.ipynb\n"
     ]
    }
   ],
   "source": [
    "from __future__ import print_function\n",
    "from link_bot_notebooks import notebook_finder\n",
    "from link_bot_notebooks import toy_problem_optimization_common as tpo\n",
    "from math import acos\n",
    "import numpy as np\n",
    "import matplotlib.pyplot as plt\n",
    "from link_bot_notebooks.linear_tf_model import LinearTFModel"
   ]
  },
  {
   "cell_type": "code",
   "execution_count": 2,
   "metadata": {},
   "outputs": [
    {
     "ename": "ValueError",
     "evalue": "The passed save_path is not a valid checkpoint: log_data/dataset3/December_04_12:11:54__bce837c748/nn.ckpt-5000",
     "output_type": "error",
     "traceback": [
      "\u001b[0;31m---------------------------------------------------------------------------\u001b[0m",
      "\u001b[0;31mValueError\u001b[0m                                Traceback (most recent call last)",
      "\u001b[0;32m<ipython-input-2-054c9c901f7e>\u001b[0m in \u001b[0;36m<module>\u001b[0;34m()\u001b[0m\n\u001b[1;32m      4\u001b[0m \u001b[0mn\u001b[0m\u001b[0;34m,\u001b[0m \u001b[0mx\u001b[0m \u001b[0;34m=\u001b[0m \u001b[0mtpo\u001b[0m\u001b[0;34m.\u001b[0m\u001b[0mload_train\u001b[0m\u001b[0;34m(\u001b[0m\u001b[0mdataset\u001b[0m\u001b[0;34m,\u001b[0m \u001b[0mN\u001b[0m\u001b[0;34m=\u001b[0m\u001b[0;36m6\u001b[0m\u001b[0;34m,\u001b[0m \u001b[0mL\u001b[0m\u001b[0;34m=\u001b[0m\u001b[0;36m2\u001b[0m\u001b[0;34m,\u001b[0m \u001b[0mextract_func\u001b[0m\u001b[0;34m=\u001b[0m\u001b[0mtpo\u001b[0m\u001b[0;34m.\u001b[0m\u001b[0mlink_pos_vel_extractor2\u001b[0m\u001b[0;34m(\u001b[0m\u001b[0;36m6\u001b[0m\u001b[0;34m)\u001b[0m\u001b[0;34m)\u001b[0m\u001b[0;34m\u001b[0m\u001b[0m\n\u001b[1;32m      5\u001b[0m \u001b[0mmodel\u001b[0m \u001b[0;34m=\u001b[0m \u001b[0mLinearTFModel\u001b[0m\u001b[0;34m(\u001b[0m\u001b[0margs\u001b[0m\u001b[0;34m,\u001b[0m \u001b[0mN\u001b[0m\u001b[0;34m=\u001b[0m\u001b[0;36m6\u001b[0m\u001b[0;34m,\u001b[0m \u001b[0mM\u001b[0m\u001b[0;34m=\u001b[0m\u001b[0;36m2\u001b[0m\u001b[0;34m,\u001b[0m \u001b[0mL\u001b[0m\u001b[0;34m=\u001b[0m\u001b[0;36m2\u001b[0m\u001b[0;34m,\u001b[0m \u001b[0mn_steps\u001b[0m\u001b[0;34m=\u001b[0m\u001b[0;36m1\u001b[0m\u001b[0;34m)\u001b[0m\u001b[0;34m\u001b[0m\u001b[0m\n\u001b[0;32m----> 6\u001b[0;31m \u001b[0mmodel\u001b[0m\u001b[0;34m.\u001b[0m\u001b[0mload\u001b[0m\u001b[0;34m(\u001b[0m\u001b[0;34m)\u001b[0m\u001b[0;34m\u001b[0m\u001b[0m\n\u001b[0m",
      "\u001b[0;32m/home/pmitrano/catkin_ws/src/link_bot/link_bot_notebooks/src/link_bot_notebooks/linear_tf_model.py\u001b[0m in \u001b[0;36mload\u001b[0;34m(self)\u001b[0m\n\u001b[1;32m    209\u001b[0m \u001b[0;34m\u001b[0m\u001b[0m\n\u001b[1;32m    210\u001b[0m     \u001b[0;32mdef\u001b[0m \u001b[0mload\u001b[0m\u001b[0;34m(\u001b[0m\u001b[0mself\u001b[0m\u001b[0;34m)\u001b[0m\u001b[0;34m:\u001b[0m\u001b[0;34m\u001b[0m\u001b[0m\n\u001b[0;32m--> 211\u001b[0;31m         \u001b[0mself\u001b[0m\u001b[0;34m.\u001b[0m\u001b[0msaver\u001b[0m\u001b[0;34m.\u001b[0m\u001b[0mrestore\u001b[0m\u001b[0;34m(\u001b[0m\u001b[0mself\u001b[0m\u001b[0;34m.\u001b[0m\u001b[0msess\u001b[0m\u001b[0;34m,\u001b[0m \u001b[0mself\u001b[0m\u001b[0;34m.\u001b[0m\u001b[0margs\u001b[0m\u001b[0;34m[\u001b[0m\u001b[0;34m'checkpoint'\u001b[0m\u001b[0;34m]\u001b[0m\u001b[0;34m)\u001b[0m\u001b[0;34m\u001b[0m\u001b[0m\n\u001b[0m\u001b[1;32m    212\u001b[0m         \u001b[0mglobal_step\u001b[0m \u001b[0;34m=\u001b[0m \u001b[0mself\u001b[0m\u001b[0;34m.\u001b[0m\u001b[0msess\u001b[0m\u001b[0;34m.\u001b[0m\u001b[0mrun\u001b[0m\u001b[0;34m(\u001b[0m\u001b[0mself\u001b[0m\u001b[0;34m.\u001b[0m\u001b[0mglobal_step\u001b[0m\u001b[0;34m)\u001b[0m\u001b[0;34m\u001b[0m\u001b[0m\n\u001b[1;32m    213\u001b[0m         \u001b[0;32mprint\u001b[0m\u001b[0;34m(\u001b[0m\u001b[0mFore\u001b[0m\u001b[0;34m.\u001b[0m\u001b[0mCYAN\u001b[0m \u001b[0;34m+\u001b[0m \u001b[0;34m\"Restored ckpt {} at step {:d}\"\u001b[0m\u001b[0;34m.\u001b[0m\u001b[0mformat\u001b[0m\u001b[0;34m(\u001b[0m\u001b[0mself\u001b[0m\u001b[0;34m.\u001b[0m\u001b[0margs\u001b[0m\u001b[0;34m[\u001b[0m\u001b[0;34m'checkpoint'\u001b[0m\u001b[0;34m]\u001b[0m\u001b[0;34m,\u001b[0m \u001b[0mglobal_step\u001b[0m\u001b[0;34m)\u001b[0m \u001b[0;34m+\u001b[0m \u001b[0mFore\u001b[0m\u001b[0;34m.\u001b[0m\u001b[0mRESET\u001b[0m\u001b[0;34m)\u001b[0m\u001b[0;34m\u001b[0m\u001b[0m\n",
      "\u001b[0;32m/home/pmitrano/.local/lib/python2.7/site-packages/tensorflow/python/training/saver.pyc\u001b[0m in \u001b[0;36mrestore\u001b[0;34m(self, sess, save_path)\u001b[0m\n\u001b[1;32m   1536\u001b[0m     \u001b[0;32mif\u001b[0m \u001b[0;32mnot\u001b[0m \u001b[0mcheckpoint_management\u001b[0m\u001b[0;34m.\u001b[0m\u001b[0mcheckpoint_exists\u001b[0m\u001b[0;34m(\u001b[0m\u001b[0mcompat\u001b[0m\u001b[0;34m.\u001b[0m\u001b[0mas_text\u001b[0m\u001b[0;34m(\u001b[0m\u001b[0msave_path\u001b[0m\u001b[0;34m)\u001b[0m\u001b[0;34m)\u001b[0m\u001b[0;34m:\u001b[0m\u001b[0;34m\u001b[0m\u001b[0m\n\u001b[1;32m   1537\u001b[0m       raise ValueError(\"The passed save_path is not a valid checkpoint: \"\n\u001b[0;32m-> 1538\u001b[0;31m                        + compat.as_text(save_path))\n\u001b[0m\u001b[1;32m   1539\u001b[0m \u001b[0;34m\u001b[0m\u001b[0m\n\u001b[1;32m   1540\u001b[0m     \u001b[0mlogging\u001b[0m\u001b[0;34m.\u001b[0m\u001b[0minfo\u001b[0m\u001b[0;34m(\u001b[0m\u001b[0;34m\"Restoring parameters from %s\"\u001b[0m\u001b[0;34m,\u001b[0m \u001b[0mcompat\u001b[0m\u001b[0;34m.\u001b[0m\u001b[0mas_text\u001b[0m\u001b[0;34m(\u001b[0m\u001b[0msave_path\u001b[0m\u001b[0;34m)\u001b[0m\u001b[0;34m)\u001b[0m\u001b[0;34m\u001b[0m\u001b[0m\n",
      "\u001b[0;31mValueError\u001b[0m: The passed save_path is not a valid checkpoint: log_data/dataset3/December_04_12:11:54__bce837c748/nn.ckpt-5000"
     ]
    }
   ],
   "source": [
    "goal = np.array([[0], [0], [1], [0], [2], [0]])\n",
    "args = {'checkpoint': \"log_data/dataset3/December_04_12:11:54__bce837c748/nn.ckpt-50000\", 'log': False}\n",
    "dataset = \"../../../link_bot_teleop/data/2_link_pos_and_vel_2.txt\"\n",
    "n, x = tpo.load_train(dataset, N=6, L=2, extract_func=tpo.link_pos_vel_extractor2(6))\n",
    "model = LinearTFModel(args, N=6, M=2, L=2, n_steps=1)\n",
    "model.load()"
   ]
  },
  {
   "cell_type": "code",
   "execution_count": null,
   "metadata": {},
   "outputs": [],
   "source": [
    "A, B, C, D, c_loss, sp_loss, cp_loss, reg, loss = model.evaluate(x, goal, display=True)"
   ]
  },
  {
   "cell_type": "code",
   "execution_count": null,
   "metadata": {},
   "outputs": [],
   "source": [
    "data = tpo.load_data(dataset, g=goal, extract_func=tpo.two_link_pos_vel_extractor)"
   ]
  },
  {
   "cell_type": "code",
   "execution_count": null,
   "metadata": {},
   "outputs": [],
   "source": [
    "x = 2\n",
    "y = 2\n",
    "o = model.reduce(np.array([[x], [y], [x], [y], [x], [y]]))\n",
    "v = 0.5\n",
    "u = np.array([[[-v], [-v]]])\n",
    "o_ = model.predict(o, u)\n",
    "# print(model.cost(o, goal))\n",
    "# print(model.cost(o_, goal))\n",
    "best_u, best_c, best_o = model.act(o, goal)\n",
    "print(best_u)\n",
    "print(best_o)\n",
    "print(np.linalg.lstsq(A, best_o, rcond=None)[0])\n",
    "# plt.scatter([o[0,0], o_[0,0]], [o[1,0], o_[1,0]])\n",
    "s_back = np.linalg.lstsq(A, o_, rcond=None)[0]\n",
    "x_ = s_back[0, 0]\n",
    "y_ = s_back[1, 0]\n",
    "plt.scatter(x, y)\n",
    "plt.plot([x, x_], [y, y_]);\n",
    "plt.axis(\"equal\")"
   ]
  },
  {
   "cell_type": "code",
   "execution_count": null,
   "metadata": {},
   "outputs": [],
   "source": [
    "print(model.cost(o, goal)[0,0])\n",
    "x = x - 1\n",
    "y = y - 1\n",
    "o2 = model.reduce(np.array([[x], [y], [x], [y], [x], [y]]))\n",
    "print(model.cost(o2, goal)[0,0])"
   ]
  },
  {
   "cell_type": "code",
   "execution_count": null,
   "metadata": {},
   "outputs": [],
   "source": [
    "def cost_at_xy(x, y):\n",
    "    s = np.array([[x], [y], [x], [y], [x], [y]])\n",
    "    print(model.cost_of_s(s, goal)[0,0])\n",
    "    \n",
    "cost_at_xy(3, 3)\n",
    "cost_at_xy(-3, 3)\n",
    "cost_at_xy(-3, -3)\n",
    "cost_at_xy(3, -3)"
   ]
  },
  {
   "cell_type": "code",
   "execution_count": null,
   "metadata": {},
   "outputs": [],
   "source": [
    "tpo.plot_costmap_2(plt, model, data, goal, resolution=.05, minimum=-3, maximum=-1)"
   ]
  },
  {
   "cell_type": "code",
   "execution_count": null,
   "metadata": {},
   "outputs": [],
   "source": [
    "points = np.array([[1,0], [1,1], [0,1], [-1,1], [-1,0], [-1,-1], [0,-1], [1,-1]])\n",
    "R = model.get_A()[:,:2]\n",
    "new_points = []\n",
    "for p in points:\n",
    "    new_p = np.dot(R, p)\n",
    "    new_points.append(new_p)\n",
    "new_points = np.array(new_points)\n",
    "    \n",
    "plt.figure(figsize=(10,10))\n",
    "plt.scatter([points[0,0]], [points[0,1]], s=150)\n",
    "plt.scatter([new_points[0,0]], [new_points[0,1]], s=150)\n",
    "plt.scatter([p[0] for p in points], [p[1] for p in points])\n",
    "plt.scatter([p[0] for p in new_points], [p[1] for p in new_points])\n",
    "plt.plot([p[0] for p in points], [p[1] for p in points], label='original')\n",
    "plt.plot([p[0] for p in new_points], [p[1] for p in new_points], label='latent')\n",
    "plt.legend()\n",
    "plt.axis(\"equal\");"
   ]
  },
  {
   "cell_type": "code",
   "execution_count": null,
   "metadata": {},
   "outputs": [],
   "source": [
    "r = 0.25\n",
    "cx = 0\n",
    "cy = 0\n",
    "m = 3\n",
    "x = []\n",
    "y = []\n",
    "u = []\n",
    "v = []\n",
    "goal = np.array([[cx], [cy], [0], [0], [0], [0]])\n",
    "min_a = 1e9 * np.ones((2, 1))\n",
    "min_a_x = None\n",
    "min_a_y = None\n",
    "MAX_SPEED=1\n",
    "og = model.reduce(goal)\n",
    "for s1 in np.arange(cx-m, cx+m+r, r):\n",
    "    for s2 in np.arange(cy-m, cy+m+r, r):\n",
    "        o = model.reduce(np.array([[s1], [s2], [0], [0], [0], [0]]))\n",
    "        o1 = o[0, 0]\n",
    "        o2 = o[1, 0]\n",
    "        full_a, full_c, next_o = model.act(o, goal)\n",
    "        if np.linalg.norm(full_a) > MAX_SPEED:\n",
    "            a = full_a / np.linalg.norm(full_a) * MAX_SPEED  # a is in meters per second. Cap to 0.75\n",
    "        else:\n",
    "            a = full_a\n",
    "\n",
    "        x.append(s1)\n",
    "        y.append(s2)\n",
    "        u.append(a[0, 0, 0])\n",
    "        v.append(a[0, 1, 0])\n",
    "        if np.linalg.norm(full_a) < np.linalg.norm(min_a):\n",
    "            min_a = a\n",
    "            min_a_x = s1\n",
    "            min_a_y = s2\n",
    "        \n",
    "plt.figure(figsize=(10,10))\n",
    "ax = plt.gca()\n",
    "ax.scatter(goal[0, 0], goal[1, 0], s=250, c='g')\n",
    "ax.scatter(min_a_x, min_a_y, s=50, c='r')\n",
    "q = ax.quiver(x, y, u, v, scale=40, width=0.0025)\n",
    "ax.set_xlabel(\"X (m)\")\n",
    "ax.set_ylabel(\"Y (m)\");"
   ]
  },
  {
   "cell_type": "code",
   "execution_count": null,
   "metadata": {},
   "outputs": [],
   "source": [
    "x = 2\n",
    "y = -2\n",
    "o = model.reduce(np.array([[x], [y], [x], [y], [x], [y]]))\n",
    "o1 = o[0, 0]\n",
    "o2 = o[1, 0]\n",
    "M = 10\n",
    "u, _, _ = model.act(o, goal)\n",
    "u = u / np.linalg.norm(u) * M\n",
    "print(\"Newton Step:\", u[0].T)\n",
    "print(\"Newton Step Cost:\", model.predict_cost(o, u, goal)[0,0])\n",
    "min_cost = 1e9\n",
    "min_cost_u = None\n",
    "costs = []\n",
    "angles = np.linspace(-np.pi, np.pi, 100)\n",
    "for angle in angles:\n",
    "    u = np.array([[[np.cos(angle)], [np.sin(angle)]]]) * M\n",
    "    cost = model.predict_cost(o, u, goal)[0, 0]\n",
    "    costs.append(cost)\n",
    "    if cost < min_cost:\n",
    "        min_cost = cost\n",
    "        min_cost_u = u;\n",
    "print(\"Steepest-Descent: \", min_cost_u[0].T)\n",
    "print(\"Steepest-Descent Cost: \", min_cost)\n",
    "\n",
    "plt.scatter(angles, costs)"
   ]
  },
  {
   "cell_type": "code",
   "execution_count": null,
   "metadata": {},
   "outputs": [],
   "source": []
  }
 ],
 "metadata": {
  "kernelspec": {
   "display_name": "Python 3",
   "language": "python",
   "name": "python3"
  },
  "language_info": {
   "codemirror_mode": {
    "name": "ipython",
    "version": 2
   },
   "file_extension": ".py",
   "mimetype": "text/x-python",
   "name": "python",
   "nbconvert_exporter": "python",
   "pygments_lexer": "ipython2",
   "version": "2.7.12"
  }
 },
 "nbformat": 4,
 "nbformat_minor": 2
}
