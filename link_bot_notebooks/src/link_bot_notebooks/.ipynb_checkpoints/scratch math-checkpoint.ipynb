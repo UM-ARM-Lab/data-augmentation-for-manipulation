{
 "cells": [
  {
   "cell_type": "code",
   "execution_count": 1,
   "metadata": {},
   "outputs": [],
   "source": [
    "import numpy as np\n",
    "import matplotlib.pyplot as plt"
   ]
  },
  {
   "cell_type": "code",
   "execution_count": null,
   "metadata": {},
   "outputs": [],
   "source": [
    "B=\n",
    "np.aray([[ 0.02,-0.04],\n",
    " [-0.1, 0.01]])\n",
    "C=\n",
    "np.array([[-0.18,-0.08],\n",
    " [ 0.09, 0.01]])\n",
    "D=\n",
    "np.array([[ 0.14, 0.14],\n",
    " [-0.39,-0.38]])"
   ]
  },
  {
   "cell_type": "code",
   "execution_count": 6,
   "metadata": {},
   "outputs": [
    {
     "name": "stdout",
     "output_type": "stream",
     "text": [
      "[[-2.48 -0.82]\n",
      " [-0.82  1.56]]\n",
      "[[ 15.38461538   7.69230769]\n",
      " [ 23.07692308 -38.46153846]]\n",
      "[-47.46153846 149.30769231]\n"
     ]
    }
   ],
   "source": [
    "g = np.array([ 0.08, -4.45])\n",
    "o = np.array([1, 0])\n",
    "print(D+D.T)\n",
    "print(np.linalg.inv(C))\n",
    "print(np.linalg.solve(C, g-o-np.dot(B,o)))"
   ]
  },
  {
   "cell_type": "code",
   "execution_count": null,
   "metadata": {},
   "outputs": [],
   "source": []
  }
 ],
 "metadata": {
  "kernelspec": {
   "display_name": "Python 3",
   "language": "python",
   "name": "python3"
  },
  "language_info": {
   "codemirror_mode": {
    "name": "ipython",
    "version": 2
   },
   "file_extension": ".py",
   "mimetype": "text/x-python",
   "name": "python",
   "nbconvert_exporter": "python",
   "pygments_lexer": "ipython2",
   "version": "2.7.12"
  }
 },
 "nbformat": 4,
 "nbformat_minor": 2
}
