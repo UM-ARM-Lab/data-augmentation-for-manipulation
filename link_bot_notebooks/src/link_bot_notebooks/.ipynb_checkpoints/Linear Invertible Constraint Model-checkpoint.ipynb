{
 "cells": [
  {
   "cell_type": "markdown",
   "metadata": {},
   "source": [
    "# Testing Linear Invertable Constraint Model"
   ]
  },
  {
   "cell_type": "code",
   "execution_count": 1,
   "metadata": {},
   "outputs": [],
   "source": [
    "from link_bot_notebooks import linear_invertible_constraint_model\n",
    "from link_bot_notebooks import toy_problem_optimization_common as tpo\n",
    "import numpy as np\n",
    "import matplotlib.pyplot as plt"
   ]
  },
  {
   "cell_type": "code",
   "execution_count": 2,
   "metadata": {},
   "outputs": [],
   "source": [
    "goal = np.array([[0], [0], [1], [0], [2], [0]])\n",
    "dt = 0.1\n",
    "args = {'checkpoint': \"log_data/January_22_16:51:59__98a4e97c1f/nn.ckpt-50000\", 'log': False, 'batch_size': 250}\n",
    "dataset = \"../../../link_bot_teleop/data/250_50_random.txt\"\n",
    "data = tpo.load_data(dataset, g=goal, extract_func=tpo.two_link_pos_vel_extractor)\n",
    "log_data = np.loadtxt(dataset)\n",
    "\n",
    "goal = np.array([[0], [0], [0], [1], [0], [2]])\n",
    "trajectory_length_during_collection = tpo.parse_dataset_name(dataset, log_data)\n",
    "x = tpo.load_train2(log_data, tpo.link_pos_vel_extractor2_indeces(), trajectory_length_during_collection, 1)\n",
    "model = linear_invertible_constraint_model.LinearInvertibleModel(args, N=6, M=4, K=2, L=2, dt=0.1)"
   ]
  },
  {
   "cell_type": "code",
   "execution_count": 3,
   "metadata": {},
   "outputs": [
    {
     "name": "stdout",
     "output_type": "stream",
     "text": [
      "INFO:tensorflow:Restoring parameters from log_data/January_22_16:51:59__98a4e97c1f/nn.ckpt-50000\n",
      "\u001b[36mRestored ckpt log_data/January_22_16:51:59__98a4e97c1f/nn.ckpt-50000 at step 50000\u001b[39m\n"
     ]
    }
   ],
   "source": [
    "model.load()"
   ]
  },
  {
   "cell_type": "code",
   "execution_count": 4,
   "metadata": {},
   "outputs": [
    {
     "name": "stdout",
     "output_type": "stream",
     "text": [
      "Cost Loss: 0.00434426963329\n",
      "State Prediction Loss: 0.0353420190513\n",
      "Cost Prediction Loss: 0.0811022892594\n",
      "Constraint Prediction Loss: 0.140000000596\n",
      "Regularization: 3.79571609699e-08\n",
      "Overall Loss: 0.260868400335\n",
      "A_control:\n",
      "[[ 0.6603031   0.18637158  0.23769888  0.00392958 -0.13474894 -0.0055236 ]\n",
      " [-0.00843639 -0.8341092   0.05847755  0.1293716  -0.03600967 -0.07508969]\n",
      " [ 0.7622578  -0.15348044 -0.2739156   0.00448291  0.15440038  0.00392296]\n",
      " [ 0.03046608 -0.49785417  0.0603526  -0.17561145 -0.02785106  0.09491652]]\n",
      "A_constraint:\n",
      "[[ 0.67865735 -0.9873752  -0.1089726  -0.19913623]\n",
      " [-1.4980463  -0.923301   -1.0607789  -1.2552066 ]]\n",
      "B:\n",
      "[[ 0.02072368 -0.0581773   0.00218378  0.08138384]\n",
      " [-0.11648379 -0.30307606  0.10146497  0.3520874 ]\n",
      " [ 0.24524151  0.08990301 -0.26812872  0.02879915]\n",
      " [ 0.08572971  0.23291151 -0.08268395 -0.26328486]]\n",
      "C:\n",
      "[[ 0.46424064  0.11293332]\n",
      " [-0.09074729 -0.43369934]\n",
      " [ 0.44645715 -0.03317403]\n",
      " [ 0.04165812 -0.41346088]]\n",
      "D:\n",
      "[[1. 0. 0. 0.]\n",
      " [0. 1. 0. 0.]\n",
      " [0. 0. 1. 0.]\n",
      " [0. 0. 0. 1.]]\n"
     ]
    }
   ],
   "source": [
    "A_control, A_constraint, C, D, c_loss, sp_loss, cp_loss, constraint_loss, reg, loss = model.evaluate(x, goal, display=True)"
   ]
  },
  {
   "cell_type": "code",
   "execution_count": 5,
   "metadata": {},
   "outputs": [
    {
     "name": "stdout",
     "output_type": "stream",
     "text": [
      "[0.]\n",
      "[0.]\n",
      "[0.]\n"
     ]
    }
   ],
   "source": [
    "print(model.hat_constraint_from_s(np.array([[0],[0],[0],[0],[0],[0]])))\n",
    "print(model.hat_constraint_from_s(np.array([[1],[1],[0],[0],[0],[0]])))\n",
    "print(model.hat_constraint_from_s(np.array([[1],[1],[1],[1],[1],[1]])))"
   ]
  },
  {
   "cell_type": "code",
   "execution_count": 6,
   "metadata": {},
   "outputs": [
    {
     "data": {
      "text/plain": [
       "array([0.], dtype=float32)"
      ]
     },
     "execution_count": 6,
     "metadata": {},
     "output_type": "execute_result"
    }
   ],
   "source": [
    "def plot_constraint_map(plt, model, data, g, resolution=0.1, minimum=-5, maximum=5):\n",
    "    N = int((maximum - minimum) / resolution)\n",
    "    colors = np.ndarray((N, N))\n",
    "    for i in range(N):\n",
    "        x = minimum + resolution * i\n",
    "        for j in range(N):\n",
    "            y = minimum + resolution * j\n",
    "            s = np.array([[x], [y], [0], [0], [0], [0]])\n",
    "            c = model.get_hat_constraint(s)[0]\n",
    "            colors[N - j - 1, i] = c\n",
    "\n",
    "    plt.imshow(colors, interpolation=None, extent=[minimum, maximum, minimum, maximum])\n",
    "\n",
    "plot_constraint_map(plt, model, data, goal)\n"
   ]
  },
  {
   "cell_type": "code",
   "execution_count": null,
   "metadata": {},
   "outputs": [],
   "source": []
  }
 ],
 "metadata": {
  "kernelspec": {
   "display_name": "Python 3",
   "language": "python",
   "name": "python3"
  },
  "language_info": {
   "codemirror_mode": {
    "name": "ipython",
    "version": 2
   },
   "file_extension": ".py",
   "mimetype": "text/x-python",
   "name": "python",
   "nbconvert_exporter": "python",
   "pygments_lexer": "ipython2",
   "version": "2.7.12"
  }
 },
 "nbformat": 4,
 "nbformat_minor": 2
}
