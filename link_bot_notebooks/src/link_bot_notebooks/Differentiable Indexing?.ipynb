{
 "cells": [
  {
   "cell_type": "markdown",
   "metadata": {},
   "source": [
    "Is it possible to obtain a gradient for a parameter in a graph which indexes the input array, of which the value is then used in the loss?\n",
    "\n",
    "define the input array $$x = \\begin{bmatrix} x_1 \\\\ x_2 \\\\ x_3 \\\\ x_4 \\\\ \\end{bmatrix}$$ and the loss function as $$L = (x[\\theta] - y)^2$$ which is parameterized by a single real number $\\theta$."
   ]
  },
  {
   "cell_type": "markdown",
   "metadata": {},
   "source": [
    "$$\n",
    "\\frac{\\partial}{\\partial \\theta}x[\\theta] = \\begin{cases} \n",
    "      0 & \\theta\\leq 0.5 \\\\\n",
    "      x[\\theta+1] - x[\\theta] & 0.5 \\leq \\theta \\leq 1 \\\\\n",
    "      \\end{cases}\n",
    "$$\n",
    "\n",
    "Hmmm ok yea this doesn't work"
   ]
  },
  {
   "cell_type": "code",
   "execution_count": null,
   "metadata": {},
   "outputs": [],
   "source": []
  }
 ],
 "metadata": {
  "kernelspec": {
   "display_name": "Python 3",
   "language": "python",
   "name": "python3"
  },
  "language_info": {
   "codemirror_mode": {
    "name": "ipython",
    "version": 2
   },
   "file_extension": ".py",
   "mimetype": "text/x-python",
   "name": "python",
   "nbconvert_exporter": "python",
   "pygments_lexer": "ipython2",
   "version": "2.7.12"
  }
 },
 "nbformat": 4,
 "nbformat_minor": 2
}
