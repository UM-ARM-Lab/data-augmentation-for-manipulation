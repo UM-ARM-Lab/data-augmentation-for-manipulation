{
 "cells": [
  {
   "cell_type": "markdown",
   "metadata": {},
   "source": [
    "# Testing the Linear Model trained in TensorFlow "
   ]
  },
  {
   "cell_type": "code",
   "execution_count": 1,
   "metadata": {},
   "outputs": [
    {
     "name": "stdout",
     "output_type": "stream",
     "text": [
      "importing Jupyter notebook from /home/pmitrano/catkin_ws/src/link_bot/link_bot_notebooks/src/link_bot_notebooks/toy_problem_optimization_common.ipynb\n"
     ]
    }
   ],
   "source": [
    "from __future__ import print_function\n",
    "from link_bot_notebooks import notebook_finder\n",
    "from link_bot_notebooks import toy_problem_optimization_common as tpo\n",
    "from math import acos\n",
    "import numpy as np\n",
    "import matplotlib.pyplot as plt\n",
    "from link_bot_notebooks.linear_tf_model import LinearTFModel"
   ]
  },
  {
   "cell_type": "code",
   "execution_count": 2,
   "metadata": {},
   "outputs": [
    {
     "name": "stdout",
     "output_type": "stream",
     "text": [
      "INFO:tensorflow:Restoring parameters from log_data/init_A/December_10_23:11:39__0a0464776e/nn.ckpt-175000\n",
      "\u001b[36mRestored ckpt log_data/init_A/December_10_23:11:39__0a0464776e/nn.ckpt-175000 at step 175000\u001b[39m\n"
     ]
    }
   ],
   "source": [
    "args = {'checkpoint': \"log_data/init_A/December_10_23:11:39__0a0464776e/nn.ckpt-175000\", 'log': False, 'batch_size': 1024}\n",
    "dataset = \"../../../link_bot_teleop/data/random_50_steps.txt\"\n",
    "n_steps = 50\n",
    "dt = 0.1\n",
    "x = tpo.load_train(dataset, N=6, L=2, n_steps=n_steps, extract_func=tpo.link_pos_vel_extractor2(6))\n",
    "model = LinearTFModel(args, N=6, M=2, L=2, n_steps=1, dt=dt)\n",
    "model.load()"
   ]
  },
  {
   "cell_type": "code",
   "execution_count": null,
   "metadata": {},
   "outputs": [],
   "source": [
    "goal = np.array([[0], [0], [1], [0], [2], [0]])"
   ]
  },
  {
   "cell_type": "code",
   "execution_count": 3,
   "metadata": {},
   "outputs": [],
   "source": [
    "# A, B, C, D, c_loss, sp_loss, cp_loss, reg, loss = model.evaluate(x, goal, display=True)"
   ]
  },
  {
   "cell_type": "code",
   "execution_count": 8,
   "metadata": {},
   "outputs": [
    {
     "name": "stdout",
     "output_type": "stream",
     "text": [
      "A:\n",
      "[[ 0.19 -0.44  0.05  0.01 -0.01 -0.09]\n",
      " [-0.25 -0.1  -0.02 -0.04 -0.09 -0.04]]\n",
      "B:\n",
      "[[-0.03  0.15]\n",
      " [-0.11  0.01]]\n",
      "C:\n",
      "[[  7.51 -26.44]\n",
      " [-23.28  -7.18]]\n",
      "D:\n",
      "[[ 3.13 -0.44]\n",
      " [-0.19  5.5 ]]\n",
      "\n"
     ]
    }
   ],
   "source": [
    "A = model.get_A()\n",
    "print(model)"
   ]
  },
  {
   "cell_type": "code",
   "execution_count": 12,
   "metadata": {},
   "outputs": [
    {
     "name": "stdout",
     "output_type": "stream",
     "text": [
      "[[0 0 1 0 2 0]]\n",
      "[[0.63 0.26 0.06 0.11 0.23 0.1 ]]\n"
     ]
    }
   ],
   "source": [
    "s0 = np.array([[0], [0], [1], [0], [2], [0]])\n",
    "print(s0.T)\n",
    "s1 = np.linalg.lstsq(A, model.predict_from_s(s=s0, u=np.array([[[0], [0]]])), rcond=None)[0]\n",
    "print(s1.T)"
   ]
  },
  {
   "cell_type": "code",
   "execution_count": null,
   "metadata": {},
   "outputs": [],
   "source": [
    "data = tpo.load_data(dataset, g=goal, extract_func=tpo.two_link_pos_vel_extractor)"
   ]
  },
  {
   "cell_type": "code",
   "execution_count": null,
   "metadata": {},
   "outputs": [],
   "source": [
    "plt.figure(figsize=(12,12))\n",
    "m = 7\n",
    "c = 0\n",
    "res = 1\n",
    "tpo.plot_costmap_2(plt, model, data, goal, resolution=res, minimum=c-m, maximum=c+m)\n",
    "ax = plt.gca()\n",
    "tpo.policy_quiver(model, goal, ax, c, c, res, m, scale=25)\n",
    "plt.xlabel(\"X (m)\")\n",
    "plt.ylabel(\"Y (m)\");"
   ]
  },
  {
   "cell_type": "code",
   "execution_count": null,
   "metadata": {},
   "outputs": [],
   "source": [
    "points = np.array([[1,0], [1,1], [0,1], [-1,1], [-1,0], [-1,-1], [0,-1], [1,-1]])\n",
    "R = model.get_A()[:,:2]\n",
    "new_points = []\n",
    "for p in points:\n",
    "    new_p = np.dot(R, p)\n",
    "    new_points.append(new_p)\n",
    "new_points = np.array(new_points)\n",
    "    \n",
    "plt.figure(figsize=(10,10))\n",
    "plt.scatter([points[0,0]], [points[0,1]], s=150)\n",
    "plt.scatter([new_points[0,0]], [new_points[0,1]], s=150)\n",
    "plt.scatter([p[0] for p in points], [p[1] for p in points])\n",
    "plt.scatter([p[0] for p in new_points], [p[1] for p in new_points])\n",
    "plt.plot([p[0] for p in points], [p[1] for p in points], label='original')\n",
    "plt.plot([p[0] for p in new_points], [p[1] for p in new_points], label='latent')\n",
    "plt.legend()\n",
    "plt.axis(\"equal\");"
   ]
  },
  {
   "cell_type": "code",
   "execution_count": null,
   "metadata": {},
   "outputs": [],
   "source": []
  }
 ],
 "metadata": {
  "kernelspec": {
   "display_name": "Python 3",
   "language": "python",
   "name": "python3"
  },
  "language_info": {
   "codemirror_mode": {
    "name": "ipython",
    "version": 2
   },
   "file_extension": ".py",
   "mimetype": "text/x-python",
   "name": "python",
   "nbconvert_exporter": "python",
   "pygments_lexer": "ipython2",
   "version": "2.7.12"
  }
 },
 "nbformat": 4,
 "nbformat_minor": 2
}
