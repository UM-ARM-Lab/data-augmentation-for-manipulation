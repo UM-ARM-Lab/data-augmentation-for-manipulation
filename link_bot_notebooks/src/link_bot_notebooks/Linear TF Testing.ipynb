{
 "cells": [
  {
   "cell_type": "markdown",
   "metadata": {},
   "source": [
    "# Testing the Linear Model trained in TensorFlow "
   ]
  },
  {
   "cell_type": "code",
   "execution_count": 1,
   "metadata": {},
   "outputs": [],
   "source": [
    "from __future__ import print_function\n",
    "from link_bot_notebooks import toy_problem_optimization_common as tpo\n",
    "from mpl_toolkits.mplot3d import Axes3D\n",
    "import numpy as np\n",
    "import matplotlib.pyplot as plt\n",
    "from link_bot_notebooks.linear_tf_model import LinearTFModel"
   ]
  },
  {
   "cell_type": "code",
   "execution_count": 2,
   "metadata": {},
   "outputs": [],
   "source": [
    "goal = np.array([[0, 0, 0, 0, 0, 0]])\n",
    "args = {'checkpoint': \"log_data/new_init_M6/February_07_14:41:07__96b4f633b3/nn.ckpt-10000\", 'log': False, 'debug': False}\n",
    "dataset = \"../../../link_bot_teleop/data/10_50_random_test.npy\"\n",
    "DT = 0.1\n",
    "data = np.load(dataset)"
   ]
  },
  {
   "cell_type": "code",
   "execution_count": 3,
   "metadata": {},
   "outputs": [
    {
     "name": "stdout",
     "output_type": "stream",
     "text": [
      "INFO:tensorflow:Restoring parameters from log_data/new_init_M6/February_07_14:41:07__96b4f633b3/nn.ckpt-10000\n",
      "\u001b[36mRestored ckpt log_data/new_init_M6/February_07_14:41:07__96b4f633b3/nn.ckpt-10000 at step 10000\u001b[39m\n"
     ]
    }
   ],
   "source": [
    "model = LinearTFModel(args, 1, N=6, M=6, L=2, n_steps=50, dt=DT)\n",
    "model.load()"
   ]
  },
  {
   "cell_type": "code",
   "execution_count": 4,
   "metadata": {},
   "outputs": [],
   "source": [
    "## Checking for local minimum in cost A, B, C, D, sp_loss, cp_loss, reg, loss = model.evaluate(data, goal, display=True)"
   ]
  },
  {
   "cell_type": "markdown",
   "metadata": {},
   "source": [
    "# Checking for local minimum in cost"
   ]
  },
  {
   "cell_type": "code",
   "execution_count": 12,
   "metadata": {},
   "outputs": [
    {
     "name": "stdout",
     "output_type": "stream",
     "text": [
      "2.5931392\n",
      "2.5819\n",
      "2.5808764\n",
      "2.5839694\n",
      "2.5869935\n",
      "2.5823567\n",
      "2.576116\n",
      "2.5835783\n",
      "2.5900502\n",
      "2.5885525\n",
      "2.588235\n",
      "2.579819\n",
      "2.5901773\n",
      "2.5927546\n",
      "2.583372\n",
      "2.5833466\n",
      "2.583313\n",
      "2.5777225\n",
      "2.5833588\n",
      "2.58729\n",
      "2.5951798\n",
      "2.578\n",
      "2.5802171\n",
      "2.5854907\n",
      "2.5853207\n",
      "2.5809453\n",
      "2.587293\n",
      "2.5881736\n",
      "2.5869062\n",
      "2.5904636\n",
      "2.5840442\n",
      "2.5853655\n",
      "2.589805\n",
      "2.5829704\n",
      "2.579498\n",
      "2.5802503\n",
      "2.5849876\n",
      "2.5804186\n",
      "2.586163\n",
      "2.5833821\n",
      "2.5907934\n",
      "2.5809832\n",
      "2.5809386\n",
      "2.5836673\n",
      "2.5843582\n",
      "2.5911157\n",
      "2.578002\n",
      "2.5856745\n",
      "2.580567\n",
      "2.594031\n",
      "2.5782886\n",
      "2.5848174\n",
      "2.583951\n",
      "2.5766895\n",
      "2.5775168\n",
      "2.5807517\n",
      "2.581441\n",
      "2.5846598\n",
      "2.5863738\n",
      "2.582065\n",
      "2.5929315\n",
      "2.582167\n",
      "2.5900881\n",
      "2.588596\n",
      "2.5827236\n",
      "2.5893\n",
      "2.5785575\n",
      "2.580744\n",
      "2.5838335\n",
      "2.5840416\n",
      "2.5893023\n",
      "2.5903323\n",
      "2.5774658\n",
      "2.5780306\n",
      "2.5916142\n",
      "2.5775974\n",
      "2.5883365\n",
      "2.579419\n",
      "2.5898015\n",
      "2.5826473\n",
      "2.5931125\n",
      "2.5883267\n",
      "2.5831475\n",
      "2.5798965\n",
      "2.5910547\n",
      "2.5895758\n",
      "2.5853395\n",
      "2.5823157\n",
      "2.5857103\n",
      "2.580333\n",
      "2.590334\n",
      "2.5855215\n",
      "2.592528\n",
      "2.5877242\n",
      "2.581153\n",
      "2.5876474\n",
      "2.5826414\n",
      "2.584248\n",
      "2.583464\n",
      "2.584823\n",
      "2.587525\n"
     ]
    }
   ],
   "source": [
    "s = np.array([-1, 1, -1, 0, -1, -1])\n",
    "o = model.reduce(s)\n",
    "c0 = model.cost_of_s(s, goal)[0, 0, 1]\n",
    "print(c0)\n",
    "u = np.zeros((1,50,2))\n",
    "for i in range(100):\n",
    "    u0 = np.random.uniform(0, 2, size=2)\n",
    "    u[0, 0] = u0\n",
    "    c = model.predict_cost(o, u, goal)[0, 1]\n",
    "    print(c)"
   ]
  },
  {
   "cell_type": "markdown",
   "metadata": {},
   "source": [
    "## Plotting"
   ]
  },
  {
   "cell_type": "code",
   "execution_count": null,
   "metadata": {},
   "outputs": [],
   "source": [
    "s, u, c = model.compute_cost_label(data, goal)"
   ]
  },
  {
   "cell_type": "code",
   "execution_count": null,
   "metadata": {},
   "outputs": [],
   "source": [
    "s0 = np.expand_dims(s[0], 0)\n",
    "u0 = np.expand_dims(u[0], 0)\n",
    "c0 = np.expand_dims(c[0], 0)\n",
    "loss, true_o, hat_o_next, hat_c = model.sess.run([model.loss, model.hat_o, model.hat_o_next, model.hat_c], feed_dict={model.s: s0, model.u: u0, model.g: goal, model.c: c0})\n",
    "print(loss)"
   ]
  },
  {
   "cell_type": "code",
   "execution_count": null,
   "metadata": {},
   "outputs": [],
   "source": [
    "fig = plt.figure()\n",
    "ax = fig.add_subplot(111, projection='3d')\n",
    "ax.scatter(hat_o_next[0, :, 0], hat_o_next[0, :, 1], hat_o_next[0, :, 2], label='predicted')\n",
    "ax.scatter(true_o[0, :, 0], true_o[0, :, 1], true_o[0, :, 2], label='true')\n",
    "ax.legend()"
   ]
  },
  {
   "cell_type": "code",
   "execution_count": null,
   "metadata": {},
   "outputs": [],
   "source": [
    "plt.figure()\n",
    "plt.plot(hat_c[0, :], label='predicted')\n",
    "plt.plot(c0[0,:], label='true')\n",
    "plt.xlabel(\"time steps\")\n",
    "plt.ylabel(\"cost\")\n",
    "plt.legend()"
   ]
  }
 ],
 "metadata": {
  "kernelspec": {
   "display_name": "Python 3",
   "language": "python",
   "name": "python3"
  },
  "language_info": {
   "codemirror_mode": {
    "name": "ipython",
    "version": 2
   },
   "file_extension": ".py",
   "mimetype": "text/x-python",
   "name": "python",
   "nbconvert_exporter": "python",
   "pygments_lexer": "ipython2",
   "version": "2.7.12"
  }
 },
 "nbformat": 4,
 "nbformat_minor": 2
}
