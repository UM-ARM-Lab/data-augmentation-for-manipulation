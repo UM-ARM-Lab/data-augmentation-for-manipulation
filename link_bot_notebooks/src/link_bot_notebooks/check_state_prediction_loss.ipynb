{
 "cells": [
  {
   "cell_type": "code",
   "execution_count": 34,
   "metadata": {},
   "outputs": [],
   "source": [
    "from __future__ import print_function\n",
    "from link_bot_notebooks import notebook_finder\n",
    "from link_bot_notebooks import toy_problem_optimization_common as tpo\n",
    "import numpy as np\n",
    "from itertools import cycle\n",
    "import matplotlib.pyplot as plt\n",
    "np.set_printoptions(precision=6)"
   ]
  },
  {
   "cell_type": "code",
   "execution_count": 35,
   "metadata": {},
   "outputs": [],
   "source": [
    "dataset = \"../../../link_bot_teleop/data/random_speeds.txt\"\n",
    "goal = np.zeros((6,1))\n",
    "data = tpo.load_train(dataset, n_steps=1, N=6, L=2, extract_func=tpo.link_pos_vel_extractor2(6))"
   ]
  },
  {
   "cell_type": "code",
   "execution_count": 39,
   "metadata": {},
   "outputs": [
    {
     "name": "stdout",
     "output_type": "stream",
     "text": [
      "speed 1.2179024212922607\n",
      "distance error for xy model 0.34713527005830747\n",
      "distance error for no dynamics model 0.27511727976585754\n",
      ":'(\n"
     ]
    },
    {
     "data": {
      "image/png": "[encoded data removed]",
      "text/plain": [
       "<Figure size 432x288 with 1 Axes>"
      ]
     },
     "metadata": {
      "needs_background": "light"
     },
     "output_type": "display_data"
    }
   ],
   "source": [
    "example_idx = 4\n",
    "traj = data[:, :, example_idx]\n",
    "vx = traj[0][6]\n",
    "vy = traj[0][7]\n",
    "s = traj[0][[0, 1]]\n",
    "s_true = traj[1][[0, 1]]\n",
    "s_expected = s + np.array([vx, vy]) * 0.5\n",
    "d_true = s_true - s\n",
    "d_expected = s_expected - s\n",
    "xy_error = s_true - s_expected\n",
    "no_dynamics_error = s_true - s\n",
    "xy_error_d = np.linalg.norm(xy_error)\n",
    "no_dynamics_error_d = np.linalg.norm(no_dynamics_error)\n",
    "print('speed', np.hypot(vx, vy))\n",
    "print('distance error for xy model', xy_error_d)\n",
    "print('distance error for no dynamics model', no_dynamics_error_d)\n",
    "if xy_error_d > no_dynamics_error_d:\n",
    "    print(\":'(\")\n",
    "plt.scatter(s[0], s[1], s=100, c='r')\n",
    "plt.plot([s[0], s_true[0]], [s[1], s_true[1]], label='gazebo')\n",
    "plt.plot([s[0], s_expected[0]], [s[1], s_expected[1]], label='expected')\n",
    "plt.legend();"
   ]
  },
  {
   "cell_type": "code",
   "execution_count": 40,
   "metadata": {},
   "outputs": [
    {
     "name": "stdout",
     "output_type": "stream",
     "text": [
      "0.32276954933595164\n",
      "0.09035684144742116\n"
     ]
    }
   ],
   "source": [
    "f = 0.0\n",
    "m = 0\n",
    "xy_error_sum = 0\n",
    "no_dynamics_error_sum = 0\n",
    "for i in range(data.shape[2]):\n",
    "    traj = data[:, :, i]\n",
    "    vx = traj[0][6]\n",
    "    vy = traj[0][7]\n",
    "    s = traj[0][[0, 1]]\n",
    "    s_true = traj[1][[0, 1]]\n",
    "    s_expected = s + np.array([vx, vy]) * 0.5\n",
    "    d_true = s_true - s\n",
    "    d_expected = s_expected - s\n",
    "    xy_error = s_true - s_expected\n",
    "    no_dynamics_error = s_true - s\n",
    "    xy_error_d = np.linalg.norm(xy_error)\n",
    "    no_dynamics_error_d = np.linalg.norm(no_dynamics_error)\n",
    "    xy_error_sum += xy_error_d\n",
    "    no_dynamics_error_sum += no_dynamics_error_d\n",
    "    if xy_error_d > no_dynamics_error_d:\n",
    "        f+=1\n",
    "        s=np.hypot(vx, vy)\n",
    "        if s > m:\n",
    "            m = s\n",
    "#         print(\"NO DYNAMICS MODEL DOES BETTER for example \", i)\n",
    "#         print('\\tspeed', np.hypot(vx, vy))\n",
    "#         print('\\tdistance error for xy model', xy_error_d)\n",
    "#         print('\\tdistance error for no dynamics model', no_dynamics_error_d)\n",
    "#         plt.scatter(s[0], s[1], s=100, c='r')\n",
    "#         plt.plot([s[0], s_true[0]], [s[1], s_true[1]], label='gazebo')\n",
    "#         plt.plot([s[0], s_expected[0]], [s[1], s_expected[1]], label='expected')\n",
    "#         plt.legend();\n",
    "print(xy_error_sum/ data.shape[2])\n",
    "print(no_dynamics_error_sum/ data.shape[2])\n",
    "# print(m)\n",
    "# print(f/data.shape[2])"
   ]
  },
  {
   "cell_type": "code",
   "execution_count": null,
   "metadata": {},
   "outputs": [],
   "source": []
  }
 ],
 "metadata": {
  "kernelspec": {
   "display_name": "Python 3",
   "language": "python",
   "name": "python3"
  },
  "language_info": {
   "codemirror_mode": {
    "name": "ipython",
    "version": 2
   },
   "file_extension": ".py",
   "mimetype": "text/x-python",
   "name": "python",
   "nbconvert_exporter": "python",
   "pygments_lexer": "ipython2",
   "version": "2.7.12"
  }
 },
 "nbformat": 4,
 "nbformat_minor": 2
}
