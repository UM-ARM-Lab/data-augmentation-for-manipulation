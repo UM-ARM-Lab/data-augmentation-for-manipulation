{
 "cells": [
  {
   "cell_type": "code",
   "execution_count": 34,
   "metadata": {},
   "outputs": [],
   "source": [
    "from __future__ import print_function\n",
    "from link_bot_notebooks import notebook_finder\n",
    "from link_bot_notebooks import toy_problem_optimization_common as tpo\n",
    "import numpy as np\n",
    "from itertools import cycle\n",
    "import matplotlib.pyplot as plt\n",
    "np.set_printoptions(precision=6)"
   ]
  },
  {
   "cell_type": "code",
   "execution_count": 113,
   "metadata": {},
   "outputs": [
    {
     "name": "stdout",
     "output_type": "stream",
     "text": [
      "(51, 8, 250)\n"
     ]
    }
   ],
   "source": [
    "dataset = \"../../../link_bot_teleop/data/random_50_steps.txt\"\n",
    "goal = np.zeros((6,1))\n",
    "n_steps = 50\n",
    "data = tpo.load_train(dataset, n_steps=n_steps, N=6, L=2, extract_func=tpo.link_pos_vel_extractor2(6))\n",
    "print(data.shape)"
   ]
  },
  {
   "cell_type": "code",
   "execution_count": 114,
   "metadata": {},
   "outputs": [
    {
     "name": "stdout",
     "output_type": "stream",
     "text": [
      "speed 0.3071046529241636\n",
      "distance error for xy model 1.4829311932978861\n",
      "distance error for no dynamics model 0.11335887485404512\n",
      ":'(\n"
     ]
    },
    {
     "data": {
      "image/png": "[encoded data removed]",
      "text/plain": [
       "<Figure size 432x288 with 1 Axes>"
      ]
     },
     "metadata": {
      "needs_background": "light"
     },
     "output_type": "display_data"
    }
   ],
   "source": [
    "example_idx = 8\n",
    "traj = data[:, :, example_idx]\n",
    "vx = traj[0][6]\n",
    "vy = traj[0][7]\n",
    "s = traj[0][[0, 1]]\n",
    "s_true = traj[n_steps][[0, 1]]\n",
    "s_expected = s + np.array([vx, vy]) * 0.1 * n_steps\n",
    "d_true = s_true - s\n",
    "d_expected = s_expected - s\n",
    "xy_error = s_true - s_expected\n",
    "no_dynamics_error = s_true - s\n",
    "xy_error_d = np.linalg.norm(xy_error)\n",
    "no_dynamics_error_d = np.linalg.norm(no_dynamics_error)\n",
    "print('speed', np.hypot(vx, vy))\n",
    "print('distance error for xy model', xy_error_d)\n",
    "print('distance error for no dynamics model', no_dynamics_error_d)\n",
    "if xy_error_d > no_dynamics_error_d:\n",
    "    print(\":'(\")\n",
    "plt.scatter(s[0], s[1], s=100, c='r')\n",
    "plt.plot([s[0], s_true[0]], [s[1], s_true[1]], label='gazebo')\n",
    "plt.plot([s[0], s_expected[0]], [s[1], s_expected[1]], label='expected')\n",
    "plt.legend();"
   ]
  },
  {
   "cell_type": "code",
   "execution_count": 118,
   "metadata": {},
   "outputs": [
    {
     "name": "stdout",
     "output_type": "stream",
     "text": [
      "loss of XY dynamics: 1.7919841946027308\n",
      "loss of no dynamics: 1.9752064384975276\n",
      "Success!!!\n"
     ]
    }
   ],
   "source": [
    "f = 0.0\n",
    "m = 0\n",
    "xy_error_sum = 0\n",
    "no_dynamics_error_sum = 0\n",
    "for i in range(data.shape[2]):\n",
    "    traj = data[:, :, i]\n",
    "    vx = traj[0][6]\n",
    "    vy = traj[0][7]\n",
    "    s = traj[0][[0, 1]]\n",
    "    s_true = traj[n_steps][[0, 1]]\n",
    "    s_expected = s + np.array([vx, vy]) * 0.1 * (n_steps - 0)\n",
    "    d_true = s_true - s\n",
    "    d_expected = s_expected - s\n",
    "    xy_error = s_true - s_expected\n",
    "    no_dynamics_error = s_true - s\n",
    "    xy_error_d = np.linalg.norm(xy_error)\n",
    "    no_dynamics_error_d = np.linalg.norm(no_dynamics_error)\n",
    "    xy_error_sum += xy_error_d\n",
    "    no_dynamics_error_sum += no_dynamics_error_d\n",
    "    if xy_error_d > no_dynamics_error_d:\n",
    "        f+=1\n",
    "        s=np.hypot(vx, vy)\n",
    "        if s > m:\n",
    "            m = s\n",
    "#         print(\"NO DYNAMICS MODEL DOES BETTER for example \", i)\n",
    "#         print('\\tspeed', np.hypot(vx, vy))\n",
    "#         print('\\tdistance error for xy model', xy_error_d)\n",
    "#         print('\\tdistance error for no dynamics model', no_dynamics_error_d)\n",
    "#         plt.scatter(s[0], s[1], s=100, c='r')\n",
    "#         plt.plot([s[0], s_true[0]], [s[1], s_true[1]], label='gazebo')\n",
    "#         plt.plot([s[0], s_expected[0]], [s[1], s_expected[1]], label='expected')\n",
    "#         plt.legend();\n",
    "xy_loss = xy_error_sum/ data.shape[2]\n",
    "no_dynamics_loss = no_dynamics_error_sum/ data.shape[2]\n",
    "print('loss of XY dynamics:', xy_loss)\n",
    "print('loss of no dynamics:', no_dynamics_loss)\n",
    "if xy_loss > no_dynamics_loss:\n",
    "    print(\"VERY SAD.\")\n",
    "else:\n",
    "    print(\"Success!!!\")"
   ]
  },
  {
   "cell_type": "code",
   "execution_count": 121,
   "metadata": {},
   "outputs": [
    {
     "name": "stdout",
     "output_type": "stream",
     "text": [
      "average displacement for random 50 time-step actions: 1.9752064385\n"
     ]
    }
   ],
   "source": [
    "d_sum = 0\n",
    "for i in range(data.shape[2]):\n",
    "    traj = data[:, :, i]\n",
    "    vx = traj[0][6]\n",
    "    vy = traj[0][7]\n",
    "    s = traj[0][[0, 1]]\n",
    "    s_true = traj[n_steps][[0, 1]]\n",
    "    d_true = np.linalg.norm(s_true - s)\n",
    "    d_sum += d_true\n",
    "    \n",
    "print(\"average displacement for random {} time-step actions: {}\".format(n_steps, d_sum / data.shape[2]))"
   ]
  },
  {
   "cell_type": "code",
   "execution_count": null,
   "metadata": {},
   "outputs": [],
   "source": []
  }
 ],
 "metadata": {
  "kernelspec": {
   "display_name": "Python 3",
   "language": "python",
   "name": "python3"
  },
  "language_info": {
   "codemirror_mode": {
    "name": "ipython",
    "version": 2
   },
   "file_extension": ".py",
   "mimetype": "text/x-python",
   "name": "python",
   "nbconvert_exporter": "python",
   "pygments_lexer": "ipython2",
   "version": "2.7.12"
  }
 },
 "nbformat": 4,
 "nbformat_minor": 2
}
