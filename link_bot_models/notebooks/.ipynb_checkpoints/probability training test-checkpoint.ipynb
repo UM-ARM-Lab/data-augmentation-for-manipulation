{
 "cells": [
  {
   "cell_type": "markdown",
   "metadata": {},
   "source": [
    "# Can we learn this:\n",
    "\n",
    "$$P(a) + P(b) - P(a)*P(b)$$\n",
    "\n",
    "where $P(a) = \\sigma(\\mathcal{U}[-10, 10])$ and $P(b) = \\sigma(\\mathcal{N}(0, 0.1))$ and the true label is $p(a\\cup b) > 0.5$"
   ]
  },
  {
   "cell_type": "code",
   "execution_count": 1,
   "metadata": {},
   "outputs": [
    {
     "name": "stderr",
     "output_type": "stream",
     "text": [
      "Using TensorFlow backend.\n"
     ]
    }
   ],
   "source": [
    "import numpy as np\n",
    "import keras"
   ]
  },
  {
   "cell_type": "code",
   "execution_count": 11,
   "metadata": {},
   "outputs": [],
   "source": [
    "N = 1000\n",
    "a = np.random.uniform(-10, 10, N)\n",
    "b = np.random.randn(N) * 0.01\n",
    "y = (a > 0.5).astype(np.int)"
   ]
  },
  {
   "cell_type": "code",
   "execution_count": 15,
   "metadata": {},
   "outputs": [
    {
     "name": "stdout",
     "output_type": "stream",
     "text": [
      "WARNING:tensorflow:From /home/pmitrano/.local/opt/anaconda3/envs/ros1py3/lib/python3.7/site-packages/tensorflow/python/framework/op_def_library.py:263: colocate_with (from tensorflow.python.framework.ops) is deprecated and will be removed in a future version.\n",
      "Instructions for updating:\n",
      "Colocations handled automatically by placer.\n"
     ]
    }
   ],
   "source": [
    "a_tensor = keras.layers.Input(shape=[1])\n",
    "b_tensor = keras.layers.Input(shape=[1])\n",
    "pa_tensor = keras.layers.Activation(\"sigmoid\")(a_tensor)\n",
    "pb_tensor = keras.layers.Activation(\"sigmoid\")(b_tensor)\n",
    "concat = keras.layers.Concatenate()([pa_tensor, pb_tensor])\n",
    "def combine_probabilities(x):\n",
    "    return keras.backend.sum(x, axis=1, keepdims=True) - keras.backend.prod(x, axis=1, keepdims=True)\n",
    "y_tensor =  keras.layers.Lambda()(concat)\n",
    "\n",
    "    \n",
    "model = keras.models.Model(inputs=[a_tensor, b_tensor], outputs=[y_tensor])\n",
    "model.compile(\"adam\", \"binary_crossentropy\", metrics=['accuracy'])"
   ]
  },
  {
   "cell_type": "code",
   "execution_count": null,
   "metadata": {},
   "outputs": [],
   "source": []
  }
 ],
 "metadata": {
  "kernelspec": {
   "display_name": "Python 3",
   "language": "python",
   "name": "python3"
  },
  "language_info": {
   "codemirror_mode": {
    "name": "ipython",
    "version": 3
   },
   "file_extension": ".py",
   "mimetype": "text/x-python",
   "name": "python",
   "nbconvert_exporter": "python",
   "pygments_lexer": "ipython3",
   "version": "3.7.3"
  }
 },
 "nbformat": 4,
 "nbformat_minor": 2
}
