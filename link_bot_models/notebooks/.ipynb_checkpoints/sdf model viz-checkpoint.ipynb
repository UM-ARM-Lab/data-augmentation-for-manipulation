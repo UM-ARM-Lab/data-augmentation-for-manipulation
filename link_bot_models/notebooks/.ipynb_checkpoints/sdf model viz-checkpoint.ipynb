{
 "cells": [
  {
   "cell_type": "markdown",
   "metadata": {},
   "source": [
    "# Testing how the \"true\" SDF model does on the new gazebo data"
   ]
  },
  {
   "cell_type": "code",
   "execution_count": 1,
   "metadata": {},
   "outputs": [
    {
     "name": "stderr",
     "output_type": "stream",
     "text": [
      "Using TensorFlow backend.\n"
     ]
    }
   ],
   "source": [
    "import numpy as np\n",
    "import tensorflow as tf\n",
    "\n",
    "from link_bot_models import base_model_runner\n",
    "from link_bot_models.multi_environment_datasets import MultiEnvironmentDataset\n",
    "from link_bot_models.label_types import LabelType\n",
    "from link_bot_models.sdf_function_model import SDFFunctionModelRunner\n",
    "from link_bot_pycommon import experiments_util\n",
    "import matplotlib.pyplot as plt\n",
    "\n",
    "plt.style.use(\"slides\")\n",
    "plt.style.use(\"slides\")"
   ]
  },
  {
   "cell_type": "code",
   "execution_count": 4,
   "metadata": {},
   "outputs": [
    {
     "ename": "NameError",
     "evalue": "name 'args' is not defined",
     "output_type": "error",
     "traceback": [
      "\u001b[0;31m---------------------------------------------------------------------------\u001b[0m",
      "\u001b[0;31mNameError\u001b[0m                                 Traceback (most recent call last)",
      "\u001b[0;32m<ipython-input-4-ad0ef3870b2a>\u001b[0m in \u001b[0;36m<module>\u001b[0;34m\u001b[0m\n\u001b[1;32m      6\u001b[0m \u001b[0mlabel_types_map\u001b[0m \u001b[0;34m=\u001b[0m \u001b[0;34m\"SDF:=Combined\"\u001b[0m\u001b[0;34m\u001b[0m\u001b[0;34m\u001b[0m\u001b[0m\n\u001b[1;32m      7\u001b[0m \u001b[0;34m\u001b[0m\u001b[0m\n\u001b[0;32m----> 8\u001b[0;31m \u001b[0;32mif\u001b[0m \u001b[0margs\u001b[0m\u001b[0;34m.\u001b[0m\u001b[0mcheckpoint\u001b[0m\u001b[0;34m:\u001b[0m\u001b[0;34m\u001b[0m\u001b[0;34m\u001b[0m\u001b[0m\n\u001b[0m\u001b[1;32m      9\u001b[0m     \u001b[0mmodel\u001b[0m \u001b[0;34m=\u001b[0m \u001b[0mSDFFunctionModelRunner\u001b[0m\u001b[0;34m.\u001b[0m\u001b[0mload\u001b[0m\u001b[0;34m(\u001b[0m\u001b[0margs\u001b[0m\u001b[0;34m.\u001b[0m\u001b[0mcheckpoint\u001b[0m\u001b[0;34m)\u001b[0m\u001b[0;34m\u001b[0m\u001b[0;34m\u001b[0m\u001b[0m\n\u001b[1;32m     10\u001b[0m \u001b[0;32melse\u001b[0m\u001b[0;34m:\u001b[0m\u001b[0;34m\u001b[0m\u001b[0;34m\u001b[0m\u001b[0m\n",
      "\u001b[0;31mNameError\u001b[0m: name 'args' is not defined"
     ]
    }
   ],
   "source": [
    "train_dataset = \"./data/gz_train_2362dceb2a_100_1000_balanced/dataset.json\"\n",
    "validation_dataset = \"./data/gz_test_23aedc357f_50_100_balanced//dataset.json\"\n",
    "train_dataset = MultiEnvironmentDataset.load_dataset(train_dataset)\n",
    "validation_dataset = MultiEnvironmentDataset.load_dataset(validation_dataset)\n",
    "sdf_shape = train_dataset.sdf_shape\n",
    "label_types_map = \"SDF:=Combined\"\n",
    "\n",
    "args_dict = {\n",
    "    'sdf_shape': sdf_shape,\n",
    "    'beta': 1e-2,\n",
    "    'fc_layer_sizes': [],\n",
    "    'sigmoid_scale': 100,\n",
    "    'N': train_dataset.N,\n",
    "    'seed': 0,\n",
    "    'batch_size': 100,\n",
    "}\n",
    "model = SDFFunctionModelRunner(args_dict)\n",
    "\n",
    "print(model.keras_model.get_weights())"
   ]
  },
  {
   "cell_type": "code",
   "execution_count": null,
   "metadata": {},
   "outputs": [],
   "source": [
    "# model.train(train_dataset, validation_dataset, args.label_types_map, None, args)"
   ]
  },
  {
   "cell_type": "code",
   "execution_count": null,
   "metadata": {},
   "outputs": [],
   "source": [
    "model.evaluate(validation_dataset, label_types_map)"
   ]
  }
 ],
 "metadata": {
  "kernelspec": {
   "display_name": "Python 3",
   "language": "python",
   "name": "python3"
  },
  "language_info": {
   "codemirror_mode": {
    "name": "ipython",
    "version": 3
   },
   "file_extension": ".py",
   "mimetype": "text/x-python",
   "name": "python",
   "nbconvert_exporter": "python",
   "pygments_lexer": "ipython3",
   "version": "3.7.3"
  }
 },
 "nbformat": 4,
 "nbformat_minor": 2
}
