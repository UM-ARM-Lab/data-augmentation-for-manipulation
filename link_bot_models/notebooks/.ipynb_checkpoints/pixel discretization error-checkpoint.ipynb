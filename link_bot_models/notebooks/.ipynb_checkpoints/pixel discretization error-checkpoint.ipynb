{
 "cells": [
  {
   "cell_type": "markdown",
   "metadata": {},
   "source": [
    "# Pixel Discretization Error\n",
    "\n",
    "testing how many of the examples are indistiguishable once rastered into an image"
   ]
  },
  {
   "cell_type": "code",
   "execution_count": 42,
   "metadata": {},
   "outputs": [],
   "source": [
    "import numpy as np\n",
    "import matplotlib.pyplot as plt\n",
    "from link_bot_pycommon import link_bot_pycommon\n",
    "from link_bot_models.multi_environment_datasets import MultiEnvironmentDataset\n",
    "\n",
    "np.set_printoptions(suppress=True, precision=4, linewidth=220)\n",
    "plt.style.use(\"slides\")\n",
    "plt.style.use(\"slides\")"
   ]
  },
  {
   "cell_type": "code",
   "execution_count": 15,
   "metadata": {},
   "outputs": [],
   "source": [
    "dataset = MultiEnvironmentDataset.load_dataset(\"./data/train_new_100_1000/dataset.json\")\n",
    "generator = dataset.generator(100)"
   ]
  },
  {
   "cell_type": "code",
   "execution_count": 65,
   "metadata": {},
   "outputs": [
    {
     "data": {
      "text/plain": [
       "3"
      ]
     },
     "execution_count": 65,
     "metadata": {},
     "output_type": "execute_result"
    }
   ],
   "source": [
    "def batch_pixel_error(batch):\n",
    "    x, y = batch\n",
    "    rope_image = x['rope_image']\n",
    "    res = x['sdf_resolution']\n",
    "    p1 = np.argwhere(rope_image[:, :, :, 0] > 0)[:, 1:]\n",
    "    p2 = np.argwhere(rope_image[:, :, :, 1] > 0)[:, 1:]\n",
    "    p3 = np.argwhere(rope_image[:, :, :, 2] > 0)[:, 1:]\n",
    "\n",
    "    d12 = np.linalg.norm((p2 - p1) * res, axis=1)\n",
    "    d23 = np.linalg.norm((p3 - p2) * res, axis=1)\n",
    "\n",
    "    d = d12 + d23\n",
    "    pred_y = (d > 1.25).astype(np.int)\n",
    "    true_y = y['all_output'][:, 1].astype(np.int)\n",
    "    errors = np.count_nonzero(pred_y - true_y > 0)\n",
    "    return errors\n",
    "          \n",
    "batch_pixel_error(generator[0])"
   ]
  },
  {
   "cell_type": "code",
   "execution_count": null,
   "metadata": {},
   "outputs": [],
   "source": [
    "errors = 0\n",
    "for i in range(len(generator)):\n",
    "    batch = generator[i]\n",
    "    errors += batch_pixel_error(batch)\n",
    "    print(i, errors)\n",
    "print(\"Total Errors Due To Pixel Discretization: {}\".format(errors))"
   ]
  },
  {
   "cell_type": "code",
   "execution_count": null,
   "metadata": {},
   "outputs": [],
   "source": []
  }
 ],
 "metadata": {
  "kernelspec": {
   "display_name": "Python 3",
   "language": "python",
   "name": "python3"
  },
  "language_info": {
   "codemirror_mode": {
    "name": "ipython",
    "version": 3
   },
   "file_extension": ".py",
   "mimetype": "text/x-python",
   "name": "python",
   "nbconvert_exporter": "python",
   "pygments_lexer": "ipython3",
   "version": "3.7.3"
  }
 },
 "nbformat": 4,
 "nbformat_minor": 2
}
