{
 "cells": [
  {
   "cell_type": "code",
   "execution_count": 1,
   "metadata": {
    "pycharm": {
     "is_executing": true,
     "name": "#%%\n"
    }
   },
   "outputs": [
    {
     "name": "stdout",
     "output_type": "stream",
     "text": [
      "\r"
     ]
    }
   ],
   "source": [
    "import pathlib\n",
    "\n",
    "import matplotlib.pyplot as plt\n",
    "import tabulate\n",
    "\n",
    "from analysis.analyze_results import load_table_specs, reduce_planning_metrics, load_planning_results\n",
    "from analysis.results_utils import get_all_results_subdirs\n",
    "from moonshine.gpu_config import limit_gpu_mem"
   ]
  },
  {
   "cell_type": "markdown",
   "metadata": {
    "pycharm": {
     "name": "#%% md\n"
    }
   },
   "source": [
    "How can we make the car3 classifier do worse? How does SOE, timeout, recovery, etc... affect it's performance? Is it really just better than the others?"
   ]
  },
  {
   "cell_type": "code",
   "execution_count": null,
   "metadata": {},
   "outputs": [],
   "source": [
    "limit_gpu_mem(0.1)"
   ]
  },
  {
   "cell_type": "code",
   "execution_count": 3,
   "metadata": {
    "pycharm": {
     "is_executing": true,
     "name": "#%%\n"
    }
   },
   "outputs": [
    {
     "name": "stderr",
     "output_type": "stream",
     "text": [
      "results dirs: 100%|██████████████████████████████████████████████████████████████████████████████████████████████████████████████████████████████████████████████████████████████| 132/132 [00:02<00:00, 55.93it/s]\n"
     ]
    },
    {
     "name": "stdout",
     "output_type": "stream",
     "text": [
      "\r"
     ]
    }
   ],
   "source": [
    "root = pathlib.Path('/media/shared/planning_results')\n",
    "results_dirs = get_all_results_subdirs(root)\n",
    "df = load_planning_results(results_dirs, regenerate=False)"
   ]
  },
  {
   "cell_type": "code",
   "execution_count": 20,
   "metadata": {
    "pycharm": {
     "name": "#%%\n"
    }
   },
   "outputs": [
    {
     "data": {
      "text/html": [
       "<div>\n",
       "<style scoped>\n",
       "    .dataframe tbody tr th:only-of-type {\n",
       "        vertical-align: middle;\n",
       "    }\n",
       "\n",
       "    .dataframe tbody tr th {\n",
       "        vertical-align: top;\n",
       "    }\n",
       "\n",
       "    .dataframe thead th {\n",
       "        text-align: right;\n",
       "    }\n",
       "</style>\n",
       "<table border=\"1\" class=\"dataframe\">\n",
       "  <thead>\n",
       "    <tr style=\"text-align: right;\">\n",
       "      <th></th>\n",
       "      <th>success</th>\n",
       "    </tr>\n",
       "    <tr>\n",
       "      <th>results_folder_name</th>\n",
       "      <th></th>\n",
       "    </tr>\n",
       "  </thead>\n",
       "  <tbody>\n",
       "    <tr>\n",
       "      <th>floating_boxes1_to_car_e3s-planning-evaluation_1625581480_7c048d47b8/no_recovery_small_goals</th>\n",
       "      <td>0.510000</td>\n",
       "    </tr>\n",
       "    <tr>\n",
       "      <th>floating_boxes2_to_car_e3s-planning-evaluation_1625581507_7c048d47b8/no_recovery_small_goals</th>\n",
       "      <td>0.540000</td>\n",
       "    </tr>\n",
       "    <tr>\n",
       "      <th>floating_boxes4_to_car_no_recovery_no_soe_600s-planning-evaluation_1625542268_b25baca802/no_recovery</th>\n",
       "      <td>0.750000</td>\n",
       "    </tr>\n",
       "    <tr>\n",
       "      <th>floating_boxes_to_car_no_recovery3-planning-evaluation_1623517383_832f43ee98/floating_boxes_classifier</th>\n",
       "      <td>0.772727</td>\n",
       "    </tr>\n",
       "    <tr>\n",
       "      <th>floating_boxes_to_car_no_recovery4-planning-evaluation_1623549801_832f43ee98/floating_boxes_classifier</th>\n",
       "      <td>0.803030</td>\n",
       "    </tr>\n",
       "    <tr>\n",
       "      <th>floating_boxes1_to_car_no_recovery_no_soe_600s-planning-evaluation_1625510632_22b0420a29/no_recovery</th>\n",
       "      <td>0.810000</td>\n",
       "    </tr>\n",
       "    <tr>\n",
       "      <th>floating_boxes3_to_car_no_recovery_no_soe_600s-planning-evaluation_1625531043_22b0420a29/no_recovery</th>\n",
       "      <td>0.810000</td>\n",
       "    </tr>\n",
       "    <tr>\n",
       "      <th>floating_boxes_to_car_no_recovery-planning-evaluation_1623337627_1c6589fec6/floating_boxes_classifier</th>\n",
       "      <td>0.833333</td>\n",
       "    </tr>\n",
       "    <tr>\n",
       "      <th>floating_boxes3_to_car_no_recovery_no_soe_600s-planning-evaluation_1625542257_b25baca802/no_recovery</th>\n",
       "      <td>0.840000</td>\n",
       "    </tr>\n",
       "    <tr>\n",
       "      <th>floating_boxes2_to_car_no_recovery_no_soe_600s-planning-evaluation_1625510695_22b0420a29/no_recovery</th>\n",
       "      <td>0.850000</td>\n",
       "    </tr>\n",
       "    <tr>\n",
       "      <th>floating_boxes_to_car_no_stop_on_error-planning-evaluation_1624918866_269ff12e18/no_stop_on_error</th>\n",
       "      <td>0.880000</td>\n",
       "    </tr>\n",
       "    <tr>\n",
       "      <th>floating_boxes_to_car_no_stop_on_error2-planning-evaluation_1624974246_269ff12e18/no_stop_on_error</th>\n",
       "      <td>0.890000</td>\n",
       "    </tr>\n",
       "    <tr>\n",
       "      <th>floating_boxes_to_car_no_recovery2-planning-evaluation_1623453175_95fabb711f/floating_boxes_classifier</th>\n",
       "      <td>0.969697</td>\n",
       "    </tr>\n",
       "  </tbody>\n",
       "</table>\n",
       "</div>"
      ],
      "text/plain": [
       "                                                     success\n",
       "results_folder_name                                         \n",
       "floating_boxes1_to_car_e3s-planning-evaluation_...  0.510000\n",
       "floating_boxes2_to_car_e3s-planning-evaluation_...  0.540000\n",
       "floating_boxes4_to_car_no_recovery_no_soe_600s-...  0.750000\n",
       "floating_boxes_to_car_no_recovery3-planning-eva...  0.772727\n",
       "floating_boxes_to_car_no_recovery4-planning-eva...  0.803030\n",
       "floating_boxes1_to_car_no_recovery_no_soe_600s-...  0.810000\n",
       "floating_boxes3_to_car_no_recovery_no_soe_600s-...  0.810000\n",
       "floating_boxes_to_car_no_recovery-planning-eval...  0.833333\n",
       "floating_boxes3_to_car_no_recovery_no_soe_600s-...  0.840000\n",
       "floating_boxes2_to_car_no_recovery_no_soe_600s-...  0.850000\n",
       "floating_boxes_to_car_no_stop_on_error-planning...  0.880000\n",
       "floating_boxes_to_car_no_stop_on_error2-plannin...  0.890000\n",
       "floating_boxes_to_car_no_recovery2-planning-eva...  0.969697"
      ]
     },
     "execution_count": 20,
     "metadata": {},
     "output_type": "execute_result"
    },
    {
     "name": "stdout",
     "output_type": "stream",
     "text": [
      "\r"
     ]
    }
   ],
   "source": [
    "indices = df['classifier_name'].str.contains('floating_boxes') & df['target_env'].str.contains('swap_straps')\n",
    "df2 = df[indices]\n",
    "df2.groupby(['results_folder_name']).agg({'success':'mean'}).sort_values('success')"
   ]
  },
  {
   "cell_type": "code",
   "execution_count": null,
   "metadata": {},
   "outputs": [],
   "source": []
  }
 ],
 "metadata": {
  "kernelspec": {
   "display_name": "Python 3 (ipykernel)",
   "language": "python",
   "name": "python3"
  },
  "language_info": {
   "codemirror_mode": {
    "name": "ipython",
    "version": 3
   },
   "file_extension": ".py",
   "mimetype": "text/x-python",
   "name": "python",
   "nbconvert_exporter": "python",
   "pygments_lexer": "ipython3",
   "version": "3.8.10"
  }
 },
 "nbformat": 4,
 "nbformat_minor": 1
}
