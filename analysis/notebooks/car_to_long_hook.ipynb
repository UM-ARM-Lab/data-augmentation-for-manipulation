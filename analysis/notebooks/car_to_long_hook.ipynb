{
 "cells": [
  {
   "cell_type": "code",
   "execution_count": null,
   "outputs": [],
   "source": [
    "import pathlib\n",
    "\n",
    "import matplotlib.pyplot as plt\n",
    "import tabulate\n",
    "\n",
    "from analysis.analyze_results import load_table_specs, reduce_planning_metrics, load_planning_results\n",
    "from analysis.results_utils import get_all_results_subdirs\n",
    "import rospy\n",
    "from moonshine.gpu_config import limit_gpu_mem\n",
    "\n",
    "rospy.init_node('car_to_long_hook')\n",
    "\n",
    "limit_gpu_mem(0.1)"
   ],
   "metadata": {
    "collapsed": false,
    "pycharm": {
     "name": "#%%\n",
     "is_executing": true
    }
   }
  },
  {
   "cell_type": "markdown",
   "source": [
    "How can we make the car3 classifier do worse? How does SOE, timeout, recovery, etc... affect it's performance? Is it really just better than the others?"
   ],
   "metadata": {
    "collapsed": false,
    "pycharm": {
     "name": "#%% md\n"
    }
   }
  },
  {
   "cell_type": "code",
   "execution_count": null,
   "outputs": [],
   "source": [
    "root = pathlib.Path('/media/shared/planning_results')\n",
    "results_dirs = get_all_results_subdirs(root)\n",
    "df = load_planning_results(results_dirs, regenerate=False)"
   ],
   "metadata": {
    "collapsed": false,
    "pycharm": {
     "name": "#%%\n",
     "is_executing": true
    }
   }
  },
  {
   "cell_type": "code",
   "execution_count": null,
   "outputs": [],
   "source": [
    "tables_config = pathlib.Path(\"../tables_configs/planning_evaluation.hjson\")\n",
    "table_format = tabulate.simple_separated_format(\"\\t\")\n",
    "table_specs = load_table_specs(tables_config, table_format)\n",
    "\n",
    "for spec in table_specs:\n",
    "    data_for_table = reduce_planning_metrics(spec.reductions, df)\n",
    "    spec.table.make_table(data_for_table)\n",
    "    spec.table.print()\n",
    "    print()\n",
    "    print()"
   ],
   "metadata": {
    "collapsed": false,
    "pycharm": {
     "name": "#%%\n"
    }
   }
  }
 ],
 "metadata": {
  "kernelspec": {
   "display_name": "Python 3",
   "language": "python",
   "name": "python3"
  },
  "language_info": {
   "codemirror_mode": {
    "name": "ipython",
    "version": 2
   },
   "file_extension": ".py",
   "mimetype": "text/x-python",
   "name": "python",
   "nbconvert_exporter": "python",
   "pygments_lexer": "ipython2",
   "version": "2.7.6"
  }
 },
 "nbformat": 4,
 "nbformat_minor": 0
}