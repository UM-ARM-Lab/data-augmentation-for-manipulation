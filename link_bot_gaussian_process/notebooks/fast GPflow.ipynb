{
 "cells": [
  {
   "cell_type": "markdown",
   "metadata": {},
   "source": [
    "# Once trained, extract a faster version of the GP forward mean prediction"
   ]
  },
  {
   "cell_type": "code",
   "execution_count": 8,
   "metadata": {},
   "outputs": [],
   "source": [
    "import numpy as np\n",
    "import matplotlib.pyplot as plt\n",
    "import os\n",
    "from link_bot_gaussian_process import link_bot_gp, data_reformatting\n",
    "from link_bot_pycommon import link_bot_pycommon, link_bot_sdf_utils\n",
    "import scipy\n",
    "from link_bot_data.multi_environment_datasets import MultiEnvironmentDataset\n",
    "import tensorflow as tf\n",
    "from IPython.display import HTML\n",
    "import warnings\n",
    "from matplotlib import animation\n",
    "import gpflow as gpf\n",
    "import h5py\n",
    "\n",
    "tf.logging.set_verbosity(tf.logging.ERROR)\n",
    "np.set_printoptions(suppress=True, precision=4, linewidth=200)\n",
    "plt.style.use(\"slides\")\n",
    "plt.style.use(\"slides\")\n",
    "\n",
    "class HackObject:\n",
    "    pass\n",
    "    \n",
    "args = HackObject()\n",
    "args.mask_label_type = HackObject()\n",
    "args.mask_label_type.name = \"Combined\"\n",
    "\n",
    "Writer = animation.writers['ffmpeg']\n",
    "writer = Writer(fps=30, metadata=dict(artist='Me'), bitrate=1800)"
   ]
  },
  {
   "cell_type": "code",
   "execution_count": 2,
   "metadata": {},
   "outputs": [
    {
     "name": "stdout",
     "output_type": "stream",
     "text": [
      "\u001b[33mWARNING: sdf npz file does not specify its origin, assume origin [550 550]\u001b[39m\n"
     ]
    }
   ],
   "source": [
    "sdf, _, _, _ = link_bot_sdf_utils.load_sdf(\"/home/pmitrano/catkin_ws/src/link_bot/link_bot_data/data/sdfs/empty_sdf.npz\")\n",
    "extent = [-5, 5, -5, 5]"
   ]
  },
  {
   "cell_type": "code",
   "execution_count": 3,
   "metadata": {},
   "outputs": [
    {
     "name": "stdout",
     "output_type": "stream",
     "text": [
      "\u001b[36mLoading model from /home/pmitrano/catkin_ws/src/link_bot/link_bot_gaussian_process/log_data/separate_independent/July_15_17-01-05__7603552a12__gpf/fwd_model\u001b[39m\n",
      "\u001b[36mLoading model from /home/pmitrano/catkin_ws/src/link_bot/link_bot_gaussian_process/log_data/separate_independent/July_15_17-01-05__7603552a12__gpf/inv_model\u001b[39m\n"
     ]
    }
   ],
   "source": [
    "gp_model_dir = '/home/pmitrano/catkin_ws/src/link_bot/link_bot_gaussian_process/log_data/separate_independent/July_15_17-01-05__7603552a12__gpf/'\n",
    "\n",
    "# gpf.reset_default_graph_and_session()\n",
    "# gpf.reset_default_session()\n",
    "config = tf.ConfigProto(gpu_options=tf.GPUOptions(allow_growth=False, per_process_gpu_memory_fraction=0.1))\n",
    "gpf.reset_default_graph_and_session(config=config)\n",
    "sess = gpf.get_default_session()\n",
    "\n",
    "with warnings.catch_warnings():\n",
    "    warnings.filterwarnings(\"ignore\", category=h5py.h5py_warnings.H5pyDeprecationWarning)\n",
    "    fwd_gp_model = link_bot_gp.LinkBotGP()\n",
    "    fwd_gp_model.load(os.path.join(gp_model_dir, 'fwd_model'))\n",
    "    \n",
    "    inv_gp_model = link_bot_gp.LinkBotGP()\n",
    "    inv_gp_model.load(os.path.join(gp_model_dir, 'inv_model'))"
   ]
  },
  {
   "cell_type": "code",
   "execution_count": 4,
   "metadata": {},
   "outputs": [],
   "source": [
    "X = fwd_gp_model.model.X._value\n",
    "Y = fwd_gp_model.model.X._value\n",
    "s = np.array([[0.5, 0.5, 0.5, 0, 0, 0]])\n",
    "u = np.array([[0.2, 0.2]])\n",
    "s_relative = data_reformatting.make_relative_to_head(s)\n",
    "Xnew = np.hstack((s_relative, u))"
   ]
  },
  {
   "cell_type": "code",
   "execution_count": 5,
   "metadata": {},
   "outputs": [
    {
     "name": "stdout",
     "output_type": "stream",
     "text": [
      "[[0.0069 0.0056 0.0165 0.0014 0.0177 0.019 ]]\n"
     ]
    }
   ],
   "source": [
    "delta_mu, _ = fwd_gp_model.model.predict_y(Xnew)\n",
    "print(delta_mu)"
   ]
  },
  {
   "cell_type": "code",
   "execution_count": 30,
   "metadata": {},
   "outputs": [],
   "source": [
    "num_inducing = len(fwd_gp_model.model.feature)\n",
    "mean_X = sess.run(fwd_gp_model.model.mean_function(fwd_gp_model.model.X._value))\n",
    "err = fwd_gp_model.model.Y._value - mean_X\n",
    "Kuf = sess.run(fwd_gp_model.model.feature.Kuf(fwd_gp_model.model.kern, fwd_gp_model.model.X._value))\n",
    "Kuu = sess.run(fwd_gp_model.model.feature.Kuu(fwd_gp_model.model.kern))\n",
    "sigma = np.sqrt(fwd_gp_model.model.likelihood.variance._value)\n",
    "L = np.linalg.cholesky(Kuu)\n",
    "LB = np.ndarray((6, num_inducing, num_inducing))\n",
    "c = np.ndarray((6, num_inducing))\n",
    "\n",
    "Kus = sess.run(fwd_gp_model.model.feature.Kuf(fwd_gp_model.model.kern, Xnew))\n",
    "for i in range(6):\n",
    "    L_i = L[i]\n",
    "    Kuf_i = Kuf[i]\n",
    "    sigma_i = sigma[i]\n",
    "    err_i = err[:, i]\n",
    "    A_i = scipy.linalg.solve_triangular(L_i, Kuf_i, lower=True) / sigma_i\n",
    "    B_i = np.matmul(A_i, A_i.T) + np.eye(num_inducing)\n",
    "    LB_i = np.linalg.cholesky(B_i)\n",
    "    LB[i] = LB_i\n",
    "    Aerr_i = np.matmul(A_i, err_i)\n",
    "    c_i = scipy.linalg.solve_triangular(LB_i, Aerr_i, lower=True) / sigma_i\n",
    "    c[i] = c_i"
   ]
  },
  {
   "cell_type": "code",
   "execution_count": 33,
   "metadata": {},
   "outputs": [
    {
     "name": "stdout",
     "output_type": "stream",
     "text": [
      "858 ms ± 13.2 ms per loop (mean ± std. dev. of 7 runs, 1 loop each)\n"
     ]
    }
   ],
   "source": [
    "%%timeit\n",
    "Kus = sess.run(fwd_gp_model.model.feature.Kuf(fwd_gp_model.model.kern, Xnew))\n",
    "for i in range(6):\n",
    "    L_i = L[i]\n",
    "    LB_i = LB[i]\n",
    "    Kus_i = Kus[i]\n",
    "    c_i = c[i]\n",
    "    tmp1_i = scipy.linalg.solve_triangular(L_i, Kus_i, lower=True)\n",
    "    tmp2_i = scipy.linalg.solve_triangular(LB_i, tmp1_i, lower=True)\n",
    "    mean[i] = np.matmul(tmp2_i.T, c_i)\n",
    "# print(mean)"
   ]
  },
  {
   "cell_type": "code",
   "execution_count": null,
   "metadata": {},
   "outputs": [],
   "source": [
    "Knm = fwd_gp_model.model.kern.compute_K(x_star, X_inducing_points)\n",
    "Kmm = fwd_gp_model.model.kern.compute_K_symm(X_inducing_points)\n",
    "Knn = fwd_gp_model.model.kern.compute_K_symm(x_star)\n",
    "Kmn = Knm.T\n",
    "Kmm_inv = np.linalg.lstsq(Kmm, np.eye(N), rcond=1)[0]\n",
    "f = Y_inducing_points\n",
    "f_star_mean = Knm@Kmm_inv@f\n",
    "print(f_star_mean)\n",
    "f_star_sigma = Knn - Knm@Kmm_inv@Kmn\n",
    "print(f_star_sigma)"
   ]
  },
  {
   "cell_type": "code",
   "execution_count": null,
   "metadata": {},
   "outputs": [],
   "source": []
  },
  {
   "cell_type": "code",
   "execution_count": null,
   "metadata": {},
   "outputs": [],
   "source": [
    "initial_config = np.array([[0.5, 0.5, 0.5, 0, 0, 0]])\n",
    "steps = 150\n",
    "vx = -0.3\n",
    "vy = 0.3\n",
    "controls =  np.tile([vx,vy], [steps, 1])\n",
    "durations = np.ones(steps, dtype=np.int)\n",
    "prediction, variances = link_bot_gp.predict(fwd_gp_model, initial_config, controls, durations)\n",
    "anim = link_bot_gp.animate_predict(prediction, sdf, arena_size=5, linewidth=2)\n",
    "plt.close()\n",
    "HTML(anim.to_jshtml())"
   ]
  },
  {
   "cell_type": "code",
   "execution_count": null,
   "metadata": {},
   "outputs": [],
   "source": [
    "# anim.save('new_gp_prediction.mp4', writer=writer)"
   ]
  },
  {
   "cell_type": "code",
   "execution_count": null,
   "metadata": {},
   "outputs": [],
   "source": [
    "plt.figure()\n",
    "plt.plot(variances[:, 0], label='dx1')\n",
    "plt.plot(variances[:, 1], label='dy1')\n",
    "plt.plot(variances[:, 2], label='dx2')\n",
    "plt.plot(variances[:, 3], label='dy2')\n",
    "plt.plot(variances[:, 4], label='dx3')\n",
    "plt.plot(variances[:, 5], label='dy3')\n",
    "plt.plot(np.linalg.norm(controls * 1e-4, axis=1), color='k')\n",
    "plt.xlabel(\"time\")\n",
    "plt.ylabel(\"variance\")\n",
    "plt.legend();"
   ]
  },
  {
   "cell_type": "code",
   "execution_count": null,
   "metadata": {},
   "outputs": [],
   "source": [
    "inv_gp_model.initialize_rng(1, 100)"
   ]
  },
  {
   "cell_type": "code",
   "execution_count": null,
   "metadata": {},
   "outputs": [],
   "source": [
    "test_dataset = MultiEnvironmentDataset.load_dataset(\"./data/gz_test_231723146d_50_100/dataset.json\")\n",
    "env = test_dataset.environments[0]\n",
    "rope_configurations = env.rope_data['rope_configurations']"
   ]
  },
  {
   "cell_type": "code",
   "execution_count": null,
   "metadata": {},
   "outputs": [],
   "source": [
    "print(rope_configurations[0])\n",
    "print(rope_configurations[10])"
   ]
  },
  {
   "cell_type": "code",
   "execution_count": null,
   "metadata": {},
   "outputs": [],
   "source": [
    "s = np.expand_dims(rope_configurations[0], axis=0)\n",
    "s_target = np.expand_dims(rope_configurations[24], axis=0)\n",
    "s = np.array([[2, -1, 2.5, -1, 2.5, -1.5]])\n",
    "s_target = np.array([[0, 0, 0.5, 0, .5, 0.5]])\n",
    "s = np.expand_dims(link_bot_pycommon.make_random_rope_configuration(extent), axis=0)\n",
    "s_target = np.expand_dims(link_bot_pycommon.make_random_rope_configuration(extent), axis=0)\n",
    "u, _ = inv_gp_model.inv_act(s, s_target)\n",
    "plt.plot([s[0, 0], s[0, 2], s[0, 4]], [s[0,1], s[0,3], s[0,5]], c='r')\n",
    "plt.plot([s_target[0, 0], s_target[0, 2], s_target[0, 4]], [s_target[0,1], s_target[0,3], s_target[0,5]])\n",
    "plt.scatter([s[0, 4], s_target[0,4]], [s[0,5], s_target[0,5]], c='k')\n",
    "plt.quiver(s[0,4], s[0,5], u[0,0], u[0,1])\n",
    "plt.axis(\"equal\");"
   ]
  },
  {
   "cell_type": "code",
   "execution_count": null,
   "metadata": {},
   "outputs": [],
   "source": [
    "156038/14380"
   ]
  },
  {
   "cell_type": "code",
   "execution_count": null,
   "metadata": {},
   "outputs": [],
   "source": [
    "21972/14401"
   ]
  },
  {
   "cell_type": "code",
   "execution_count": null,
   "metadata": {},
   "outputs": [],
   "source": []
  }
 ],
 "metadata": {
  "kernelspec": {
   "display_name": "Python 3",
   "language": "python",
   "name": "python3"
  },
  "language_info": {
   "codemirror_mode": {
    "name": "ipython",
    "version": 3
   },
   "file_extension": ".py",
   "mimetype": "text/x-python",
   "name": "python",
   "nbconvert_exporter": "python",
   "pygments_lexer": "ipython3",
   "version": "3.7.3"
  }
 },
 "nbformat": 4,
 "nbformat_minor": 2
}
