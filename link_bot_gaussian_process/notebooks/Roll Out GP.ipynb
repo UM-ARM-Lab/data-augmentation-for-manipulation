{
 "cells": [
  {
   "cell_type": "markdown",
   "metadata": {},
   "source": [
    "# test roll out predictions with GP"
   ]
  },
  {
   "cell_type": "code",
   "execution_count": 40,
   "metadata": {},
   "outputs": [],
   "source": [
    "import numpy as np\n",
    "import matplotlib.pyplot as plt\n",
    "import os\n",
    "from link_bot_gaussian_process import link_bot_gp, data_reformatting\n",
    "from link_bot_pycommon import link_bot_pycommon, link_bot_sdf_utils\n",
    "from link_bot_data.multi_environment_datasets import MultiEnvironmentDataset\n",
    "import tensorflow as tf\n",
    "from IPython.display import HTML\n",
    "import warnings\n",
    "from matplotlib import animation\n",
    "import gpflow as gpf\n",
    "import h5py\n",
    "\n",
    "tf.logging.set_verbosity(tf.logging.ERROR)\n",
    "np.set_printoptions(suppress=True, precision=4, linewidth=200)\n",
    "plt.style.use(\"slides\")\n",
    "plt.style.use(\"slides\")\n",
    "\n",
    "class HackObject:\n",
    "    pass\n",
    "    \n",
    "args = HackObject()\n",
    "args.mask_label_type = HackObject()\n",
    "args.mask_label_type.name = \"Combined\"\n",
    "\n",
    "Writer = animation.writers['ffmpeg']\n",
    "writer = Writer(fps=30, metadata=dict(artist='Me'), bitrate=1800)"
   ]
  },
  {
   "cell_type": "code",
   "execution_count": 38,
   "metadata": {},
   "outputs": [
    {
     "name": "stdout",
     "output_type": "stream",
     "text": [
      "\u001b[33mWARNING: sdf npz file does not specify its origin, assume origin [550 550]\u001b[39m\n"
     ]
    }
   ],
   "source": [
    "sdf, _, _, _ = link_bot_sdf_utils.load_sdf(\"/home/pmitrano/catkin_ws/src/link_bot/link_bot_data/data/sdfs/empty_sdf.npz\")\n",
    "extent = [-5, 5, -5, 5]"
   ]
  },
  {
   "cell_type": "code",
   "execution_count": 3,
   "metadata": {},
   "outputs": [
    {
     "name": "stdout",
     "output_type": "stream",
     "text": [
      "\u001b[36mLoading model from /home/pmitrano/catkin_ws/src/link_bot/link_bot_gaussian_process/log_data/separate_independent/July_15_17-01-05__7603552a12__gpf/fwd_model\u001b[39m\n",
      "\u001b[36mLoading model from /home/pmitrano/catkin_ws/src/link_bot/link_bot_gaussian_process/log_data/separate_independent/July_15_17-01-05__7603552a12__gpf/inv_model\u001b[39m\n"
     ]
    }
   ],
   "source": [
    "gp_model_dir = '/home/pmitrano/catkin_ws/src/link_bot/link_bot_gaussian_process/log_data/separate_independent/July_15_17-01-05__7603552a12__gpf/'\n",
    "\n",
    "# gpf.reset_default_graph_and_session()\n",
    "# gpf.reset_default_session()\n",
    "config = tf.ConfigProto(gpu_options=tf.GPUOptions(allow_growth=False, per_process_gpu_memory_fraction=0.1))\n",
    "gpf.reset_default_graph_and_session(config=config)\n",
    "\n",
    "with warnings.catch_warnings():\n",
    "    warnings.filterwarnings(\"ignore\", category=h5py.h5py_warnings.H5pyDeprecationWarning)\n",
    "    fwd_gp_model = link_bot_gp.LinkBotGP()\n",
    "    fwd_gp_model.load(os.path.join(gp_model_dir, 'fwd_model'))\n",
    "    \n",
    "    inv_gp_model = link_bot_gp.LinkBotGP()\n",
    "    inv_gp_model.load(os.path.join(gp_model_dir, 'inv_model'))"
   ]
  },
  {
   "cell_type": "code",
   "execution_count": null,
   "metadata": {},
   "outputs": [],
   "source": [
    "initial_config = np.array([[0.5, 0.5, 0.5, 0, 0, 0]])\n",
    "steps = 150\n",
    "vx = -0.3\n",
    "vy = 0.3\n",
    "controls =  np.tile([vx,vy], [steps, 1])\n",
    "durations = np.ones(steps, dtype=np.int)\n",
    "prediction, variances = link_bot_gp.predict(fwd_gp_model, initial_config, controls, durations)\n",
    "anim = link_bot_gp.animate_predict(prediction, sdf, arena_size=5, linewidth=2)\n",
    "plt.close()\n",
    "HTML(anim.to_jshtml())"
   ]
  },
  {
   "cell_type": "code",
   "execution_count": null,
   "metadata": {},
   "outputs": [],
   "source": [
    "# anim.save('new_gp_prediction.mp4', writer=writer)"
   ]
  },
  {
   "cell_type": "code",
   "execution_count": null,
   "metadata": {},
   "outputs": [],
   "source": [
    "plt.figure()\n",
    "plt.plot(variances[:, 0], label='dx1')\n",
    "plt.plot(variances[:, 1], label='dy1')\n",
    "plt.plot(variances[:, 2], label='dx2')\n",
    "plt.plot(variances[:, 3], label='dy2')\n",
    "plt.plot(variances[:, 4], label='dx3')\n",
    "plt.plot(variances[:, 5], label='dy3')\n",
    "plt.plot(np.linalg.norm(controls * 1e-4, axis=1), color='k')\n",
    "plt.xlabel(\"time\")\n",
    "plt.ylabel(\"variance\")\n",
    "plt.legend();"
   ]
  },
  {
   "cell_type": "code",
   "execution_count": 4,
   "metadata": {},
   "outputs": [],
   "source": [
    "inv_gp_model.initialize_rng(1, 100)"
   ]
  },
  {
   "cell_type": "code",
   "execution_count": 17,
   "metadata": {},
   "outputs": [],
   "source": [
    "test_dataset = MultiEnvironmentDataset.load_dataset(\"./data/gz_test_231723146d_50_100/dataset.json\")\n",
    "env = test_dataset.environments[0]\n",
    "rope_configurations = env.rope_data['rope_configurations']"
   ]
  },
  {
   "cell_type": "code",
   "execution_count": 19,
   "metadata": {},
   "outputs": [
    {
     "name": "stdout",
     "output_type": "stream",
     "text": [
      "[ 0.5959 -0.3144  1.0759 -0.313   1.5552 -0.2875]\n",
      "[ 0.4017 -0.3722  0.8779 -0.3121  1.275  -0.0424]\n"
     ]
    }
   ],
   "source": [
    "print(rope_configurations[0])\n",
    "print(rope_configurations[10])"
   ]
  },
  {
   "cell_type": "code",
   "execution_count": 62,
   "metadata": {},
   "outputs": [
    {
     "data": {
      "image/png": "[encoded data removed]",
      "text/plain": [
       "<Figure size 432x288 with 1 Axes>"
      ]
     },
     "metadata": {},
     "output_type": "display_data"
    }
   ],
   "source": [
    "s = np.expand_dims(rope_configurations[0], axis=0)\n",
    "s_target = np.expand_dims(rope_configurations[24], axis=0)\n",
    "s = np.array([[2, -1, 2.5, -1, 2.5, -1.5]])\n",
    "s_target = np.array([[0, 0, 0.5, 0, .5, 0.5]])\n",
    "s = np.expand_dims(link_bot_pycommon.make_random_rope_configuration(extent), axis=0)\n",
    "s_target = np.expand_dims(link_bot_pycommon.make_random_rope_configuration(extent), axis=0)\n",
    "u, _ = inv_gp_model.inv_act(s, s_target)\n",
    "plt.plot([s[0, 0], s[0, 2], s[0, 4]], [s[0,1], s[0,3], s[0,5]], c='r')\n",
    "plt.plot([s_target[0, 0], s_target[0, 2], s_target[0, 4]], [s_target[0,1], s_target[0,3], s_target[0,5]])\n",
    "plt.scatter([s[0, 4], s_target[0,4]], [s[0,5], s_target[0,5]], c='k')\n",
    "plt.quiver(s[0,4], s[0,5], u[0,0], u[0,1])\n",
    "plt.axis(\"equal\");"
   ]
  },
  {
   "cell_type": "code",
   "execution_count": null,
   "metadata": {},
   "outputs": [],
   "source": []
  },
  {
   "cell_type": "code",
   "execution_count": null,
   "metadata": {},
   "outputs": [],
   "source": []
  }
 ],
 "metadata": {
  "kernelspec": {
   "display_name": "Python 3",
   "language": "python",
   "name": "python3"
  },
  "language_info": {
   "codemirror_mode": {
    "name": "ipython",
    "version": 3
   },
   "file_extension": ".py",
   "mimetype": "text/x-python",
   "name": "python",
   "nbconvert_exporter": "python",
   "pygments_lexer": "ipython3",
   "version": "3.7.3"
  }
 },
 "nbformat": 4,
 "nbformat_minor": 2
}
