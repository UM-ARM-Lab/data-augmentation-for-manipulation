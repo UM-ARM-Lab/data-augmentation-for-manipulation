{
 "cells": [
  {
   "cell_type": "markdown",
   "metadata": {},
   "source": [
    "# test roll out predictions with GP"
   ]
  },
  {
   "cell_type": "code",
   "execution_count": 25,
   "metadata": {},
   "outputs": [],
   "source": [
    "import numpy as np\n",
    "import matplotlib.pyplot as plt\n",
    "import os\n",
    "from link_bot_gaussian_process import link_bot_gp, data_reformatting\n",
    "from link_bot_notebooks import toy_problem_optimization_common as tpoc\n",
    "import tensorflow as tf\n",
    "from IPython.display import HTML\n",
    "import warnings\n",
    "import gpflow as gpf\n",
    "import h5py\n",
    "\n",
    "tf.logging.set_verbosity(tf.logging.ERROR)\n",
    "np.set_printoptions(suppress=True, precision=4, linewidth=200)"
   ]
  },
  {
   "cell_type": "code",
   "execution_count": 27,
   "metadata": {},
   "outputs": [],
   "source": [
    "sdf, _, _, _ = tpoc.load_sdf(\"/home/pmitrano/catkin_ws/src/link_bot/link_bot_teleop/data/obstacles_1_sdf.npz\")"
   ]
  },
  {
   "cell_type": "code",
   "execution_count": 5,
   "metadata": {},
   "outputs": [
    {
     "name": "stdout",
     "output_type": "stream",
     "text": [
      "\u001b[36mLoading model from /home/pmitrano/catkin_ws/src/link_bot/link_bot_gaussian_process/log_data/separate_independent/May_31_18-01-04__bf505bde20__gpf/fwd_model\u001b[39m\n",
      "\u001b[36mLoading model from /home/pmitrano/catkin_ws/src/link_bot/link_bot_gaussian_process/log_data/separate_independent/May_31_18-01-04__bf505bde20__gpf/inv_model\u001b[39m\n"
     ]
    }
   ],
   "source": [
    "gp_model_dir = '/home/pmitrano/catkin_ws/src/link_bot/link_bot_gaussian_process/log_data/separate_independent/May_31_18-01-04__bf505bde20__gpf'\n",
    "\n",
    "gpf.reset_default_graph_and_session()\n",
    "config = tf.ConfigProto(gpu_options=tf.GPUOptions(allow_growth=False, per_process_gpu_memory_fraction=0.01))\n",
    "gpf.reset_default_session(config=config)\n",
    "\n",
    "with warnings.catch_warnings():\n",
    "    warnings.filterwarnings(\"ignore\", category=h5py.h5py_warnings.H5pyDeprecationWarning)\n",
    "    fwd_gp_model = link_bot_gp.LinkBotGP()\n",
    "    fwd_gp_model.load(os.path.join(gp_model_dir, 'fwd_model'))\n",
    "    \n",
    "    inv_gp_model = link_bot_gp.LinkBotGP()\n",
    "    inv_gp_model.load(os.path.join(gp_model_dir, 'inv_model'))"
   ]
  },
  {
   "cell_type": "code",
   "execution_count": null,
   "metadata": {},
   "outputs": [],
   "source": [
    "initial_config = np.array([[-2, 0, -1, 0, 0, 0]])\n",
    "steps = 500\n",
    "controls =  np.tile([1,0], [steps, 1])\n",
    "durations = np.ones(steps, dtype=np.int)\n",
    "prediction = link_bot_gp.predict(fwd_gp_model, initial_config, controls, durations)\n",
    "anim = link_bot_gp.animate_predict(prediction, sdf, arena_size=20)\n",
    "plt.close()\n",
    "HTML(anim.to_jshtml())"
   ]
  },
  {
   "cell_type": "code",
   "execution_count": null,
   "metadata": {},
   "outputs": [],
   "source": []
  }
 ],
 "metadata": {
  "kernelspec": {
   "display_name": "Python 3",
   "language": "python",
   "name": "python3"
  },
  "language_info": {
   "codemirror_mode": {
    "name": "ipython",
    "version": 3
   },
   "file_extension": ".py",
   "mimetype": "text/x-python",
   "name": "python",
   "nbconvert_exporter": "python",
   "pygments_lexer": "ipython3",
   "version": "3.7.3"
  }
 },
 "nbformat": 4,
 "nbformat_minor": 2
}
