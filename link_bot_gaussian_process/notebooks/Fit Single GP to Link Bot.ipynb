{
 "cells": [
  {
   "cell_type": "code",
   "execution_count": 291,
   "metadata": {},
   "outputs": [],
   "source": [
    "import gpflow as gpf\n",
    "import numpy as np\n",
    "import gpflow.multioutput.kernels as mk\n",
    "import gpflow.multioutput.features as mf\n",
    "import matplotlib.pyplot as plt\n",
    "import tensorflow as tf\n",
    "from IPython.display import display, Markdown, Latex\n",
    "tf.logging.set_verbosity(tf.logging.FATAL)\n",
    "np.set_printoptions(linewidth=100, suppress=True, precision=4)\n",
    "plt.style.use(\"slides\")"
   ]
  },
  {
   "cell_type": "code",
   "execution_count": 182,
   "metadata": {},
   "outputs": [],
   "source": [
    "def reformat_data(data, traj_idx_start=0, traj_idx_end=-1, take_every=1):\n",
    "    states = data['states'][traj_idx_start:traj_idx_end]\n",
    "    actions = data['actions'][traj_idx_start:traj_idx_end]\n",
    "    state_dim = states.shape[2]\n",
    "    action_dim = actions.shape[2]\n",
    "    s = states[:, :-take_every, :].reshape(-1, state_dim)\n",
    "    s_next = states[:, take_every:, :].reshape(-1, state_dim)\n",
    "    if take_every == 1:\n",
    "        u = actions[:, :, :].reshape(-1, action_dim)\n",
    "    else:\n",
    "        u = actions[:, :-(take_every-1), :].reshape(-1, action_dim)\n",
    "    combined_x = np.concatenate((s, u), axis=1)\n",
    "    # make data more zero centered by making things relative to the head\n",
    "    combined_x[:, 0] -= combined_x[:, 4]\n",
    "    combined_x[:, 2] -= combined_x[:, 4]\n",
    "    combined_x[:, 4] -= combined_x[:, 4]\n",
    "    combined_x[:, 1] -= combined_x[:, 5]\n",
    "    combined_x[:, 3] -= combined_x[:, 5]\n",
    "    combined_x[:, 5] -= combined_x[:, 5]\n",
    "    x = s\n",
    "    # predict the delta only\n",
    "    y = s_next - s\n",
    "    return x, y, u, combined_x"
   ]
  },
  {
   "cell_type": "code",
   "execution_count": 297,
   "metadata": {},
   "outputs": [],
   "source": [
    "data = np.load(\"240_50_random4.npz\")\n",
    "train_x, train_y, train_u, combined_train_x = reformat_data(data, traj_idx_start=0, traj_idx_end=20, take_every=1)\n",
    "test_x, test_y, test_u, combined_test_x = reformat_data(data, traj_idx_start=20, traj_idx_end=25, take_every=1)"
   ]
  },
  {
   "cell_type": "code",
   "execution_count": 298,
   "metadata": {},
   "outputs": [
    {
     "data": {
      "image/png": "[encoded data removed]",
      "text/plain": [
       "<Figure size 360x360 with 1 Axes>"
      ]
     },
     "metadata": {},
     "output_type": "display_data"
    }
   ],
   "source": [
    "example_idx = 0\n",
    "plt.figure(figsize=(5,5))\n",
    "train_x_i = train_x[example_idx]\n",
    "train_y_i = train_x_i + train_y[example_idx]\n",
    "train_u_i = train_u[example_idx]\n",
    "example_xs = [train_x_i[0], train_x_i[2], train_x_i[4]]\n",
    "example_ys = [train_x_i[1], train_x_i[3], train_x_i[5]]\n",
    "example_xs_next = [train_y_i[0], train_y_i[2], train_y_i[4]]\n",
    "example_ys_next = [train_y_i[1], train_y_i[3], train_y_i[5]]\n",
    "\n",
    "plt.plot(example_xs, example_ys, label='before')\n",
    "plt.plot(example_xs_next, example_ys_next, label='after')\n",
    "plt.quiver(train_x_i[4], train_x_i[5], train_u_i[0], train_u_i[1], label='u')\n",
    "\n",
    "plt.axis(\"equal\")\n",
    "plt.xlabel(\"x (m)\")\n",
    "plt.ylabel(\"y (m)\")\n",
    "plt.legend(bbox_to_anchor=(1,1))\n",
    "plt.show()"
   ]
  },
  {
   "cell_type": "markdown",
   "metadata": {},
   "source": [
    "### Train one multi-output GP"
   ]
  },
  {
   "cell_type": "code",
   "execution_count": 286,
   "metadata": {},
   "outputs": [
    {
     "name": "stderr",
     "output_type": "stream",
     "text": [
      "WARNING:gpflow.logdensities:Shape of x must be 2D at computation.\n"
     ]
    },
    {
     "data": {
      "text/html": [
       "<div>\n",
       "<style scoped>\n",
       "    .dataframe tbody tr th:only-of-type {\n",
       "        vertical-align: middle;\n",
       "    }\n",
       "\n",
       "    .dataframe tbody tr th {\n",
       "        vertical-align: top;\n",
       "    }\n",
       "\n",
       "    .dataframe thead th {\n",
       "        text-align: right;\n",
       "    }\n",
       "</style>\n",
       "<table border=\"1\" class=\"dataframe\">\n",
       "  <thead>\n",
       "    <tr style=\"text-align: right;\">\n",
       "      <th></th>\n",
       "      <th>class</th>\n",
       "      <th>prior</th>\n",
       "      <th>transform</th>\n",
       "      <th>trainable</th>\n",
       "      <th>shape</th>\n",
       "      <th>fixed_shape</th>\n",
       "      <th>value</th>\n",
       "    </tr>\n",
       "  </thead>\n",
       "  <tbody>\n",
       "    <tr>\n",
       "      <th>GPR/kern/lengthscales</th>\n",
       "      <td>Parameter</td>\n",
       "      <td>None</td>\n",
       "      <td>+ve</td>\n",
       "      <td>True</td>\n",
       "      <td>(8,)</td>\n",
       "      <td>True</td>\n",
       "      <td>[1.0, 1.0, 1.0, 1.0, 1.0, 1.0, 1.0, 1.0]</td>\n",
       "    </tr>\n",
       "    <tr>\n",
       "      <th>GPR/kern/variance</th>\n",
       "      <td>Parameter</td>\n",
       "      <td>None</td>\n",
       "      <td>+ve</td>\n",
       "      <td>True</td>\n",
       "      <td>()</td>\n",
       "      <td>True</td>\n",
       "      <td>1.0</td>\n",
       "    </tr>\n",
       "    <tr>\n",
       "      <th>GPR/likelihood/variance</th>\n",
       "      <td>Parameter</td>\n",
       "      <td>None</td>\n",
       "      <td>+ve</td>\n",
       "      <td>True</td>\n",
       "      <td>()</td>\n",
       "      <td>True</td>\n",
       "      <td>1.0</td>\n",
       "    </tr>\n",
       "    <tr>\n",
       "      <th>GPR/mean_function/A</th>\n",
       "      <td>Parameter</td>\n",
       "      <td>None</td>\n",
       "      <td>(none)</td>\n",
       "      <td>True</td>\n",
       "      <td>(8, 6)</td>\n",
       "      <td>True</td>\n",
       "      <td>[[0.0, 0.0, 0.0, 0.0, 0.0, 0.0], [0.0, 0.0, 0....</td>\n",
       "    </tr>\n",
       "    <tr>\n",
       "      <th>GPR/mean_function/b</th>\n",
       "      <td>Parameter</td>\n",
       "      <td>None</td>\n",
       "      <td>(none)</td>\n",
       "      <td>True</td>\n",
       "      <td>(6,)</td>\n",
       "      <td>True</td>\n",
       "      <td>[0.0, 0.0, 0.0, 0.0, 0.0, 0.0]</td>\n",
       "    </tr>\n",
       "  </tbody>\n",
       "</table>\n",
       "</div>"
      ],
      "text/plain": [
       "                             class prior transform  trainable   shape  \\\n",
       "GPR/kern/lengthscales    Parameter  None       +ve       True    (8,)   \n",
       "GPR/kern/variance        Parameter  None       +ve       True      ()   \n",
       "GPR/likelihood/variance  Parameter  None       +ve       True      ()   \n",
       "GPR/mean_function/A      Parameter  None    (none)       True  (8, 6)   \n",
       "GPR/mean_function/b      Parameter  None    (none)       True    (6,)   \n",
       "\n",
       "                         fixed_shape  \\\n",
       "GPR/kern/lengthscales           True   \n",
       "GPR/kern/variance               True   \n",
       "GPR/likelihood/variance         True   \n",
       "GPR/mean_function/A             True   \n",
       "GPR/mean_function/b             True   \n",
       "\n",
       "                                                                     value  \n",
       "GPR/kern/lengthscales             [1.0, 1.0, 1.0, 1.0, 1.0, 1.0, 1.0, 1.0]  \n",
       "GPR/kern/variance                                                      1.0  \n",
       "GPR/likelihood/variance                                                1.0  \n",
       "GPR/mean_function/A      [[0.0, 0.0, 0.0, 0.0, 0.0, 0.0], [0.0, 0.0, 0....  \n",
       "GPR/mean_function/b                         [0.0, 0.0, 0.0, 0.0, 0.0, 0.0]  "
      ]
     },
     "execution_count": 286,
     "metadata": {},
     "output_type": "execute_result"
    }
   ],
   "source": [
    "gpf.reset_default_graph_and_session()\n",
    "input_dim = 8\n",
    "output_dim = 6\n",
    "k = gpf.kernels.RBF(input_dim, ARD=True)\n",
    "# k = gpf.kernels.Constant(input_dim=4)\n",
    "# mean = None\n",
    "mean = gpf.mean_functions.Linear(np.zeros((input_dim,output_dim)), np.zeros((output_dim)))\n",
    "m = gpf.models.GPR(combined_train_x, train_y, kern=k, mean_function=mean)\n",
    "m.as_pandas_table()"
   ]
  },
  {
   "cell_type": "code",
   "execution_count": null,
   "metadata": {},
   "outputs": [],
   "source": [
    "opt = gpf.train.ScipyOptimizer()\n",
    "opt.minimize(m);"
   ]
  },
  {
   "cell_type": "code",
   "execution_count": 294,
   "metadata": {},
   "outputs": [
    {
     "data": {
      "text/html": [
       "<div>\n",
       "<style scoped>\n",
       "    .dataframe tbody tr th:only-of-type {\n",
       "        vertical-align: middle;\n",
       "    }\n",
       "\n",
       "    .dataframe tbody tr th {\n",
       "        vertical-align: top;\n",
       "    }\n",
       "\n",
       "    .dataframe thead th {\n",
       "        text-align: right;\n",
       "    }\n",
       "</style>\n",
       "<table border=\"1\" class=\"dataframe\">\n",
       "  <thead>\n",
       "    <tr style=\"text-align: right;\">\n",
       "      <th></th>\n",
       "      <th>class</th>\n",
       "      <th>prior</th>\n",
       "      <th>transform</th>\n",
       "      <th>trainable</th>\n",
       "      <th>shape</th>\n",
       "      <th>fixed_shape</th>\n",
       "      <th>value</th>\n",
       "    </tr>\n",
       "  </thead>\n",
       "  <tbody>\n",
       "    <tr>\n",
       "      <th>GPR/kern/lengthscales</th>\n",
       "      <td>Parameter</td>\n",
       "      <td>None</td>\n",
       "      <td>+ve</td>\n",
       "      <td>True</td>\n",
       "      <td>(8,)</td>\n",
       "      <td>True</td>\n",
       "      <td>[0.18961843990194252, 0.25800709190629634, 0.2...</td>\n",
       "    </tr>\n",
       "    <tr>\n",
       "      <th>GPR/kern/variance</th>\n",
       "      <td>Parameter</td>\n",
       "      <td>None</td>\n",
       "      <td>+ve</td>\n",
       "      <td>True</td>\n",
       "      <td>()</td>\n",
       "      <td>True</td>\n",
       "      <td>0.000268608868165912</td>\n",
       "    </tr>\n",
       "    <tr>\n",
       "      <th>GPR/likelihood/variance</th>\n",
       "      <td>Parameter</td>\n",
       "      <td>None</td>\n",
       "      <td>+ve</td>\n",
       "      <td>True</td>\n",
       "      <td>()</td>\n",
       "      <td>True</td>\n",
       "      <td>1.0000037643221872e-06</td>\n",
       "    </tr>\n",
       "    <tr>\n",
       "      <th>GPR/mean_function/A</th>\n",
       "      <td>Parameter</td>\n",
       "      <td>None</td>\n",
       "      <td>(none)</td>\n",
       "      <td>True</td>\n",
       "      <td>(8, 6)</td>\n",
       "      <td>True</td>\n",
       "      <td>[[-0.0057137460111145654, 0.006340294656649899...</td>\n",
       "    </tr>\n",
       "    <tr>\n",
       "      <th>GPR/mean_function/b</th>\n",
       "      <td>Parameter</td>\n",
       "      <td>None</td>\n",
       "      <td>(none)</td>\n",
       "      <td>True</td>\n",
       "      <td>(6,)</td>\n",
       "      <td>True</td>\n",
       "      <td>[-0.00014438307343369152, -0.00062918290470852...</td>\n",
       "    </tr>\n",
       "  </tbody>\n",
       "</table>\n",
       "</div>"
      ],
      "text/plain": [
       "                             class prior transform  trainable   shape  \\\n",
       "GPR/kern/lengthscales    Parameter  None       +ve       True    (8,)   \n",
       "GPR/kern/variance        Parameter  None       +ve       True      ()   \n",
       "GPR/likelihood/variance  Parameter  None       +ve       True      ()   \n",
       "GPR/mean_function/A      Parameter  None    (none)       True  (8, 6)   \n",
       "GPR/mean_function/b      Parameter  None    (none)       True    (6,)   \n",
       "\n",
       "                         fixed_shape  \\\n",
       "GPR/kern/lengthscales           True   \n",
       "GPR/kern/variance               True   \n",
       "GPR/likelihood/variance         True   \n",
       "GPR/mean_function/A             True   \n",
       "GPR/mean_function/b             True   \n",
       "\n",
       "                                                                     value  \n",
       "GPR/kern/lengthscales    [0.18961843990194252, 0.25800709190629634, 0.2...  \n",
       "GPR/kern/variance                                     0.000268608868165912  \n",
       "GPR/likelihood/variance                             1.0000037643221872e-06  \n",
       "GPR/mean_function/A      [[-0.0057137460111145654, 0.006340294656649899...  \n",
       "GPR/mean_function/b      [-0.00014438307343369152, -0.00062918290470852...  "
      ]
     },
     "metadata": {},
     "output_type": "display_data"
    },
    {
     "name": "stdout",
     "output_type": "stream",
     "text": [
      "A= [[-0.0057 -0.0046  0.0041 -0.0008  0.      0.    ]\n",
      " [ 0.0063 -0.0066 -0.0032 -0.0015  0.      0.    ]\n",
      " [-0.0022  0.0051 -0.008  -0.0069  0.      0.    ]\n",
      " [ 0.001  -0.0033  0.0016 -0.0084  0.      0.    ]\n",
      " [ 0.0016  0.0003 -0.0015 -0.      0.      0.    ]\n",
      " [-0.0005  0.0021  0.0004  0.0016  0.      0.    ]]\n",
      "B= [[ 0.028   0.0168]\n",
      " [-0.0009  0.0194]\n",
      " [ 0.0335  0.0061]\n",
      " [-0.0036  0.0406]\n",
      " [ 0.0803 -0.0021]\n",
      " [ 0.0014  0.0848]]\n",
      "C= [-0.0001 -0.0006 -0.0048  0.0015 -0.002   0.0003]\n",
      "C= [0.1896 0.258  0.2403 0.2671 1.     1.     0.0647 1.1033]\n"
     ]
    }
   ],
   "source": [
    "display(m.as_pandas_table())\n",
    "print('A=', m.mean_function.A.value[:-2].T)\n",
    "print('B=', m.mean_function.A.value[-2:].T)\n",
    "print('C=', m.mean_function.b.value)\n",
    "print('C=', m.kern.lengthscales.value)"
   ]
  },
  {
   "cell_type": "code",
   "execution_count": 299,
   "metadata": {},
   "outputs": [],
   "source": [
    "def plot_test(model, example_idx, title='', multistep=1):\n",
    "    test_x_i = test_x[example_idx]\n",
    "    test_y_i = test_x_i + test_y[example_idx]\n",
    "    test_u_i = test_u[example_idx]\n",
    "    \n",
    "    combined_test_x_i = np.expand_dims(combined_test_x[example_idx], axis=0)\n",
    "    for ti in range(multistep):\n",
    "        pred_y_mean_i = combined_test_x_i\n",
    "        pred_y_mean_i, pred_y_std_i = model.predict_f(combined_test_x_i)\n",
    "    pred_y_mean_i = test_x_i + pred_y_mean_i[0]\n",
    "    pred_y_std_i = pred_y_std_i[0]\n",
    "    \n",
    "    example_xs = [test_x_i[0], test_x_i[2], test_x_i[4]]\n",
    "    example_ys = [test_x_i[1], test_x_i[3], test_x_i[5]]\n",
    "    example_xs_next = [test_y_i[0], test_y_i[2], test_y_i[4]]\n",
    "    example_ys_next = [test_y_i[1], test_y_i[3], test_y_i[5]]\n",
    "    pred_xs_mean_next = [pred_y_mean_i[0], pred_y_mean_i[2], pred_y_mean_i[4]]\n",
    "    pred_ys_mean_next = [pred_y_mean_i[1], pred_y_mean_i[3], pred_y_mean_i[5]]\n",
    "    z_value = 2.58\n",
    "    pred_xs_one_std_above_next = [pred_y_mean_i[0], pred_y_mean_i[2], pred_y_mean_i[4]] + z_value * np.array([pred_y_std_i[0], pred_y_std_i[2], pred_y_std_i[4]])\n",
    "    pred_ys_one_std_above_next = [pred_y_mean_i[1], pred_y_mean_i[3], pred_y_mean_i[5]] + z_value * np.array([pred_y_std_i[1], pred_y_std_i[3], pred_y_std_i[5]])\n",
    "    pred_xs_one_std_below_next = [pred_y_mean_i[0], pred_y_mean_i[2], pred_y_mean_i[4]] - z_value * np.array([pred_y_std_i[0], pred_y_std_i[2], pred_y_std_i[4]])\n",
    "    pred_ys_one_std_below_next = [pred_y_mean_i[1], pred_y_mean_i[3], pred_y_mean_i[5]] - z_value * np.array([pred_y_std_i[1], pred_y_std_i[3], pred_y_std_i[5]])\n",
    "    std_fill_xs = np.hstack((pred_xs_one_std_above_next, pred_xs_one_std_below_next[::-1]))\n",
    "    std_fill_ys = np.hstack((pred_ys_one_std_above_next, pred_ys_one_std_below_next[::-1]))\n",
    "\n",
    "    plt.figure(figsize=(10,10))\n",
    "    plt.plot(example_xs, example_ys, label='before')\n",
    "    plt.plot(example_xs_next, example_ys_next, label='after')\n",
    "    plt.plot(pred_xs_mean_next, pred_ys_mean_next, label='pred')\n",
    "    plt.fill(std_fill_xs, std_fill_ys, label='99% confidence region', alpha=0.4)\n",
    "    plt.quiver(test_x_i[4], test_x_i[5], test_u_i[0], test_u_i[1], label='u')\n",
    "    \n",
    "    plt.axis(\"equal\")\n",
    "    plt.xlabel(\"x (m)\")\n",
    "    plt.ylabel(\"y (m)\")\n",
    "    plt.legend(bbox_to_anchor=(1,1))"
   ]
  },
  {
   "cell_type": "code",
   "execution_count": 304,
   "metadata": {},
   "outputs": [
    {
     "data": {
      "image/png": "[encoded data removed]",
      "text/plain": [
       "<Figure size 720x720 with 1 Axes>"
      ]
     },
     "metadata": {},
     "output_type": "display_data"
    }
   ],
   "source": [
    "plot_test(m, 10, 'trained')"
   ]
  },
  {
   "cell_type": "code",
   "execution_count": 258,
   "metadata": {},
   "outputs": [],
   "source": [
    "def mean_total_node_position_error(model):\n",
    "    \"\"\" compute the euclidian distance for each node in pred_y[i] to each node in test_y[i], averaged over all i using the max likelihood prediction\"\"\"\n",
    "    pred_y_mean, pred_y_std = model.predict_f(combined_test_x)\n",
    "    total_node_error = np.linalg.norm(pred_y_mean[:, 0:2] - test_y[:, 0:2], axis=1) + \\\n",
    "                       np.linalg.norm(pred_y_mean[:, 2:4] - test_y[:, 2:4], axis=1) + \\\n",
    "                       np.linalg.norm(pred_y_mean[:, 4:6] - test_y[:, 4:6], axis=1)\n",
    "    return total_node_error.mean()\n",
    "    \n",
    "    \n",
    "def mean_likelihood(model):\n",
    "    \"\"\" compute the likelihood of test_y[i] under the prediction for test_x[i], averaged over all i \"\"\"\n",
    "    pred_y_mean, pred_y_std = model.predict_density(combined_test_x)\n",
    "    "
   ]
  },
  {
   "cell_type": "code",
   "execution_count": 223,
   "metadata": {},
   "outputs": [
    {
     "data": {
      "text/plain": [
       "0.2937552192293184"
      ]
     },
     "execution_count": 223,
     "metadata": {},
     "output_type": "execute_result"
    }
   ],
   "source": [
    "mean_total_node_position_error(m)"
   ]
  },
  {
   "cell_type": "code",
   "execution_count": 215,
   "metadata": {},
   "outputs": [],
   "source": [
    "pred_y_mean, pred_y_std = m.predict_f(combined_test_x)"
   ]
  },
  {
   "cell_type": "code",
   "execution_count": 217,
   "metadata": {},
   "outputs": [
    {
     "name": "stdout",
     "output_type": "stream",
     "text": [
      "0.06514911105017275\n"
     ]
    }
   ],
   "source": [
    "print(np.linalg.norm(pred_y_mean[0, 0:2]- test_y[0, 0:2]))"
   ]
  },
  {
   "cell_type": "code",
   "execution_count": null,
   "metadata": {},
   "outputs": [],
   "source": []
  }
 ],
 "metadata": {
  "kernelspec": {
   "display_name": "Python 3",
   "language": "python",
   "name": "python3"
  },
  "language_info": {
   "codemirror_mode": {
    "name": "ipython",
    "version": 3
   },
   "file_extension": ".py",
   "mimetype": "text/x-python",
   "name": "python",
   "nbconvert_exporter": "python",
   "pygments_lexer": "ipython3",
   "version": "3.7.3"
  }
 },
 "nbformat": 4,
 "nbformat_minor": 2
}
