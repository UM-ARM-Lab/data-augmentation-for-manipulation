{
 "cells": [
  {
   "cell_type": "code",
   "execution_count": 1,
   "id": "88aae3d3",
   "metadata": {},
   "outputs": [],
   "source": [
    "import numpy as np\n",
    "import matplotlib.pyplot as plt"
   ]
  },
  {
   "cell_type": "code",
   "execution_count": 63,
   "id": "bc7d34d3",
   "metadata": {},
   "outputs": [
    {
     "name": "stdout",
     "output_type": "stream",
     "text": [
      "Using matplotlib backend: Qt5Agg\n"
     ]
    },
    {
     "name": "stderr",
     "output_type": "stream",
     "text": [
      "<ipython-input-63-470afbf348af>:11: RuntimeWarning: invalid value encountered in log\n",
      "  y = np.maximum(-np.log(a*x+e), -np.log(a*k+e)) + np.log(a*k+e)\n",
      "<ipython-input-63-470afbf348af>:11: RuntimeWarning: invalid value encountered in log\n",
      "  y = np.maximum(-np.log(a*x+e), -np.log(a*k+e)) + np.log(a*k+e)\n",
      "<ipython-input-63-470afbf348af>:11: RuntimeWarning: invalid value encountered in log\n",
      "  y = np.maximum(-np.log(a*x+e), -np.log(a*k+e)) + np.log(a*k+e)\n",
      "<ipython-input-63-470afbf348af>:11: RuntimeWarning: invalid value encountered in log\n",
      "  y = np.maximum(-np.log(a*x+e), -np.log(a*k+e)) + np.log(a*k+e)\n"
     ]
    },
    {
     "data": {
      "text/plain": [
       "<matplotlib.legend.Legend at 0x7fcb5c565640>"
      ]
     },
     "execution_count": 63,
     "metadata": {},
     "output_type": "execute_result"
    }
   ],
   "source": [
    "%matplotlib\n",
    "\n",
    "plt.axvline(0, c='k')\n",
    "plt.axhline(0, c='k')\n",
    "\n",
    "x = np.linspace(-0.05, 0.5, 1000)\n",
    "k = 0.2\n",
    "e = 0.01\n",
    "\n",
    "for a in np.linspace(0.1, 1.0, 5):\n",
    "    y = np.maximum(-np.log(a*x+e), -np.log(a*k+e)) + np.log(a*k+e)\n",
    "    plt.plot(x,y, label=f'{a:=}')\n",
    "plt.legend()\n"
   ]
  },
  {
   "cell_type": "code",
   "execution_count": 31,
   "id": "59214e0c",
   "metadata": {},
   "outputs": [
    {
     "data": {
      "text/plain": [
       "4.605170185988091"
      ]
     },
     "execution_count": 31,
     "metadata": {},
     "output_type": "execute_result"
    }
   ],
   "source": [
    "-np.log(k*k)"
   ]
  },
  {
   "cell_type": "code",
   "execution_count": 64,
   "id": "65866447",
   "metadata": {},
   "outputs": [
    {
     "data": {
      "text/plain": [
       "0.0001"
      ]
     },
     "execution_count": 64,
     "metadata": {},
     "output_type": "execute_result"
    }
   ],
   "source": [
    "np.square(0.01)"
   ]
  },
  {
   "cell_type": "code",
   "execution_count": null,
   "id": "0f8fa071",
   "metadata": {},
   "outputs": [],
   "source": []
  }
 ],
 "metadata": {
  "kernelspec": {
   "display_name": "Python 3",
   "language": "python",
   "name": "python3"
  },
  "language_info": {
   "codemirror_mode": {
    "name": "ipython",
    "version": 3
   },
   "file_extension": ".py",
   "mimetype": "text/x-python",
   "name": "python",
   "nbconvert_exporter": "python",
   "pygments_lexer": "ipython3",
   "version": "3.8.5"
  }
 },
 "nbformat": 4,
 "nbformat_minor": 5
}
