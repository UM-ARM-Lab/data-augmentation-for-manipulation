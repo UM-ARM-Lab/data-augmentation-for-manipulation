{
 "cells": [
  {
   "cell_type": "code",
   "execution_count": 1,
   "metadata": {},
   "outputs": [],
   "source": [
    "import tensorflow as tf\n",
    "tf.compat.v1.enable_eager_execution()"
   ]
  },
  {
   "cell_type": "code",
   "execution_count": 3,
   "metadata": {},
   "outputs": [],
   "source": [
    "import numpy as np\n",
    "from link_bot_data.link_bot_state_space_dataset import DynamicsDataset\n",
    "import pathlib\n",
    "import matplotlib.pyplot as plt"
   ]
  },
  {
   "cell_type": "code",
   "execution_count": 10,
   "metadata": {},
   "outputs": [
    {
     "name": "stdout",
     "output_type": "stream",
     "text": [
      "\u001b[33msequence length not specified, assuming hparams sequence length: 50\u001b[39m\n"
     ]
    }
   ],
   "source": [
    "paths = [pathlib.Path(\"./fwd_model_data/highv_90de2ecc0a_obs-cnn1/\")]\n",
    "dataset = DynamicsDataset(paths)\n",
    "tf_dataset = dataset.get_datasets(mode='test',\n",
    "                                  seed=1,\n",
    "                                  batch_size=None,\n",
    "                                  shuffle=False)"
   ]
  },
  {
   "cell_type": "code",
   "execution_count": 12,
   "metadata": {},
   "outputs": [
    {
     "name": "stdout",
     "output_type": "stream",
     "text": [
      "state_s (49, 22)\n",
      "resolution_s (49, 1)\n",
      "actual_local_env_s/origin (49, 2)\n",
      "actual_local_env_s/extent (49, 4)\n",
      "actual_local_env_s/env (49, 50, 50)\n",
      "action_s (49, 2)\n",
      "full_env/origin (2,)\n",
      "full_env/extent (4,)\n",
      "full_env/env (200, 200)\n"
     ]
    }
   ],
   "source": [
    "velocities = []\n",
    "errors = []\n",
    "for example, _ in tf_dataset:\n",
    "    example['state_s']\n",
    "    for k, v in example.items():\n",
    "        print(k, v.shape)\n",
    "    break"
   ]
  },
  {
   "cell_type": "code",
   "execution_count": null,
   "metadata": {},
   "outputs": [],
   "source": []
  }
 ],
 "metadata": {
  "kernelspec": {
   "display_name": "Python 3",
   "language": "python",
   "name": "python3"
  },
  "language_info": {
   "codemirror_mode": {
    "name": "ipython",
    "version": 3
   },
   "file_extension": ".py",
   "mimetype": "text/x-python",
   "name": "python",
   "nbconvert_exporter": "python",
   "pygments_lexer": "ipython3",
   "version": "3.7.3"
  }
 },
 "nbformat": 4,
 "nbformat_minor": 2
}
